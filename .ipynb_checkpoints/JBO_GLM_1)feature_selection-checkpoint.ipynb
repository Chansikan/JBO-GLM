{
 "cells": [
  {
   "cell_type": "markdown",
   "metadata": {
    "id": "D5dgpxWZTPhB"
   },
   "source": [
    "# Radiomics to diagnose single brain tumors: GBM vs. Metastasis vs. Lymphoma\n",
    "\n",
    "### *JBO, Chansik An, and Sung Soo Ahn*"
   ]
  },
  {
   "cell_type": "markdown",
   "metadata": {
    "id": "muhActIoTp7y"
   },
   "source": [
    "## 1) Data cleaning\n",
    "\n"
   ]
  },
  {
   "cell_type": "code",
   "execution_count": 1,
   "metadata": {
    "id": "hJA1KMZkmdH0"
   },
   "outputs": [],
   "source": [
    "import numpy as np\n",
    "import pandas as pd\n",
    "from sklearn.model_selection import train_test_split"
   ]
  },
  {
   "cell_type": "code",
   "execution_count": 2,
   "metadata": {
    "colab": {
     "base_uri": "https://localhost:8080/"
    },
    "id": "QP0vhazYmdH6",
    "outputId": "7d16862e-c189-4edd-e551-4a4c17d973a8"
   },
   "outputs": [
    {
     "name": "stdout",
     "output_type": "stream",
     "text": [
      "Shapes of CE_T1, CE_T2, PeriT2_T1, PeriT2_T2, and y: \n",
      " (538, 93) (538, 93) (538, 93) (538, 93) (538,) \n",
      "\n",
      "Check if all the feature names are consistent: True \n",
      "\n",
      "28 shape features are redundant for CE and Peri T2 masks.\n",
      "Names of redundant shape features, from T2 images: \n",
      " ['mask2_T2_shape_Elongation' 'mask2_T2_shape_Flatness'\n",
      " 'mask2_T2_shape_LeastAxisLength' 'mask2_T2_shape_MajorAxisLength'\n",
      " 'mask2_T2_shape_Maximum2DDiameterColumn'\n",
      " 'mask2_T2_shape_Maximum2DDiameterRow'\n",
      " 'mask2_T2_shape_Maximum2DDiameterSlice'\n",
      " 'mask2_T2_shape_Maximum3DDiameter' 'mask2_T2_shape_MeshVolume'\n",
      " 'mask2_T2_shape_MinorAxisLength' 'mask2_T2_shape_Sphericity'\n",
      " 'mask2_T2_shape_SurfaceArea' 'mask2_T2_shape_SurfaceVolumeRatio'\n",
      " 'mask2_T2_shape_VoxelVolume'] ['mask1_T2_shape_Elongation' 'mask1_T2_shape_Flatness'\n",
      " 'mask1_T2_shape_LeastAxisLength' 'mask1_T2_shape_MajorAxisLength'\n",
      " 'mask1_T2_shape_Maximum2DDiameterColumn'\n",
      " 'mask1_T2_shape_Maximum2DDiameterRow'\n",
      " 'mask1_T2_shape_Maximum2DDiameterSlice'\n",
      " 'mask1_T2_shape_Maximum3DDiameter' 'mask1_T2_shape_MeshVolume'\n",
      " 'mask1_T2_shape_MinorAxisLength' 'mask1_T2_shape_Sphericity'\n",
      " 'mask1_T2_shape_SurfaceArea' 'mask1_T2_shape_SurfaceVolumeRatio'\n",
      " 'mask1_T2_shape_VoxelVolume'] \n",
      "\n",
      "Shapes of CE mask and PeriT2 mask datasets without redundancy: (538, 172) (538, 172) \n",
      "\n",
      "Check if the indices of X and y are consistent in order: True\n"
     ]
    }
   ],
   "source": [
    "# load and dissect the dataset, and do some sanity checks\n",
    "df = pd.read_csv('Data/main_data(JBO).csv', index_col='id')\n",
    "\n",
    "df_Peri_T1 = df.filter(like='mask1_T1', axis=1)\n",
    "df_Peri_T2 = df.filter(like='mask1_T2', axis=1)\n",
    "df_CE_T1 = df.filter(like='mask2_T1', axis=1)\n",
    "df_CE_T2 = df.filter(like='mask2_T2', axis=1)\n",
    "y = df['mask2_target']\n",
    "print('Shapes of CE_T1, CE_T2, PeriT2_T1, PeriT2_T2, and y: \\n',\n",
    "      df_CE_T1.shape, df_CE_T2.shape, df_Peri_T1.shape, df_Peri_T2.shape, \n",
    "      y.shape, '\\n')\n",
    "\n",
    "print('Check if all the feature names are consistent:', \n",
    "  sorted([col_name.split('_', 2)[2] for col_name in df_CE_T1.columns]) == \\\n",
    "  sorted([col_name.split('_', 2)[2] for col_name in df_CE_T2.columns]) == \\\n",
    "  sorted([col_name.split('_', 2)[2] for col_name in df_Peri_T1.columns]) == \\\n",
    "  sorted([col_name.split('_', 2)[2] for col_name in df_Peri_T2.columns]), '\\n'\n",
    ")\n",
    "\n",
    "# check redundant 'shape' features from T2 images\n",
    "df_Peri_T2_shape = df_Peri_T2.filter(like='mask1_T2_shape')\n",
    "df_CE_T2_shape = df_CE_T2.filter(like='mask2_T2_shape')\n",
    "\n",
    "print('{0} shape features are redundant for CE and Peri T2 masks.'.\n",
    "      format(df_CE_T2_shape.shape[1] + df_Peri_T2_shape.shape[1]))\n",
    "print('Names of redundant shape features, from T2 images: \\n',\n",
    "      df_CE_T2_shape.columns.values, df_Peri_T2_shape.columns.values, '\\n')\n",
    "\n",
    "# datasets after excluding redudant shape features\n",
    "df_CE_no_redundancy = pd.concat(\n",
    "    [df_CE_T1, df_CE_T2.drop(df_CE_T2_shape.columns, axis=1)], axis=1)\n",
    "df_Peri_no_redundancy = pd.concat(\n",
    "    [df_Peri_T1, df_Peri_T2.drop(df_Peri_T2_shape.columns, axis=1)], axis=1)\n",
    "print('Shapes of CE mask and PeriT2 mask datasets without redundancy:',\n",
    "      df_CE_no_redundancy.shape, df_Peri_no_redundancy.shape, '\\n')\n",
    "\n",
    "# finalize the dataset\n",
    "X = pd.concat([df_CE_no_redundancy, df_Peri_no_redundancy], axis=1)\n",
    "print('Check if the indices of X and y are consistent in order:',\n",
    "      np.mean(X.index == y.index) == 1)\n",
    "\n",
    "X.reset_index(drop=True, inplace=True)\n",
    "y.reset_index(drop=True, inplace=True)\n",
    "\n",
    "final_df = pd.concat([X, y], axis=1)"
   ]
  },
  {
   "cell_type": "code",
   "execution_count": 3,
   "metadata": {},
   "outputs": [
    {
     "name": "stdout",
     "output_type": "stream",
     "text": [
      "Shapes of X_train, X_test, y_train, y_test: \n",
      " (376, 344) (162, 344) (376,) (162,) \n",
      "\n",
      "No. of cases according to the diagnosis \n",
      "\n",
      " In the training set: \n",
      " mask2_target\n",
      "GBM         210\n",
      "lymphoma     51\n",
      "meta        115\n",
      "dtype: int64 \n",
      "\n",
      " In the test set: \n",
      " mask2_target\n",
      "GBM         90\n",
      "lymphoma    22\n",
      "meta        50\n",
      "dtype: int64 \n",
      "\n"
     ]
    }
   ],
   "source": [
    "# Stratified train-test splitting\n",
    "X_train, X_test, y_train, y_test = \\\n",
    "    train_test_split(X, y, test_size=0.3, stratify=y, random_state=42)\n",
    "\n",
    "print('Shapes of X_train, X_test, y_train, y_test: \\n',\n",
    "      X_train.shape, X_test.shape, y_train.shape, y_test.shape, '\\n')\n",
    "\n",
    "df_train = pd.concat([X_train, y_train], axis=1)\n",
    "df_train.columns\n",
    "df_test = pd.concat([X_test, y_test], axis=1)\n",
    "\n",
    "print('No. of cases according to the diagnosis \\n\\n',\n",
    "      'In the training set: \\n',\n",
    "      df_train.groupby(['mask2_target']).size(), '\\n\\n',\n",
    "      'In the test set: \\n', \n",
    "      df_test.groupby(['mask2_target']).size(), '\\n')"
   ]
  },
  {
   "cell_type": "markdown",
   "metadata": {},
   "source": [
    "## Feature"
   ]
  },
  {
   "cell_type": "code",
   "execution_count": 5,
   "metadata": {},
   "outputs": [
    {
     "name": "stdout",
     "output_type": "stream",
     "text": [
      "Now working on selecting 1 feature(s)\n",
      "...CV score: mean, 0.453  / std, 0.02\n",
      "...Elapsed time: 0:00:40.182585\n",
      "Now working on selecting 2 feature(s)\n",
      "...CV score: mean, 0.482  / std, 0.035\n",
      "...Elapsed time: 0:01:12.077213\n",
      "Now working on selecting 3 feature(s)\n",
      "...CV score: mean, 0.532  / std, 0.035\n",
      "...Elapsed time: 0:01:46.020710\n",
      "Now working on selecting 4 feature(s)\n",
      "...CV score: mean, 0.571  / std, 0.027\n",
      "...Elapsed time: 0:02:25.345626\n",
      "Now working on selecting 5 feature(s)\n",
      "...CV score: mean, 0.573  / std, 0.053\n",
      "...Elapsed time: 0:02:53.778841\n",
      "Now working on selecting 6 feature(s)\n",
      "...CV score: mean, 0.578  / std, 0.036\n",
      "...Elapsed time: 0:03:28.396393\n",
      "Now working on selecting 7 feature(s)\n",
      "...CV score: mean, 0.581  / std, 0.058\n",
      "...Elapsed time: 0:04:05.766474\n",
      "Now working on selecting 8 feature(s)\n",
      "...CV score: mean, 0.592  / std, 0.03\n",
      "...Elapsed time: 0:04:42.238536\n",
      "Now working on selecting 9 feature(s)\n",
      "...CV score: mean, 0.609  / std, 0.05\n",
      "...Elapsed time: 0:05:19.022528\n",
      "Now working on selecting 10 feature(s)\n",
      "...CV score: mean, 0.621  / std, 0.05\n",
      "...Elapsed time: 0:05:57.791099\n",
      "Now working on selecting 11 feature(s)\n",
      "...CV score: mean, 0.628  / std, 0.039\n",
      "...Elapsed time: 0:06:36.912272\n",
      "Now working on selecting 12 feature(s)\n",
      "...CV score: mean, 0.636  / std, 0.041\n",
      "...Elapsed time: 0:07:16.941591\n",
      "Now working on selecting 13 feature(s)\n",
      "...CV score: mean, 0.643  / std, 0.034\n",
      "...Elapsed time: 0:07:54.511988\n",
      "Now working on selecting 14 feature(s)\n",
      "...CV score: mean, 0.637  / std, 0.041\n",
      "...Elapsed time: 0:08:33.618892\n",
      "Now working on selecting 15 feature(s)\n",
      "...CV score: mean, 0.636  / std, 0.022\n",
      "...Elapsed time: 0:09:19.090067\n",
      "Now working on selecting 16 feature(s)\n",
      "...CV score: mean, 0.658  / std, 0.053\n",
      "...Elapsed time: 0:10:02.065384\n",
      "Now working on selecting 17 feature(s)\n",
      "...CV score: mean, 0.655  / std, 0.054\n",
      "...Elapsed time: 0:10:45.098982\n",
      "Now working on selecting 18 feature(s)\n",
      "...CV score: mean, 0.656  / std, 0.053\n",
      "...Elapsed time: 0:11:28.337866\n",
      "Now working on selecting 19 feature(s)\n",
      "...CV score: mean, 0.656  / std, 0.053\n",
      "...Elapsed time: 0:12:17.338595\n",
      "Now working on selecting 20 feature(s)\n",
      "...CV score: mean, 0.652  / std, 0.058\n",
      "...Elapsed time: 0:12:56.401622\n",
      "Now working on selecting 21 feature(s)\n",
      "...CV score: mean, 0.633  / std, 0.042\n",
      "...Elapsed time: 0:13:45.723185\n",
      "Now working on selecting 22 feature(s)\n",
      "...CV score: mean, 0.633  / std, 0.042\n",
      "...Elapsed time: 0:14:34.845939\n",
      "Now working on selecting 23 feature(s)\n",
      "...CV score: mean, 0.644  / std, 0.027\n",
      "...Elapsed time: 0:15:20.788636\n",
      "Now working on selecting 24 feature(s)\n",
      "...CV score: mean, 0.642  / std, 0.05\n",
      "...Elapsed time: 0:16:13.494481\n",
      "Now working on selecting 25 feature(s)\n",
      "...CV score: mean, 0.638  / std, 0.051\n",
      "...Elapsed time: 0:16:57.881931\n",
      "Now working on selecting 26 feature(s)\n",
      "...CV score: mean, 0.633  / std, 0.056\n",
      "...Elapsed time: 0:17:50.698177\n",
      "Now working on selecting 27 feature(s)\n",
      "...CV score: mean, 0.63  / std, 0.054\n",
      "...Elapsed time: 0:18:40.306496\n",
      "Now working on selecting 28 feature(s)\n",
      "...CV score: mean, 0.623  / std, 0.058\n",
      "...Elapsed time: 0:19:30.899969\n",
      "Now working on selecting 29 feature(s)\n",
      "...CV score: mean, 0.624  / std, 0.043\n",
      "...Elapsed time: 0:20:28.817946\n",
      "Now working on selecting 30 feature(s)\n",
      "...CV score: mean, 0.637  / std, 0.03\n",
      "...Elapsed time: 0:21:21.148928\n"
     ]
    }
   ],
   "source": [
    "#!pip install -U scikit-learn \n",
    "import numpy as np\n",
    "from datetime import datetime\n",
    "from sklearn.feature_selection import SequentialFeatureSelector\n",
    "from sklearn.model_selection import cross_val_score\n",
    "from sklearn.ensemble import RandomForestClassifier, AdaBoostClassifier\n",
    "\n",
    "clf = AdaBoostClassifier(random_state=42)\n",
    "sfs_results = dict()\n",
    "\n",
    "for n_feat in range(1, 31):\n",
    "    stime = datetime.now()\n",
    "    print('Now working on selecting {0} feature(s)'.format(n_feat))\n",
    "    \n",
    "    sfs = SequentialFeatureSelector(clf, \n",
    "        n_features_to_select=n_feat, direction='forward', \n",
    "        scoring='balanced_accuracy', cv=5, n_jobs=-1)\n",
    "    sfs.fit(X_train, y_train)\n",
    "    \n",
    "    X_train_selected = sfs.transform(X_train)\n",
    "    selected_feat_names = list(X_train.columns[sfs.support_])\n",
    "    \n",
    "    cv_scores = cross_val_score(clf, X_train_selected, y_train, \n",
    "                                scoring='balanced_accuracy', cv=5) \n",
    "    m, sd = np.mean(cv_scores), np.std(cv_scores)\n",
    "    print('...CV score: mean,', round(m, 3), ' /', 'std,', round(sd, 3))\n",
    "    \n",
    "    sfs_results[n_feat] = [m, sd, selected_feat_names]\n",
    "    \n",
    "    ftime = datetime.now()\n",
    "    print('...Elapsed time:', ftime - stime)"
   ]
  },
  {
   "cell_type": "code",
   "execution_count": 6,
   "metadata": {},
   "outputs": [],
   "source": [
    "# create dataframe for plotting\n",
    "df_plot = pd.DataFrame()\n",
    "\n",
    "for key, values in sfs_results.items():\n",
    "    row = pd.DataFrame({'No_of_features': key, \n",
    "                        'Mean_score': values[0],\n",
    "                        'SD_score': values[1]}, index=[0])\n",
    "    df_plot = pd.concat([df_plot, row], axis=0)\n",
    "\n",
    "df_plot.to_csv('Data/ADA_sfs_results.csv')\n"
   ]
  },
  {
   "cell_type": "code",
   "execution_count": 7,
   "metadata": {},
   "outputs": [
    {
     "data": {
      "text/plain": [
       "<ErrorbarContainer object of 3 artists>"
      ]
     },
     "execution_count": 7,
     "metadata": {},
     "output_type": "execute_result"
    },
    {
     "data": {
      "image/png": "[encoded data removed]",
      "text/plain": [
       "<Figure size 432x288 with 1 Axes>"
      ]
     },
     "metadata": {
      "needs_background": "light"
     },
     "output_type": "display_data"
    }
   ],
   "source": [
    "import numpy as np\n",
    "import matplotlib.pyplot as plt\n",
    "\n",
    "n_feat = df_plot['No_of_features']\n",
    "m = df_plot['Mean_score']\n",
    "err = df_plot['SD_score'] * 1.96 / np.sqrt(len(df_plot)) * 2\n",
    "\n",
    "plt.plot(n_feat, m)\n",
    "plt.errorbar(n_feat, m, yerr=err, fmt='o')\n"
   ]
  },
  {
   "cell_type": "code",
   "execution_count": 9,
   "metadata": {
    "collapsed": true,
    "jupyter": {
     "outputs_hidden": true
    }
   },
   "outputs": [
    {
     "name": "stdout",
     "output_type": "stream",
     "text": [
      "Now working on selecting 1 feature(s)\n",
      "...CV score: mean, 0.498  / std, 0.052\n",
      "...Elapsed time: 0:01:03.642140\n",
      "Now working on selecting 2 feature(s)\n",
      "...CV score: mean, 0.529  / std, 0.044\n",
      "...Elapsed time: 0:02:05.588404\n",
      "Now working on selecting 3 feature(s)\n",
      "...CV score: mean, 0.561  / std, 0.076\n",
      "...Elapsed time: 0:03:07.201195\n",
      "Now working on selecting 4 feature(s)\n",
      "...CV score: mean, 0.579  / std, 0.037\n",
      "...Elapsed time: 0:04:13.820012\n",
      "Now working on selecting 5 feature(s)\n",
      "...CV score: mean, 0.595  / std, 0.062\n",
      "...Elapsed time: 0:05:17.032407\n",
      "Now working on selecting 6 feature(s)\n",
      "...CV score: mean, 0.624  / std, 0.061\n",
      "...Elapsed time: 0:06:22.401058\n",
      "Now working on selecting 7 feature(s)\n",
      "...CV score: mean, 0.628  / std, 0.052\n",
      "...Elapsed time: 0:07:27.162870\n",
      "Now working on selecting 8 feature(s)\n",
      "...CV score: mean, 0.64  / std, 0.067\n",
      "...Elapsed time: 0:08:31.422219\n",
      "Now working on selecting 9 feature(s)\n",
      "...CV score: mean, 0.677  / std, 0.065\n",
      "...Elapsed time: 0:09:39.138000\n",
      "Now working on selecting 10 feature(s)\n",
      "...CV score: mean, 0.698  / std, 0.069\n",
      "...Elapsed time: 0:10:48.781317\n",
      "Now working on selecting 11 feature(s)\n",
      "...CV score: mean, 0.696  / std, 0.09\n",
      "...Elapsed time: 0:11:57.792278\n",
      "Now working on selecting 12 feature(s)\n",
      "...CV score: mean, 0.68  / std, 0.098\n",
      "...Elapsed time: 0:13:06.603863\n",
      "Now working on selecting 13 feature(s)\n",
      "...CV score: mean, 0.695  / std, 0.055\n",
      "...Elapsed time: 0:14:17.553277\n",
      "Now working on selecting 14 feature(s)\n",
      "...CV score: mean, 0.697  / std, 0.066\n",
      "...Elapsed time: 0:15:21.363634\n",
      "Now working on selecting 15 feature(s)\n",
      "...CV score: mean, 0.682  / std, 0.089\n",
      "...Elapsed time: 0:16:31.242189\n",
      "Now working on selecting 16 feature(s)\n",
      "...CV score: mean, 0.692  / std, 0.067\n",
      "...Elapsed time: 0:17:47.041997\n",
      "Now working on selecting 17 feature(s)\n",
      "...CV score: mean, 0.692  / std, 0.057\n",
      "...Elapsed time: 0:19:00.335463\n",
      "Now working on selecting 18 feature(s)\n",
      "...CV score: mean, 0.697  / std, 0.067\n",
      "...Elapsed time: 0:20:08.910608\n",
      "Now working on selecting 19 feature(s)\n",
      "...CV score: mean, 0.678  / std, 0.065\n",
      "...Elapsed time: 0:21:18.807160\n",
      "Now working on selecting 20 feature(s)\n",
      "...CV score: mean, 0.695  / std, 0.075\n",
      "...Elapsed time: 0:22:35.202238\n",
      "Now working on selecting 21 feature(s)\n",
      "...CV score: mean, 0.684  / std, 0.057\n",
      "...Elapsed time: 0:23:47.272958\n",
      "Now working on selecting 22 feature(s)\n",
      "...CV score: mean, 0.674  / std, 0.078\n",
      "...Elapsed time: 0:24:59.910928\n",
      "Now working on selecting 23 feature(s)\n",
      "...CV score: mean, 0.667  / std, 0.061\n",
      "...Elapsed time: 0:26:16.797103\n",
      "Now working on selecting 24 feature(s)\n",
      "...CV score: mean, 0.68  / std, 0.096\n",
      "...Elapsed time: 0:27:26.035821\n",
      "Now working on selecting 25 feature(s)\n",
      "...CV score: mean, 0.684  / std, 0.063\n",
      "...Elapsed time: 0:28:48.776192\n",
      "Now working on selecting 26 feature(s)\n",
      "...CV score: mean, 0.677  / std, 0.063\n",
      "...Elapsed time: 0:30:11.940753\n",
      "Now working on selecting 27 feature(s)\n",
      "...CV score: mean, 0.676  / std, 0.077\n",
      "...Elapsed time: 0:31:22.900900\n",
      "Now working on selecting 28 feature(s)\n",
      "...CV score: mean, 0.687  / std, 0.07\n",
      "...Elapsed time: 0:32:44.070482\n",
      "Now working on selecting 29 feature(s)\n",
      "...CV score: mean, 0.681  / std, 0.077\n",
      "...Elapsed time: 0:33:57.738694\n",
      "Now working on selecting 30 feature(s)\n",
      "...CV score: mean, 0.686  / std, 0.081\n",
      "...Elapsed time: 0:35:27.376269\n",
      "Now working on selecting 31 feature(s)\n",
      "...CV score: mean, 0.706  / std, 0.075\n",
      "...Elapsed time: 0:36:39.917107\n",
      "Now working on selecting 32 feature(s)\n",
      "...CV score: mean, 0.701  / std, 0.075\n",
      "...Elapsed time: 0:38:00.174854\n",
      "Now working on selecting 33 feature(s)\n",
      "...CV score: mean, 0.687  / std, 0.079\n",
      "...Elapsed time: 0:39:18.801755\n",
      "Now working on selecting 34 feature(s)\n",
      "...CV score: mean, 0.68  / std, 0.081\n",
      "...Elapsed time: 0:40:50.036254\n",
      "Now working on selecting 35 feature(s)\n",
      "...CV score: mean, 0.68  / std, 0.071\n",
      "...Elapsed time: 0:42:03.728207\n",
      "Now working on selecting 36 feature(s)\n",
      "...CV score: mean, 0.678  / std, 0.093\n",
      "...Elapsed time: 0:43:24.459313\n",
      "Now working on selecting 37 feature(s)\n",
      "...CV score: mean, 0.685  / std, 0.079\n",
      "...Elapsed time: 0:44:54.735847\n",
      "Now working on selecting 38 feature(s)\n",
      "...CV score: mean, 0.682  / std, 0.089\n",
      "...Elapsed time: 0:46:18.844967\n",
      "Now working on selecting 39 feature(s)\n",
      "...CV score: mean, 0.688  / std, 0.082\n",
      "...Elapsed time: 0:47:49.489556\n",
      "Now working on selecting 40 feature(s)\n",
      "...CV score: mean, 0.67  / std, 0.054\n",
      "...Elapsed time: 0:49:17.729807\n",
      "Now working on selecting 41 feature(s)\n",
      "...CV score: mean, 0.663  / std, 0.095\n",
      "...Elapsed time: 0:50:50.057213\n",
      "Now working on selecting 42 feature(s)\n",
      "...CV score: mean, 0.666  / std, 0.07\n",
      "...Elapsed time: 0:52:17.455454\n",
      "Now working on selecting 43 feature(s)\n",
      "...CV score: mean, 0.684  / std, 0.084\n",
      "...Elapsed time: 0:53:47.407228\n",
      "Now working on selecting 44 feature(s)\n",
      "...CV score: mean, 0.663  / std, 0.088\n",
      "...Elapsed time: 0:55:15.064285\n",
      "Now working on selecting 45 feature(s)\n",
      "...CV score: mean, 0.674  / std, 0.065\n",
      "...Elapsed time: 0:56:48.851752\n",
      "Now working on selecting 46 feature(s)\n",
      "...CV score: mean, 0.698  / std, 0.077\n",
      "...Elapsed time: 0:58:15.247243\n",
      "Now working on selecting 47 feature(s)\n",
      "...CV score: mean, 0.674  / std, 0.091\n",
      "...Elapsed time: 0:59:46.211672\n",
      "Now working on selecting 48 feature(s)\n",
      "...CV score: mean, 0.667  / std, 0.063\n",
      "...Elapsed time: 1:01:18.420551\n",
      "Now working on selecting 49 feature(s)\n",
      "...CV score: mean, 0.663  / std, 0.065\n",
      "...Elapsed time: 1:03:04.365211\n",
      "Now working on selecting 50 feature(s)\n",
      "...CV score: mean, 0.676  / std, 0.092\n",
      "...Elapsed time: 1:04:45.252012\n"
     ]
    }
   ],
   "source": [
    "# Random Forest\n",
    "clf = RandomForestClassifier(random_state=42)\n",
    "sfs_results = dict()\n",
    "\n",
    "for n_feat in range(1, 51):\n",
    "    stime = datetime.now()\n",
    "    print('Now working on selecting {0} feature(s)'.format(n_feat))\n",
    "    \n",
    "    sfs = SequentialFeatureSelector(clf, \n",
    "        n_features_to_select=n_feat, direction='forward', \n",
    "        scoring='balanced_accuracy', cv=5, n_jobs=-1)\n",
    "    sfs.fit(X_train, y_train)\n",
    "    \n",
    "    X_train_selected = sfs.transform(X_train)\n",
    "    selected_feat_names = list(X_train.columns[sfs.support_])\n",
    "    \n",
    "    cv_scores = cross_val_score(clf, X_train_selected, y_train, \n",
    "                                scoring='balanced_accuracy', cv=5) \n",
    "    m, sd = np.mean(cv_scores), np.std(cv_scores)\n",
    "    print('...CV score: mean,', round(m, 3), ' /', 'std,', round(sd, 3))\n",
    "    \n",
    "    sfs_results[n_feat] = [m, sd, selected_feat_names]\n",
    "    \n",
    "    ftime = datetime.now()\n",
    "    print('...Elapsed time:', ftime - stime)\n",
    "    \n"
   ]
  },
  {
   "cell_type": "code",
   "execution_count": 12,
   "metadata": {},
   "outputs": [],
   "source": [
    "# create dataframe for plotting\n",
    "df_plot = pd.DataFrame()\n",
    "\n",
    "for key, values in sfs_results.items():\n",
    "    row = pd.DataFrame({'No_of_features': key, \n",
    "                        'Mean_score': values[0],\n",
    "                        'SD_score': values[1]}, index=[0])\n",
    "    df_plot = pd.concat([df_plot, row], axis=0)\n",
    "\n",
    "df_plot.to_csv('Data/RF_sfs_results.csv')\n"
   ]
  },
  {
   "cell_type": "code",
   "execution_count": 11,
   "metadata": {},
   "outputs": [
    {
     "data": {
      "text/plain": [
       "<ErrorbarContainer object of 3 artists>"
      ]
     },
     "execution_count": 11,
     "metadata": {},
     "output_type": "execute_result"
    },
    {
     "data": {
      "image/png": "[encoded data removed]",
      "text/plain": [
       "<Figure size 432x288 with 1 Axes>"
      ]
     },
     "metadata": {
      "needs_background": "light"
     },
     "output_type": "display_data"
    }
   ],
   "source": [
    "import numpy as np\n",
    "import matplotlib.pyplot as plt\n",
    "\n",
    "n_feat = df_plot['No_of_features']\n",
    "m = df_plot['Mean_score']\n",
    "err = df_plot['SD_score'] * 1.96 / np.sqrt(len(df_plot)) * 2\n",
    "\n",
    "plt.plot(n_feat, m)\n",
    "plt.errorbar(n_feat, m, yerr=err, fmt='o')\n"
   ]
  },
  {
   "cell_type": "markdown",
   "metadata": {
    "id": "eXfCQdJCnaOp"
   },
   "source": [
    "## 2) Exploratory data analysis"
   ]
  },
  {
   "cell_type": "code",
   "execution_count": 46,
   "metadata": {
    "id": "6em0U8HWsbm2"
   },
   "outputs": [],
   "source": [
    "from pandas_profiling import ProfileReport"
   ]
  },
  {
   "cell_type": "code",
   "execution_count": 41,
   "metadata": {
    "colab": {
     "base_uri": "https://localhost:8080/",
     "height": 49,
     "referenced_widgets": [
      "7e905c5cd59a4d11881c639bc02f3d85",
      "a9ec7ea63e1641d0934955ad7ca900c1",
      "849a8df27e784470b92d9245b2a235a2",
      "48b75600377d4719a82af7344894e83a",
      "6c6633fd12df448baaec29ed9ff96c6a",
      "8478f674bd8a4cc693b54d85b587b9f0",
      "52fe795316b2492682661b84db8bc9a4",
      "fa9494d3dba1496287ebc0970bfa0160",
      "d11790b1292a40d3bde17d75deaff10c",
      "ac76127fdc43402bbffd10864946c8ca",
      "3a9cba127cda48f7a9941f4bcbf7c1af"
     ]
    },
    "id": "Vo-7STAZNhaQ",
    "outputId": "1069c4c1-041a-41b9-a02f-cb4ecf841ef4"
   },
   "outputs": [],
   "source": [
    "selectedFeat1 = list(pd.read_csv('Data/selFeat1.csv')['Feature'])\n",
    "lst = selectedFeat1 + ['mask2_target']\n",
    "df_selected = df_train.filter(lst) "
   ]
  },
  {
   "cell_type": "code",
   "execution_count": null,
   "metadata": {},
   "outputs": [],
   "source": [
    "profile = ProfileReport(df_selected, title = \"First profiling report\")\n",
    "profile.to_file(output_file='Data/profiling_result1.html')"
   ]
  },
  {
   "cell_type": "markdown",
   "metadata": {},
   "source": [
    "### Feature selection"
   ]
  },
  {
   "cell_type": "code",
   "execution_count": 47,
   "metadata": {},
   "outputs": [
    {
     "data": {
      "text/html": [
       "<div>\n",
       "<style scoped>\n",
       "    .dataframe tbody tr th:only-of-type {\n",
       "        vertical-align: middle;\n",
       "    }\n",
       "\n",
       "    .dataframe tbody tr th {\n",
       "        vertical-align: top;\n",
       "    }\n",
       "\n",
       "    .dataframe thead th {\n",
       "        text-align: right;\n",
       "    }\n",
       "</style>\n",
       "<table border=\"1\" class=\"dataframe\">\n",
       "  <thead>\n",
       "    <tr style=\"text-align: right;\">\n",
       "      <th></th>\n",
       "      <th>mean</th>\n",
       "      <th>std</th>\n",
       "    </tr>\n",
       "  </thead>\n",
       "  <tbody>\n",
       "    <tr>\n",
       "      <th>mask2_T2_shape_Sphericity</th>\n",
       "      <td>39.774354</td>\n",
       "      <td>10.029649</td>\n",
       "    </tr>\n",
       "    <tr>\n",
       "      <th>mask2_T1C_firstorder_Skewness</th>\n",
       "      <td>36.817725</td>\n",
       "      <td>8.882845</td>\n",
       "    </tr>\n",
       "    <tr>\n",
       "      <th>mask2_T2_shape_SurfaceArea</th>\n",
       "      <td>29.611904</td>\n",
       "      <td>7.259968</td>\n",
       "    </tr>\n",
       "    <tr>\n",
       "      <th>mask2_T1C_glszm_GrayLevelNonUniformity</th>\n",
       "      <td>28.186906</td>\n",
       "      <td>6.709893</td>\n",
       "    </tr>\n",
       "    <tr>\n",
       "      <th>mask2_T1C_ngtdm_Busyness</th>\n",
       "      <td>26.878637</td>\n",
       "      <td>6.567453</td>\n",
       "    </tr>\n",
       "  </tbody>\n",
       "</table>\n",
       "</div>"
      ],
      "text/plain": [
       "                                             mean        std\n",
       "mask2_T2_shape_Sphericity               39.774354  10.029649\n",
       "mask2_T1C_firstorder_Skewness           36.817725   8.882845\n",
       "mask2_T2_shape_SurfaceArea              29.611904   7.259968\n",
       "mask2_T1C_glszm_GrayLevelNonUniformity  28.186906   6.709893\n",
       "mask2_T1C_ngtdm_Busyness                26.878637   6.567453"
      ]
     },
     "execution_count": 47,
     "metadata": {},
     "output_type": "execute_result"
    }
   ],
   "source": [
    "fs_MI = pd.read_csv('feature_select_result_MI.csv', index_col=[0])\n",
    "fs_RF = pd.read_csv('feature_select_result_RF.csv', index_col=[0])\n",
    "fs_Fscore = pd.read_csv('feature_select_result_Fscore.csv', index_col=[0])\n",
    "\n",
    "result_dict = {'MI': fs_MI['mean'], 'RF': }\n",
    "fs_RF.head()\n",
    "fs_Fscore.head()"
   ]
  },
  {
   "cell_type": "code",
   "execution_count": 65,
   "metadata": {},
   "outputs": [],
   "source": [
    "fs_combined = fs_MI.join(fs_RF, lsuffix='M', rsuffix='R').join(fs_Fscore)\n",
    "fs_combined.columns = ['MI_mean', 'MI_std', 'RF_mean', 'RF_std', 'F_mean', 'F_std']\n",
    "fs_combined.to_csv('Data/VIM_combined.csv', index=True)"
   ]
  },
  {
   "cell_type": "code",
   "execution_count": 13,
   "metadata": {},
   "outputs": [],
   "source": [
    "\n"
   ]
  }
 ],
 "metadata": {
  "colab": {
   "collapsed_sections": [
    "-qwCtpPPmdIC",
    "jUhuGusQmdIE"
   ],
   "name": "JBO-GLM-1)feature_selection.ipynb의 사본",
   "provenance": []
  },
  "kernelspec": {
   "display_name": "Python 3",
   "language": "python",
   "name": "python3"
  },
  "language_info": {
   "codemirror_mode": {
    "name": "ipython",
    "version": 3
   },
   "file_extension": ".py",
   "mimetype": "text/x-python",
   "name": "python",
   "nbconvert_exporter": "python",
   "pygments_lexer": "ipython3",
   "version": "3.8.5"
  },
  "widgets": {
   "application/vnd.jupyter.widget-state+json": {
    "3a9cba127cda48f7a9941f4bcbf7c1af": {
     "model_module": "@jupyter-widgets/base",
     "model_name": "LayoutModel",
     "state": {
      "_model_module": "@jupyter-widgets/base",
      "_model_module_version": "1.2.0",
      "_model_name": "LayoutModel",
      "_view_count": null,
      "_view_module": "@jupyter-widgets/base",
      "_view_module_version": "1.2.0",
      "_view_name": "LayoutView",
      "align_content": null,
      "align_items": null,
      "align_self": null,
      "border": null,
      "bottom": null,
      "display": null,
      "flex": null,
      "flex_flow": null,
      "grid_area": null,
      "grid_auto_columns": null,
      "grid_auto_flow": null,
      "grid_auto_rows": null,
      "grid_column": null,
      "grid_gap": null,
      "grid_row": null,
      "grid_template_areas": null,
      "grid_template_columns": null,
      "grid_template_rows": null,
      "height": null,
      "justify_content": null,
      "justify_items": null,
      "left": null,
      "margin": null,
      "max_height": null,
      "max_width": null,
      "min_height": null,
      "min_width": null,
      "object_fit": null,
      "object_position": null,
      "order": null,
      "overflow": null,
      "overflow_x": null,
      "overflow_y": null,
      "padding": null,
      "right": null,
      "top": null,
      "visibility": null,
      "width": null
     }
    },
    "48b75600377d4719a82af7344894e83a": {
     "model_module": "@jupyter-widgets/controls",
     "model_name": "FloatProgressModel",
     "state": {
      "_dom_classes": [],
      "_model_module": "@jupyter-widgets/controls",
      "_model_module_version": "1.5.0",
      "_model_name": "FloatProgressModel",
      "_view_count": null,
      "_view_module": "@jupyter-widgets/controls",
      "_view_module_version": "1.5.0",
      "_view_name": "ProgressView",
      "bar_style": "",
      "description": "",
      "description_tooltip": null,
      "layout": "IPY_MODEL_d11790b1292a40d3bde17d75deaff10c",
      "max": 113,
      "min": 0,
      "orientation": "horizontal",
      "style": "IPY_MODEL_fa9494d3dba1496287ebc0970bfa0160",
      "value": 108
     }
    },
    "52fe795316b2492682661b84db8bc9a4": {
     "model_module": "@jupyter-widgets/base",
     "model_name": "LayoutModel",
     "state": {
      "_model_module": "@jupyter-widgets/base",
      "_model_module_version": "1.2.0",
      "_model_name": "LayoutModel",
      "_view_count": null,
      "_view_module": "@jupyter-widgets/base",
      "_view_module_version": "1.2.0",
      "_view_name": "LayoutView",
      "align_content": null,
      "align_items": null,
      "align_self": null,
      "border": null,
      "bottom": null,
      "display": null,
      "flex": null,
      "flex_flow": null,
      "grid_area": null,
      "grid_auto_columns": null,
      "grid_auto_flow": null,
      "grid_auto_rows": null,
      "grid_column": null,
      "grid_gap": null,
      "grid_row": null,
      "grid_template_areas": null,
      "grid_template_columns": null,
      "grid_template_rows": null,
      "height": null,
      "justify_content": null,
      "justify_items": null,
      "left": null,
      "margin": null,
      "max_height": null,
      "max_width": null,
      "min_height": null,
      "min_width": null,
      "object_fit": null,
      "object_position": null,
      "order": null,
      "overflow": null,
      "overflow_x": null,
      "overflow_y": null,
      "padding": null,
      "right": null,
      "top": null,
      "visibility": null,
      "width": null
     }
    },
    "6c6633fd12df448baaec29ed9ff96c6a": {
     "model_module": "@jupyter-widgets/controls",
     "model_name": "HTMLModel",
     "state": {
      "_dom_classes": [],
      "_model_module": "@jupyter-widgets/controls",
      "_model_module_version": "1.5.0",
      "_model_name": "HTMLModel",
      "_view_count": null,
      "_view_module": "@jupyter-widgets/controls",
      "_view_module_version": "1.5.0",
      "_view_name": "HTMLView",
      "description": "",
      "description_tooltip": null,
      "layout": "IPY_MODEL_3a9cba127cda48f7a9941f4bcbf7c1af",
      "placeholder": "​",
      "style": "IPY_MODEL_ac76127fdc43402bbffd10864946c8ca",
      "value": " 108/113 [00:38&lt;00:07,  1.53s/it, Get scatter matrix]"
     }
    },
    "7e905c5cd59a4d11881c639bc02f3d85": {
     "model_module": "@jupyter-widgets/controls",
     "model_name": "HBoxModel",
     "state": {
      "_dom_classes": [],
      "_model_module": "@jupyter-widgets/controls",
      "_model_module_version": "1.5.0",
      "_model_name": "HBoxModel",
      "_view_count": null,
      "_view_module": "@jupyter-widgets/controls",
      "_view_module_version": "1.5.0",
      "_view_name": "HBoxView",
      "box_style": "",
      "children": [
       "IPY_MODEL_849a8df27e784470b92d9245b2a235a2",
       "IPY_MODEL_48b75600377d4719a82af7344894e83a",
       "IPY_MODEL_6c6633fd12df448baaec29ed9ff96c6a"
      ],
      "layout": "IPY_MODEL_a9ec7ea63e1641d0934955ad7ca900c1"
     }
    },
    "8478f674bd8a4cc693b54d85b587b9f0": {
     "model_module": "@jupyter-widgets/controls",
     "model_name": "DescriptionStyleModel",
     "state": {
      "_model_module": "@jupyter-widgets/controls",
      "_model_module_version": "1.5.0",
      "_model_name": "DescriptionStyleModel",
      "_view_count": null,
      "_view_module": "@jupyter-widgets/base",
      "_view_module_version": "1.2.0",
      "_view_name": "StyleView",
      "description_width": ""
     }
    },
    "849a8df27e784470b92d9245b2a235a2": {
     "model_module": "@jupyter-widgets/controls",
     "model_name": "HTMLModel",
     "state": {
      "_dom_classes": [],
      "_model_module": "@jupyter-widgets/controls",
      "_model_module_version": "1.5.0",
      "_model_name": "HTMLModel",
      "_view_count": null,
      "_view_module": "@jupyter-widgets/controls",
      "_view_module_version": "1.5.0",
      "_view_name": "HTMLView",
      "description": "",
      "description_tooltip": null,
      "layout": "IPY_MODEL_52fe795316b2492682661b84db8bc9a4",
      "placeholder": "​",
      "style": "IPY_MODEL_8478f674bd8a4cc693b54d85b587b9f0",
      "value": "Summarize dataset:  96%"
     }
    },
    "a9ec7ea63e1641d0934955ad7ca900c1": {
     "model_module": "@jupyter-widgets/base",
     "model_name": "LayoutModel",
     "state": {
      "_model_module": "@jupyter-widgets/base",
      "_model_module_version": "1.2.0",
      "_model_name": "LayoutModel",
      "_view_count": null,
      "_view_module": "@jupyter-widgets/base",
      "_view_module_version": "1.2.0",
      "_view_name": "LayoutView",
      "align_content": null,
      "align_items": null,
      "align_self": null,
      "border": null,
      "bottom": null,
      "display": null,
      "flex": null,
      "flex_flow": null,
      "grid_area": null,
      "grid_auto_columns": null,
      "grid_auto_flow": null,
      "grid_auto_rows": null,
      "grid_column": null,
      "grid_gap": null,
      "grid_row": null,
      "grid_template_areas": null,
      "grid_template_columns": null,
      "grid_template_rows": null,
      "height": null,
      "justify_content": null,
      "justify_items": null,
      "left": null,
      "margin": null,
      "max_height": null,
      "max_width": null,
      "min_height": null,
      "min_width": null,
      "object_fit": null,
      "object_position": null,
      "order": null,
      "overflow": null,
      "overflow_x": null,
      "overflow_y": null,
      "padding": null,
      "right": null,
      "top": null,
      "visibility": null,
      "width": null
     }
    },
    "ac76127fdc43402bbffd10864946c8ca": {
     "model_module": "@jupyter-widgets/controls",
     "model_name": "DescriptionStyleModel",
     "state": {
      "_model_module": "@jupyter-widgets/controls",
      "_model_module_version": "1.5.0",
      "_model_name": "DescriptionStyleModel",
      "_view_count": null,
      "_view_module": "@jupyter-widgets/base",
      "_view_module_version": "1.2.0",
      "_view_name": "StyleView",
      "description_width": ""
     }
    },
    "d11790b1292a40d3bde17d75deaff10c": {
     "model_module": "@jupyter-widgets/base",
     "model_name": "LayoutModel",
     "state": {
      "_model_module": "@jupyter-widgets/base",
      "_model_module_version": "1.2.0",
      "_model_name": "LayoutModel",
      "_view_count": null,
      "_view_module": "@jupyter-widgets/base",
      "_view_module_version": "1.2.0",
      "_view_name": "LayoutView",
      "align_content": null,
      "align_items": null,
      "align_self": null,
      "border": null,
      "bottom": null,
      "display": null,
      "flex": null,
      "flex_flow": null,
      "grid_area": null,
      "grid_auto_columns": null,
      "grid_auto_flow": null,
      "grid_auto_rows": null,
      "grid_column": null,
      "grid_gap": null,
      "grid_row": null,
      "grid_template_areas": null,
      "grid_template_columns": null,
      "grid_template_rows": null,
      "height": null,
      "justify_content": null,
      "justify_items": null,
      "left": null,
      "margin": null,
      "max_height": null,
      "max_width": null,
      "min_height": null,
      "min_width": null,
      "object_fit": null,
      "object_position": null,
      "order": null,
      "overflow": null,
      "overflow_x": null,
      "overflow_y": null,
      "padding": null,
      "right": null,
      "top": null,
      "visibility": null,
      "width": null
     }
    },
    "fa9494d3dba1496287ebc0970bfa0160": {
     "model_module": "@jupyter-widgets/controls",
     "model_name": "ProgressStyleModel",
     "state": {
      "_model_module": "@jupyter-widgets/controls",
      "_model_module_version": "1.5.0",
      "_model_name": "ProgressStyleModel",
      "_view_count": null,
      "_view_module": "@jupyter-widgets/base",
      "_view_module_version": "1.2.0",
      "_view_name": "StyleView",
      "bar_color": null,
      "description_width": ""
     }
    }
   }
  }
 },
 "nbformat": 4,
 "nbformat_minor": 4
}
