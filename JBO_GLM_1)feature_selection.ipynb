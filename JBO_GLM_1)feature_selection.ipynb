{
 "cells": [
  {
   "cell_type": "markdown",
   "metadata": {
    "id": "D5dgpxWZTPhB"
   },
   "source": [
    "# Radiomics to diagnose single brain tumors: GBM vs. Metastasis vs. Lymphoma\n",
    "\n",
    "### *JBO, Chansik An, and Sung Soo Ahn*"
   ]
  },
  {
   "cell_type": "markdown",
   "metadata": {
    "id": "muhActIoTp7y"
   },
   "source": [
    "## 1) Data cleaning\n",
    "\n"
   ]
  },
  {
   "cell_type": "code",
   "execution_count": 1,
   "metadata": {
    "id": "hJA1KMZkmdH0",
    "jupyter": {
     "source_hidden": true
    }
   },
   "outputs": [],
   "source": [
    "import numpy as np\n",
    "import pandas as pd\n",
    "from sklearn.model_selection import train_test_split"
   ]
  },
  {
   "cell_type": "code",
   "execution_count": 2,
   "metadata": {
    "colab": {
     "base_uri": "https://localhost:8080/"
    },
    "collapsed": true,
    "id": "QP0vhazYmdH6",
    "jupyter": {
     "outputs_hidden": true,
     "source_hidden": true
    },
    "outputId": "7d16862e-c189-4edd-e551-4a4c17d973a8"
   },
   "outputs": [
    {
     "name": "stdout",
     "output_type": "stream",
     "text": [
      "Shapes of CE_T1, CE_T2, PeriT2_T1, PeriT2_T2, and y: \n",
      " (538, 93) (538, 93) (538, 93) (538, 93) (538,) \n",
      "\n",
      "Check if all the feature names are consistent: True \n",
      "\n",
      "28 shape features are redundant for CE and Peri T2 masks.\n",
      "Names of redundant shape features, from T2 images: \n",
      " ['mask2_T2_shape_Elongation' 'mask2_T2_shape_Flatness'\n",
      " 'mask2_T2_shape_LeastAxisLength' 'mask2_T2_shape_MajorAxisLength'\n",
      " 'mask2_T2_shape_Maximum2DDiameterColumn'\n",
      " 'mask2_T2_shape_Maximum2DDiameterRow'\n",
      " 'mask2_T2_shape_Maximum2DDiameterSlice'\n",
      " 'mask2_T2_shape_Maximum3DDiameter' 'mask2_T2_shape_MeshVolume'\n",
      " 'mask2_T2_shape_MinorAxisLength' 'mask2_T2_shape_Sphericity'\n",
      " 'mask2_T2_shape_SurfaceArea' 'mask2_T2_shape_SurfaceVolumeRatio'\n",
      " 'mask2_T2_shape_VoxelVolume'] ['mask1_T2_shape_Elongation' 'mask1_T2_shape_Flatness'\n",
      " 'mask1_T2_shape_LeastAxisLength' 'mask1_T2_shape_MajorAxisLength'\n",
      " 'mask1_T2_shape_Maximum2DDiameterColumn'\n",
      " 'mask1_T2_shape_Maximum2DDiameterRow'\n",
      " 'mask1_T2_shape_Maximum2DDiameterSlice'\n",
      " 'mask1_T2_shape_Maximum3DDiameter' 'mask1_T2_shape_MeshVolume'\n",
      " 'mask1_T2_shape_MinorAxisLength' 'mask1_T2_shape_Sphericity'\n",
      " 'mask1_T2_shape_SurfaceArea' 'mask1_T2_shape_SurfaceVolumeRatio'\n",
      " 'mask1_T2_shape_VoxelVolume'] \n",
      "\n",
      "Shapes of CE mask and PeriT2 mask datasets without redundancy: (538, 172) (538, 172) \n",
      "\n",
      "Check if the indices of X and y are consistent in order: True\n"
     ]
    }
   ],
   "source": [
    "# load and dissect the dataset, and do some sanity checks\n",
    "df = pd.read_csv('Data/main_data(JBO).csv', index_col='id')\n",
    "\n",
    "df_Peri_T1 = df.filter(like='mask1_T1', axis=1)\n",
    "df_Peri_T2 = df.filter(like='mask1_T2', axis=1)\n",
    "df_CE_T1 = df.filter(like='mask2_T1', axis=1)\n",
    "df_CE_T2 = df.filter(like='mask2_T2', axis=1)\n",
    "y = df['mask2_target']\n",
    "print('Shapes of CE_T1, CE_T2, PeriT2_T1, PeriT2_T2, and y: \\n',\n",
    "      df_CE_T1.shape, df_CE_T2.shape, df_Peri_T1.shape, df_Peri_T2.shape, \n",
    "      y.shape, '\\n')\n",
    "\n",
    "print('Check if all the feature names are consistent:', \n",
    "  sorted([col_name.split('_', 2)[2] for col_name in df_CE_T1.columns]) == \\\n",
    "  sorted([col_name.split('_', 2)[2] for col_name in df_CE_T2.columns]) == \\\n",
    "  sorted([col_name.split('_', 2)[2] for col_name in df_Peri_T1.columns]) == \\\n",
    "  sorted([col_name.split('_', 2)[2] for col_name in df_Peri_T2.columns]), '\\n'\n",
    ")\n",
    "\n",
    "# check redundant 'shape' features from T2 images\n",
    "df_Peri_T2_shape = df_Peri_T2.filter(like='mask1_T2_shape')\n",
    "df_CE_T2_shape = df_CE_T2.filter(like='mask2_T2_shape')\n",
    "\n",
    "print('{0} shape features are redundant for CE and Peri T2 masks.'.\n",
    "      format(df_CE_T2_shape.shape[1] + df_Peri_T2_shape.shape[1]))\n",
    "print('Names of redundant shape features, from T2 images: \\n',\n",
    "      df_CE_T2_shape.columns.values, df_Peri_T2_shape.columns.values, '\\n')\n",
    "\n",
    "# datasets after excluding redudant shape features\n",
    "df_CE_no_redundancy = pd.concat(\n",
    "    [df_CE_T1, df_CE_T2.drop(df_CE_T2_shape.columns, axis=1)], axis=1)\n",
    "df_Peri_no_redundancy = pd.concat(\n",
    "    [df_Peri_T1, df_Peri_T2.drop(df_Peri_T2_shape.columns, axis=1)], axis=1)\n",
    "print('Shapes of CE mask and PeriT2 mask datasets without redundancy:',\n",
    "      df_CE_no_redundancy.shape, df_Peri_no_redundancy.shape, '\\n')\n",
    "\n",
    "# finalize the dataset\n",
    "X = pd.concat([df_CE_no_redundancy, df_Peri_no_redundancy], axis=1)\n",
    "print('Check if the indices of X and y are consistent in order:',\n",
    "      np.mean(X.index == y.index) == 1)\n",
    "\n",
    "X.reset_index(drop=True, inplace=True)\n",
    "y.reset_index(drop=True, inplace=True)\n",
    "\n",
    "final_df = pd.concat([X, y], axis=1)"
   ]
  },
  {
   "cell_type": "code",
   "execution_count": 3,
   "metadata": {
    "collapsed": true,
    "jupyter": {
     "outputs_hidden": true,
     "source_hidden": true
    }
   },
   "outputs": [
    {
     "name": "stdout",
     "output_type": "stream",
     "text": [
      "Shapes of X_train, X_test, y_train, y_test: \n",
      " (376, 344) (162, 344) (376,) (162,) \n",
      "\n",
      "No. of cases according to the diagnosis \n",
      "\n",
      " In the training set: \n",
      " mask2_target\n",
      "GBM         210\n",
      "lymphoma     51\n",
      "meta        115\n",
      "dtype: int64 \n",
      "\n",
      " In the test set: \n",
      " mask2_target\n",
      "GBM         90\n",
      "lymphoma    22\n",
      "meta        50\n",
      "dtype: int64 \n",
      "\n"
     ]
    }
   ],
   "source": [
    "# Stratified train-test splitting\n",
    "X_train, X_test, y_train, y_test = \\\n",
    "    train_test_split(X, y, test_size=0.3, stratify=y, random_state=42)\n",
    "\n",
    "print('Shapes of X_train, X_test, y_train, y_test: \\n',\n",
    "      X_train.shape, X_test.shape, y_train.shape, y_test.shape, '\\n')\n",
    "\n",
    "df_train = pd.concat([X_train, y_train], axis=1)\n",
    "df_train.columns\n",
    "df_test = pd.concat([X_test, y_test], axis=1)\n",
    "\n",
    "print('No. of cases according to the diagnosis \\n\\n',\n",
    "      'In the training set: \\n',\n",
    "      df_train.groupby(['mask2_target']).size(), '\\n\\n',\n",
    "      'In the test set: \\n', \n",
    "      df_test.groupby(['mask2_target']).size(), '\\n')"
   ]
  },
  {
   "cell_type": "markdown",
   "metadata": {},
   "source": [
    "## Feature"
   ]
  },
  {
   "cell_type": "code",
   "execution_count": 47,
   "metadata": {},
   "outputs": [
    {
     "name": "stdout",
     "output_type": "stream",
     "text": [
      "Working to select 2 features\n",
      "CV score: mean, 0.652  / std, 0.033\n",
      "Elapsed time: 0:04:32.957382\n",
      "Working to select 3 features\n",
      "CV score: mean, 0.654  / std, 0.021\n",
      "Elapsed time: 0:07:03.720718\n",
      "Working to select 4 features\n",
      "CV score: mean, 0.652  / std, 0.025\n",
      "Elapsed time: 0:09:42.902599\n",
      "Working to select 5 features\n",
      "CV score: mean, 0.654  / std, 0.027\n",
      "Elapsed time: 0:11:37.690389\n"
     ]
    }
   ],
   "source": [
    "#!pip install -U scikit-learn \n",
    "import numpy as np\n",
    "from datetime import datetime\n",
    "from sklearn.feature_selection import SequentialFeatureSelector\n",
    "from sklearn.model_selection import cross_val_score\n",
    "from sklearn.ensemble import RandomForestClassifier, AdaBoostClassifier\n",
    "\n",
    "clf = AdaBoostClassifier(random_state=42)\n",
    "sfs_results = dict()\n",
    "\n",
    "for n_feat in range(1, 51):\n",
    "    stime = datetime.now()\n",
    "    print('Now working on selecting {0} features'.format(n_feat))\n",
    "    \n",
    "    sfs = SequentialFeatureSelector(clf, \n",
    "        n_features_to_select=n_feat, direction='forward', \n",
    "        scoring='balanced_accuracy', cv=5, n_jobs=-1)\n",
    "    sfs.fit(X_train, y_train)\n",
    "    \n",
    "    X_train_selected = sfs.transform(X_train)\n",
    "    selected_feat_names = list(X_train.columns[sfs.support_])\n",
    "    \n",
    "    cv_scores = cross_val_score(clf, X_train_selected, y_train, cv=5) \n",
    "    m, sd = np.mean(cv_scores), np.std(cv_scores)\n",
    "    print('...CV score: mean,', round(m, 3), ' /', 'std,', round(sd, 3))\n",
    "    \n",
    "    sfs_results[n_feat] = [m, sd, selected_feat_names]\n",
    "    \n",
    "    ftime = datetime.now()\n",
    "    print('...Elapsed time:', ftime - stime)"
   ]
  },
  {
   "cell_type": "code",
   "execution_count": 48,
   "metadata": {},
   "outputs": [],
   "source": [
    "# create dataframe for plotting\n",
    "df_plot = pd.DataFrame()\n",
    "\n",
    "for key, values in sfs_results.items():\n",
    "    row = pd.DataFrame({'No_of_features': key, \n",
    "                        'Mean_score': values[0],\n",
    "                        'SD_score': values[1]}, index=[0])\n",
    "    df_plot = pd.concat([df_plot, row], axis=0)\n",
    "\n",
    "df_plot.to_csv('Data/ADA_sfs_results.csv')\n"
   ]
  },
  {
   "cell_type": "code",
   "execution_count": 52,
   "metadata": {},
   "outputs": [
    {
     "data": {
      "text/plain": [
       "<ErrorbarContainer object of 3 artists>"
      ]
     },
     "execution_count": 52,
     "metadata": {},
     "output_type": "execute_result"
    },
    {
     "data": {
      "image/png": "[encoded data removed]",
      "text/plain": [
       "<Figure size 432x288 with 1 Axes>"
      ]
     },
     "metadata": {
      "needs_background": "light"
     },
     "output_type": "display_data"
    }
   ],
   "source": [
    "import numpy as np\n",
    "import matplotlib.pyplot as plt\n",
    "\n",
    "n_feat = df_plot['No_of_features']\n",
    "m = df_plot['Mean_score']\n",
    "err = df_plot['SD_score'] * 1.96 / np.sqrt(len(df_plot)) * 2\n",
    "\n",
    "plt.plot(n_feat, m)\n",
    "plt.errorbar(n_feat, m, yerr=err, fmt='o')\n"
   ]
  },
  {
   "cell_type": "code",
   "execution_count": 61,
   "metadata": {},
   "outputs": [],
   "source": [
    "sfs.scoring"
   ]
  },
  {
   "cell_type": "markdown",
   "metadata": {
    "id": "eXfCQdJCnaOp"
   },
   "source": [
    "## 2) Exploratory data analysis"
   ]
  },
  {
   "cell_type": "code",
   "execution_count": 46,
   "metadata": {
    "id": "6em0U8HWsbm2"
   },
   "outputs": [],
   "source": [
    "from pandas_profiling import ProfileReport"
   ]
  },
  {
   "cell_type": "code",
   "execution_count": 41,
   "metadata": {
    "colab": {
     "base_uri": "https://localhost:8080/",
     "height": 49,
     "referenced_widgets": [
      "7e905c5cd59a4d11881c639bc02f3d85",
      "a9ec7ea63e1641d0934955ad7ca900c1",
      "849a8df27e784470b92d9245b2a235a2",
      "48b75600377d4719a82af7344894e83a",
      "6c6633fd12df448baaec29ed9ff96c6a",
      "8478f674bd8a4cc693b54d85b587b9f0",
      "52fe795316b2492682661b84db8bc9a4",
      "fa9494d3dba1496287ebc0970bfa0160",
      "d11790b1292a40d3bde17d75deaff10c",
      "ac76127fdc43402bbffd10864946c8ca",
      "3a9cba127cda48f7a9941f4bcbf7c1af"
     ]
    },
    "id": "Vo-7STAZNhaQ",
    "outputId": "1069c4c1-041a-41b9-a02f-cb4ecf841ef4"
   },
   "outputs": [],
   "source": [
    "selectedFeat1 = list(pd.read_csv('Data/selFeat1.csv')['Feature'])\n",
    "lst = selectedFeat1 + ['mask2_target']\n",
    "df_selected = df_train.filter(lst) "
   ]
  },
  {
   "cell_type": "code",
   "execution_count": null,
   "metadata": {},
   "outputs": [],
   "source": [
    "profile = ProfileReport(df_selected, title = \"First profiling report\")\n",
    "profile.to_file(output_file='Data/profiling_result1.html')"
   ]
  },
  {
   "cell_type": "markdown",
   "metadata": {},
   "source": [
    "### Feature selection"
   ]
  },
  {
   "cell_type": "code",
   "execution_count": 47,
   "metadata": {},
   "outputs": [
    {
     "data": {
      "text/html": [
       "<div>\n",
       "<style scoped>\n",
       "    .dataframe tbody tr th:only-of-type {\n",
       "        vertical-align: middle;\n",
       "    }\n",
       "\n",
       "    .dataframe tbody tr th {\n",
       "        vertical-align: top;\n",
       "    }\n",
       "\n",
       "    .dataframe thead th {\n",
       "        text-align: right;\n",
       "    }\n",
       "</style>\n",
       "<table border=\"1\" class=\"dataframe\">\n",
       "  <thead>\n",
       "    <tr style=\"text-align: right;\">\n",
       "      <th></th>\n",
       "      <th>mean</th>\n",
       "      <th>std</th>\n",
       "    </tr>\n",
       "  </thead>\n",
       "  <tbody>\n",
       "    <tr>\n",
       "      <th>mask2_T2_shape_Sphericity</th>\n",
       "      <td>39.774354</td>\n",
       "      <td>10.029649</td>\n",
       "    </tr>\n",
       "    <tr>\n",
       "      <th>mask2_T1C_firstorder_Skewness</th>\n",
       "      <td>36.817725</td>\n",
       "      <td>8.882845</td>\n",
       "    </tr>\n",
       "    <tr>\n",
       "      <th>mask2_T2_shape_SurfaceArea</th>\n",
       "      <td>29.611904</td>\n",
       "      <td>7.259968</td>\n",
       "    </tr>\n",
       "    <tr>\n",
       "      <th>mask2_T1C_glszm_GrayLevelNonUniformity</th>\n",
       "      <td>28.186906</td>\n",
       "      <td>6.709893</td>\n",
       "    </tr>\n",
       "    <tr>\n",
       "      <th>mask2_T1C_ngtdm_Busyness</th>\n",
       "      <td>26.878637</td>\n",
       "      <td>6.567453</td>\n",
       "    </tr>\n",
       "  </tbody>\n",
       "</table>\n",
       "</div>"
      ],
      "text/plain": [
       "                                             mean        std\n",
       "mask2_T2_shape_Sphericity               39.774354  10.029649\n",
       "mask2_T1C_firstorder_Skewness           36.817725   8.882845\n",
       "mask2_T2_shape_SurfaceArea              29.611904   7.259968\n",
       "mask2_T1C_glszm_GrayLevelNonUniformity  28.186906   6.709893\n",
       "mask2_T1C_ngtdm_Busyness                26.878637   6.567453"
      ]
     },
     "execution_count": 47,
     "metadata": {},
     "output_type": "execute_result"
    }
   ],
   "source": [
    "fs_MI = pd.read_csv('feature_select_result_MI.csv', index_col=[0])\n",
    "fs_RF = pd.read_csv('feature_select_result_RF.csv', index_col=[0])\n",
    "fs_Fscore = pd.read_csv('feature_select_result_Fscore.csv', index_col=[0])\n",
    "\n",
    "result_dict = {'MI': fs_MI['mean'], 'RF': }\n",
    "fs_RF.head()\n",
    "fs_Fscore.head()"
   ]
  },
  {
   "cell_type": "code",
   "execution_count": 65,
   "metadata": {},
   "outputs": [],
   "source": [
    "fs_combined = fs_MI.join(fs_RF, lsuffix='M', rsuffix='R').join(fs_Fscore)\n",
    "fs_combined.columns = ['MI_mean', 'MI_std', 'RF_mean', 'RF_std', 'F_mean', 'F_std']\n",
    "fs_combined.to_csv('Data/VIM_combined.csv', index=True)"
   ]
  },
  {
   "cell_type": "code",
   "execution_count": 13,
   "metadata": {},
   "outputs": [],
   "source": [
    "\n"
   ]
  }
 ],
 "metadata": {
  "colab": {
   "collapsed_sections": [
    "-qwCtpPPmdIC",
    "jUhuGusQmdIE"
   ],
   "name": "JBO-GLM-1)feature_selection.ipynb의 사본",
   "provenance": []
  },
  "kernelspec": {
   "display_name": "Python 3",
   "language": "python",
   "name": "python3"
  },
  "language_info": {
   "codemirror_mode": {
    "name": "ipython",
    "version": 3
   },
   "file_extension": ".py",
   "mimetype": "text/x-python",
   "name": "python",
   "nbconvert_exporter": "python",
   "pygments_lexer": "ipython3",
   "version": "3.8.5"
  },
  "widgets": {
   "application/vnd.jupyter.widget-state+json": {
    "3a9cba127cda48f7a9941f4bcbf7c1af": {
     "model_module": "@jupyter-widgets/base",
     "model_name": "LayoutModel",
     "state": {
      "_model_module": "@jupyter-widgets/base",
      "_model_module_version": "1.2.0",
      "_model_name": "LayoutModel",
      "_view_count": null,
      "_view_module": "@jupyter-widgets/base",
      "_view_module_version": "1.2.0",
      "_view_name": "LayoutView",
      "align_content": null,
      "align_items": null,
      "align_self": null,
      "border": null,
      "bottom": null,
      "display": null,
      "flex": null,
      "flex_flow": null,
      "grid_area": null,
      "grid_auto_columns": null,
      "grid_auto_flow": null,
      "grid_auto_rows": null,
      "grid_column": null,
      "grid_gap": null,
      "grid_row": null,
      "grid_template_areas": null,
      "grid_template_columns": null,
      "grid_template_rows": null,
      "height": null,
      "justify_content": null,
      "justify_items": null,
      "left": null,
      "margin": null,
      "max_height": null,
      "max_width": null,
      "min_height": null,
      "min_width": null,
      "object_fit": null,
      "object_position": null,
      "order": null,
      "overflow": null,
      "overflow_x": null,
      "overflow_y": null,
      "padding": null,
      "right": null,
      "top": null,
      "visibility": null,
      "width": null
     }
    },
    "48b75600377d4719a82af7344894e83a": {
     "model_module": "@jupyter-widgets/controls",
     "model_name": "FloatProgressModel",
     "state": {
      "_dom_classes": [],
      "_model_module": "@jupyter-widgets/controls",
      "_model_module_version": "1.5.0",
      "_model_name": "FloatProgressModel",
      "_view_count": null,
      "_view_module": "@jupyter-widgets/controls",
      "_view_module_version": "1.5.0",
      "_view_name": "ProgressView",
      "bar_style": "",
      "description": "",
      "description_tooltip": null,
      "layout": "IPY_MODEL_d11790b1292a40d3bde17d75deaff10c",
      "max": 113,
      "min": 0,
      "orientation": "horizontal",
      "style": "IPY_MODEL_fa9494d3dba1496287ebc0970bfa0160",
      "value": 108
     }
    },
    "52fe795316b2492682661b84db8bc9a4": {
     "model_module": "@jupyter-widgets/base",
     "model_name": "LayoutModel",
     "state": {
      "_model_module": "@jupyter-widgets/base",
      "_model_module_version": "1.2.0",
      "_model_name": "LayoutModel",
      "_view_count": null,
      "_view_module": "@jupyter-widgets/base",
      "_view_module_version": "1.2.0",
      "_view_name": "LayoutView",
      "align_content": null,
      "align_items": null,
      "align_self": null,
      "border": null,
      "bottom": null,
      "display": null,
      "flex": null,
      "flex_flow": null,
      "grid_area": null,
      "grid_auto_columns": null,
      "grid_auto_flow": null,
      "grid_auto_rows": null,
      "grid_column": null,
      "grid_gap": null,
      "grid_row": null,
      "grid_template_areas": null,
      "grid_template_columns": null,
      "grid_template_rows": null,
      "height": null,
      "justify_content": null,
      "justify_items": null,
      "left": null,
      "margin": null,
      "max_height": null,
      "max_width": null,
      "min_height": null,
      "min_width": null,
      "object_fit": null,
      "object_position": null,
      "order": null,
      "overflow": null,
      "overflow_x": null,
      "overflow_y": null,
      "padding": null,
      "right": null,
      "top": null,
      "visibility": null,
      "width": null
     }
    },
    "6c6633fd12df448baaec29ed9ff96c6a": {
     "model_module": "@jupyter-widgets/controls",
     "model_name": "HTMLModel",
     "state": {
      "_dom_classes": [],
      "_model_module": "@jupyter-widgets/controls",
      "_model_module_version": "1.5.0",
      "_model_name": "HTMLModel",
      "_view_count": null,
      "_view_module": "@jupyter-widgets/controls",
      "_view_module_version": "1.5.0",
      "_view_name": "HTMLView",
      "description": "",
      "description_tooltip": null,
      "layout": "IPY_MODEL_3a9cba127cda48f7a9941f4bcbf7c1af",
      "placeholder": "​",
      "style": "IPY_MODEL_ac76127fdc43402bbffd10864946c8ca",
      "value": " 108/113 [00:38&lt;00:07,  1.53s/it, Get scatter matrix]"
     }
    },
    "7e905c5cd59a4d11881c639bc02f3d85": {
     "model_module": "@jupyter-widgets/controls",
     "model_name": "HBoxModel",
     "state": {
      "_dom_classes": [],
      "_model_module": "@jupyter-widgets/controls",
      "_model_module_version": "1.5.0",
      "_model_name": "HBoxModel",
      "_view_count": null,
      "_view_module": "@jupyter-widgets/controls",
      "_view_module_version": "1.5.0",
      "_view_name": "HBoxView",
      "box_style": "",
      "children": [
       "IPY_MODEL_849a8df27e784470b92d9245b2a235a2",
       "IPY_MODEL_48b75600377d4719a82af7344894e83a",
       "IPY_MODEL_6c6633fd12df448baaec29ed9ff96c6a"
      ],
      "layout": "IPY_MODEL_a9ec7ea63e1641d0934955ad7ca900c1"
     }
    },
    "8478f674bd8a4cc693b54d85b587b9f0": {
     "model_module": "@jupyter-widgets/controls",
     "model_name": "DescriptionStyleModel",
     "state": {
      "_model_module": "@jupyter-widgets/controls",
      "_model_module_version": "1.5.0",
      "_model_name": "DescriptionStyleModel",
      "_view_count": null,
      "_view_module": "@jupyter-widgets/base",
      "_view_module_version": "1.2.0",
      "_view_name": "StyleView",
      "description_width": ""
     }
    },
    "849a8df27e784470b92d9245b2a235a2": {
     "model_module": "@jupyter-widgets/controls",
     "model_name": "HTMLModel",
     "state": {
      "_dom_classes": [],
      "_model_module": "@jupyter-widgets/controls",
      "_model_module_version": "1.5.0",
      "_model_name": "HTMLModel",
      "_view_count": null,
      "_view_module": "@jupyter-widgets/controls",
      "_view_module_version": "1.5.0",
      "_view_name": "HTMLView",
      "description": "",
      "description_tooltip": null,
      "layout": "IPY_MODEL_52fe795316b2492682661b84db8bc9a4",
      "placeholder": "​",
      "style": "IPY_MODEL_8478f674bd8a4cc693b54d85b587b9f0",
      "value": "Summarize dataset:  96%"
     }
    },
    "a9ec7ea63e1641d0934955ad7ca900c1": {
     "model_module": "@jupyter-widgets/base",
     "model_name": "LayoutModel",
     "state": {
      "_model_module": "@jupyter-widgets/base",
      "_model_module_version": "1.2.0",
      "_model_name": "LayoutModel",
      "_view_count": null,
      "_view_module": "@jupyter-widgets/base",
      "_view_module_version": "1.2.0",
      "_view_name": "LayoutView",
      "align_content": null,
      "align_items": null,
      "align_self": null,
      "border": null,
      "bottom": null,
      "display": null,
      "flex": null,
      "flex_flow": null,
      "grid_area": null,
      "grid_auto_columns": null,
      "grid_auto_flow": null,
      "grid_auto_rows": null,
      "grid_column": null,
      "grid_gap": null,
      "grid_row": null,
      "grid_template_areas": null,
      "grid_template_columns": null,
      "grid_template_rows": null,
      "height": null,
      "justify_content": null,
      "justify_items": null,
      "left": null,
      "margin": null,
      "max_height": null,
      "max_width": null,
      "min_height": null,
      "min_width": null,
      "object_fit": null,
      "object_position": null,
      "order": null,
      "overflow": null,
      "overflow_x": null,
      "overflow_y": null,
      "padding": null,
      "right": null,
      "top": null,
      "visibility": null,
      "width": null
     }
    },
    "ac76127fdc43402bbffd10864946c8ca": {
     "model_module": "@jupyter-widgets/controls",
     "model_name": "DescriptionStyleModel",
     "state": {
      "_model_module": "@jupyter-widgets/controls",
      "_model_module_version": "1.5.0",
      "_model_name": "DescriptionStyleModel",
      "_view_count": null,
      "_view_module": "@jupyter-widgets/base",
      "_view_module_version": "1.2.0",
      "_view_name": "StyleView",
      "description_width": ""
     }
    },
    "d11790b1292a40d3bde17d75deaff10c": {
     "model_module": "@jupyter-widgets/base",
     "model_name": "LayoutModel",
     "state": {
      "_model_module": "@jupyter-widgets/base",
      "_model_module_version": "1.2.0",
      "_model_name": "LayoutModel",
      "_view_count": null,
      "_view_module": "@jupyter-widgets/base",
      "_view_module_version": "1.2.0",
      "_view_name": "LayoutView",
      "align_content": null,
      "align_items": null,
      "align_self": null,
      "border": null,
      "bottom": null,
      "display": null,
      "flex": null,
      "flex_flow": null,
      "grid_area": null,
      "grid_auto_columns": null,
      "grid_auto_flow": null,
      "grid_auto_rows": null,
      "grid_column": null,
      "grid_gap": null,
      "grid_row": null,
      "grid_template_areas": null,
      "grid_template_columns": null,
      "grid_template_rows": null,
      "height": null,
      "justify_content": null,
      "justify_items": null,
      "left": null,
      "margin": null,
      "max_height": null,
      "max_width": null,
      "min_height": null,
      "min_width": null,
      "object_fit": null,
      "object_position": null,
      "order": null,
      "overflow": null,
      "overflow_x": null,
      "overflow_y": null,
      "padding": null,
      "right": null,
      "top": null,
      "visibility": null,
      "width": null
     }
    },
    "fa9494d3dba1496287ebc0970bfa0160": {
     "model_module": "@jupyter-widgets/controls",
     "model_name": "ProgressStyleModel",
     "state": {
      "_model_module": "@jupyter-widgets/controls",
      "_model_module_version": "1.5.0",
      "_model_name": "ProgressStyleModel",
      "_view_count": null,
      "_view_module": "@jupyter-widgets/base",
      "_view_module_version": "1.2.0",
      "_view_name": "StyleView",
      "bar_color": null,
      "description_width": ""
     }
    }
   }
  }
 },
 "nbformat": 4,
 "nbformat_minor": 4
}
