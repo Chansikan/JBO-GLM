{
 "cells": [
  {
   "cell_type": "markdown",
   "metadata": {
    "id": "D5dgpxWZTPhB"
   },
   "source": [
    "# Radiomics to diagnose single brain tumors: GBM vs. Metastasis vs. Lymphoma\n",
    "\n",
    "### *JBO, Chansik An, and Sung Soo Ahn*"
   ]
  },
  {
   "cell_type": "markdown",
   "metadata": {
    "id": "muhActIoTp7y"
   },
   "source": [
    "## 1) Data cleaning\n",
    "\n"
   ]
  },
  {
   "cell_type": "code",
   "execution_count": 1,
   "metadata": {
    "id": "hJA1KMZkmdH0"
   },
   "outputs": [],
   "source": [
    "import numpy as np\n",
    "import pandas as pd\n",
    "from sklearn.model_selection import train_test_split"
   ]
  },
  {
   "cell_type": "code",
   "execution_count": 2,
   "metadata": {
    "colab": {
     "base_uri": "https://localhost:8080/"
    },
    "id": "QP0vhazYmdH6",
    "outputId": "7d16862e-c189-4edd-e551-4a4c17d973a8"
   },
   "outputs": [
    {
     "name": "stdout",
     "output_type": "stream",
     "text": [
      "Shapes of CE_T1, CE_T2, PeriT2_T1, PeriT2_T2, and y: \n",
      " (538, 93) (538, 93) (538, 93) (538, 93) (538,) \n",
      "\n",
      "Check if all the feature names are consistent: True \n",
      "\n",
      "28 shape features are redundant for CE and Peri T2 masks.\n",
      "Names of redundant shape features, from T2 images: \n",
      " ['mask2_T2_shape_Elongation' 'mask2_T2_shape_Flatness'\n",
      " 'mask2_T2_shape_LeastAxisLength' 'mask2_T2_shape_MajorAxisLength'\n",
      " 'mask2_T2_shape_Maximum2DDiameterColumn'\n",
      " 'mask2_T2_shape_Maximum2DDiameterRow'\n",
      " 'mask2_T2_shape_Maximum2DDiameterSlice'\n",
      " 'mask2_T2_shape_Maximum3DDiameter' 'mask2_T2_shape_MeshVolume'\n",
      " 'mask2_T2_shape_MinorAxisLength' 'mask2_T2_shape_Sphericity'\n",
      " 'mask2_T2_shape_SurfaceArea' 'mask2_T2_shape_SurfaceVolumeRatio'\n",
      " 'mask2_T2_shape_VoxelVolume'] ['mask1_T2_shape_Elongation' 'mask1_T2_shape_Flatness'\n",
      " 'mask1_T2_shape_LeastAxisLength' 'mask1_T2_shape_MajorAxisLength'\n",
      " 'mask1_T2_shape_Maximum2DDiameterColumn'\n",
      " 'mask1_T2_shape_Maximum2DDiameterRow'\n",
      " 'mask1_T2_shape_Maximum2DDiameterSlice'\n",
      " 'mask1_T2_shape_Maximum3DDiameter' 'mask1_T2_shape_MeshVolume'\n",
      " 'mask1_T2_shape_MinorAxisLength' 'mask1_T2_shape_Sphericity'\n",
      " 'mask1_T2_shape_SurfaceArea' 'mask1_T2_shape_SurfaceVolumeRatio'\n",
      " 'mask1_T2_shape_VoxelVolume'] \n",
      "\n",
      "Shapes of CE mask and PeriT2 mask datasets without redundancy: (538, 172) (538, 172) \n",
      "\n",
      "Check if the indices of X and y are consistent in order: True\n"
     ]
    }
   ],
   "source": [
    "# load and dissect the dataset, and do some sanity checks\n",
    "df = pd.read_csv('Data/main_data(JBO).csv', index_col='id')\n",
    "\n",
    "df_Peri_T1 = df.filter(like='mask1_T1', axis=1)\n",
    "df_Peri_T2 = df.filter(like='mask1_T2', axis=1)\n",
    "df_CE_T1 = df.filter(like='mask2_T1', axis=1)\n",
    "df_CE_T2 = df.filter(like='mask2_T2', axis=1)\n",
    "y = df['mask2_target']\n",
    "print('Shapes of CE_T1, CE_T2, PeriT2_T1, PeriT2_T2, and y: \\n',\n",
    "      df_CE_T1.shape, df_CE_T2.shape, df_Peri_T1.shape, df_Peri_T2.shape, \n",
    "      y.shape, '\\n')\n",
    "\n",
    "print('Check if all the feature names are consistent:', \n",
    "  sorted([col_name.split('_', 2)[2] for col_name in df_CE_T1.columns]) == \\\n",
    "  sorted([col_name.split('_', 2)[2] for col_name in df_CE_T2.columns]) == \\\n",
    "  sorted([col_name.split('_', 2)[2] for col_name in df_Peri_T1.columns]) == \\\n",
    "  sorted([col_name.split('_', 2)[2] for col_name in df_Peri_T2.columns]), '\\n'\n",
    ")\n",
    "\n",
    "# check redundant 'shape' features from T2 images\n",
    "df_Peri_T2_shape = df_Peri_T2.filter(like='mask1_T2_shape')\n",
    "df_CE_T2_shape = df_CE_T2.filter(like='mask2_T2_shape')\n",
    "\n",
    "print('{0} shape features are redundant for CE and Peri T2 masks.'.\n",
    "      format(df_CE_T2_shape.shape[1] + df_Peri_T2_shape.shape[1]))\n",
    "print('Names of redundant shape features, from T2 images: \\n',\n",
    "      df_CE_T2_shape.columns.values, df_Peri_T2_shape.columns.values, '\\n')\n",
    "\n",
    "# datasets after excluding redudant shape features\n",
    "df_CE_no_redundancy = pd.concat(\n",
    "    [df_CE_T1, df_CE_T2.drop(df_CE_T2_shape.columns, axis=1)], axis=1)\n",
    "df_Peri_no_redundancy = pd.concat(\n",
    "    [df_Peri_T1, df_Peri_T2.drop(df_Peri_T2_shape.columns, axis=1)], axis=1)\n",
    "print('Shapes of CE mask and PeriT2 mask datasets without redundancy:',\n",
    "      df_CE_no_redundancy.shape, df_Peri_no_redundancy.shape, '\\n')\n",
    "\n",
    "# finalize the dataset\n",
    "X = pd.concat([df_CE_no_redundancy, df_Peri_no_redundancy], axis=1)\n",
    "print('Check if the indices of X and y are consistent in order:',\n",
    "      np.mean(X.index == y.index) == 1)\n",
    "\n",
    "X.reset_index(drop=True, inplace=True)\n",
    "y.reset_index(drop=True, inplace=True)\n",
    "\n",
    "final_df = pd.concat([X, y], axis=1)"
   ]
  },
  {
   "cell_type": "code",
   "execution_count": 3,
   "metadata": {},
   "outputs": [
    {
     "name": "stdout",
     "output_type": "stream",
     "text": [
      "Shapes of X_train, X_test, y_train, y_test: \n",
      " (376, 344) (162, 344) (376,) (162,) \n",
      "\n",
      "No. of cases according to the diagnosis \n",
      "\n",
      " In the training set: \n",
      " mask2_target\n",
      "GBM         210\n",
      "lymphoma     51\n",
      "meta        115\n",
      "dtype: int64 \n",
      "\n",
      " In the test set: \n",
      " mask2_target\n",
      "GBM         90\n",
      "lymphoma    22\n",
      "meta        50\n",
      "dtype: int64 \n",
      "\n"
     ]
    }
   ],
   "source": [
    "# Stratified train-test splitting\n",
    "X_train, X_test, y_train, y_test = \\\n",
    "    train_test_split(X, y, test_size=0.3, stratify=y, random_state=42)\n",
    "\n",
    "print('Shapes of X_train, X_test, y_train, y_test: \\n',\n",
    "      X_train.shape, X_test.shape, y_train.shape, y_test.shape, '\\n')\n",
    "\n",
    "df_train = pd.concat([X_train, y_train], axis=1)\n",
    "df_train.columns\n",
    "df_test = pd.concat([X_test, y_test], axis=1)\n",
    "\n",
    "print('No. of cases according to the diagnosis \\n\\n',\n",
    "      'In the training set: \\n',\n",
    "      df_train.groupby(['mask2_target']).size(), '\\n\\n',\n",
    "      'In the test set: \\n', \n",
    "      df_test.groupby(['mask2_target']).size(), '\\n')"
   ]
  },
  {
   "cell_type": "markdown",
   "metadata": {
    "id": "eXfCQdJCnaOp"
   },
   "source": [
    "## 2) Exploratory data analysis"
   ]
  },
  {
   "cell_type": "code",
   "execution_count": 46,
   "metadata": {
    "id": "6em0U8HWsbm2"
   },
   "outputs": [],
   "source": [
    "from pandas_profiling import ProfileReport"
   ]
  },
  {
   "cell_type": "code",
   "execution_count": 41,
   "metadata": {
    "colab": {
     "base_uri": "https://localhost:8080/",
     "height": 49,
     "referenced_widgets": [
      "7e905c5cd59a4d11881c639bc02f3d85",
      "a9ec7ea63e1641d0934955ad7ca900c1",
      "849a8df27e784470b92d9245b2a235a2",
      "48b75600377d4719a82af7344894e83a",
      "6c6633fd12df448baaec29ed9ff96c6a",
      "8478f674bd8a4cc693b54d85b587b9f0",
      "52fe795316b2492682661b84db8bc9a4",
      "fa9494d3dba1496287ebc0970bfa0160",
      "d11790b1292a40d3bde17d75deaff10c",
      "ac76127fdc43402bbffd10864946c8ca",
      "3a9cba127cda48f7a9941f4bcbf7c1af"
     ]
    },
    "id": "Vo-7STAZNhaQ",
    "outputId": "1069c4c1-041a-41b9-a02f-cb4ecf841ef4"
   },
   "outputs": [],
   "source": [
    "selectedFeat1 = list(pd.read_csv('Data/selFeat1.csv')['Feature'])\n",
    "lst = selectedFeat1 + ['mask2_target']\n",
    "df_selected = df_train.filter(lst) "
   ]
  },
  {
   "cell_type": "code",
   "execution_count": null,
   "metadata": {},
   "outputs": [],
   "source": [
    "profile = ProfileReport(df_selected, title = \"First profiling report\")\n",
    "profile.to_file(output_file='Data/profiling_result1.html')"
   ]
  },
  {
   "cell_type": "markdown",
   "metadata": {},
   "source": [
    "### Feature selection"
   ]
  },
  {
   "cell_type": "code",
   "execution_count": 47,
   "metadata": {},
   "outputs": [
    {
     "data": {
      "text/html": [
       "<div>\n",
       "<style scoped>\n",
       "    .dataframe tbody tr th:only-of-type {\n",
       "        vertical-align: middle;\n",
       "    }\n",
       "\n",
       "    .dataframe tbody tr th {\n",
       "        vertical-align: top;\n",
       "    }\n",
       "\n",
       "    .dataframe thead th {\n",
       "        text-align: right;\n",
       "    }\n",
       "</style>\n",
       "<table border=\"1\" class=\"dataframe\">\n",
       "  <thead>\n",
       "    <tr style=\"text-align: right;\">\n",
       "      <th></th>\n",
       "      <th>mean</th>\n",
       "      <th>std</th>\n",
       "    </tr>\n",
       "  </thead>\n",
       "  <tbody>\n",
       "    <tr>\n",
       "      <th>mask2_T2_shape_Sphericity</th>\n",
       "      <td>39.774354</td>\n",
       "      <td>10.029649</td>\n",
       "    </tr>\n",
       "    <tr>\n",
       "      <th>mask2_T1C_firstorder_Skewness</th>\n",
       "      <td>36.817725</td>\n",
       "      <td>8.882845</td>\n",
       "    </tr>\n",
       "    <tr>\n",
       "      <th>mask2_T2_shape_SurfaceArea</th>\n",
       "      <td>29.611904</td>\n",
       "      <td>7.259968</td>\n",
       "    </tr>\n",
       "    <tr>\n",
       "      <th>mask2_T1C_glszm_GrayLevelNonUniformity</th>\n",
       "      <td>28.186906</td>\n",
       "      <td>6.709893</td>\n",
       "    </tr>\n",
       "    <tr>\n",
       "      <th>mask2_T1C_ngtdm_Busyness</th>\n",
       "      <td>26.878637</td>\n",
       "      <td>6.567453</td>\n",
       "    </tr>\n",
       "  </tbody>\n",
       "</table>\n",
       "</div>"
      ],
      "text/plain": [
       "                                             mean        std\n",
       "mask2_T2_shape_Sphericity               39.774354  10.029649\n",
       "mask2_T1C_firstorder_Skewness           36.817725   8.882845\n",
       "mask2_T2_shape_SurfaceArea              29.611904   7.259968\n",
       "mask2_T1C_glszm_GrayLevelNonUniformity  28.186906   6.709893\n",
       "mask2_T1C_ngtdm_Busyness                26.878637   6.567453"
      ]
     },
     "execution_count": 47,
     "metadata": {},
     "output_type": "execute_result"
    }
   ],
   "source": [
    "fs_MI = pd.read_csv('feature_select_result_MI.csv', index_col=[0])\n",
    "fs_RF = pd.read_csv('feature_select_result_RF.csv', index_col=[0])\n",
    "fs_Fscore = pd.read_csv('feature_select_result_Fscore.csv', index_col=[0])\n",
    "\n",
    "result_dict = {'MI': fs_MI['mean'], 'RF': }\n",
    "fs_RF.head()\n",
    "fs_Fscore.head()"
   ]
  },
  {
   "cell_type": "code",
   "execution_count": 65,
   "metadata": {},
   "outputs": [],
   "source": [
    "fs_combined = fs_MI.join(fs_RF, lsuffix='M', rsuffix='R').join(fs_Fscore)\n",
    "fs_combined.columns = ['MI_mean', 'MI_std', 'RF_mean', 'RF_std', 'F_mean', 'F_std']\n",
    "fs_combined.to_csv('Data/VIM_combined.csv', index=True)"
   ]
  },
  {
   "cell_type": "code",
   "execution_count": 13,
   "metadata": {},
   "outputs": [],
   "source": [
    "\n"
   ]
  },
  {
   "cell_type": "code",
   "execution_count": 4,
   "metadata": {},
   "outputs": [
    {
     "ename": "KeyboardInterrupt",
     "evalue": "",
     "output_type": "error",
     "traceback": [
      "\u001b[0;31m---------------------------------------------------------------------------\u001b[0m",
      "\u001b[0;31mKeyboardInterrupt\u001b[0m                         Traceback (most recent call last)",
      "\u001b[0;32m<ipython-input-4-de097d52725d>\u001b[0m in \u001b[0;36m<module>\u001b[0;34m\u001b[0m\n\u001b[1;32m      7\u001b[0m     n_features_to_select=None, direction='forward', cv=5)\n\u001b[1;32m      8\u001b[0m \u001b[0;34m\u001b[0m\u001b[0m\n\u001b[0;32m----> 9\u001b[0;31m \u001b[0msfs\u001b[0m\u001b[0;34m.\u001b[0m\u001b[0mfit\u001b[0m\u001b[0;34m(\u001b[0m\u001b[0mX_train\u001b[0m\u001b[0;34m,\u001b[0m \u001b[0my_train\u001b[0m\u001b[0;34m)\u001b[0m\u001b[0;34m\u001b[0m\u001b[0;34m\u001b[0m\u001b[0m\n\u001b[0m",
      "\u001b[0;32m/opt/anaconda3/envs/SIRANO/lib/python3.8/site-packages/sklearn/feature_selection/_sequential.py\u001b[0m in \u001b[0;36mfit\u001b[0;34m(self, X, y)\u001b[0m\n\u001b[1;32m    176\u001b[0m         )\n\u001b[1;32m    177\u001b[0m         \u001b[0;32mfor\u001b[0m \u001b[0m_\u001b[0m \u001b[0;32min\u001b[0m \u001b[0mrange\u001b[0m\u001b[0;34m(\u001b[0m\u001b[0mn_iterations\u001b[0m\u001b[0;34m)\u001b[0m\u001b[0;34m:\u001b[0m\u001b[0;34m\u001b[0m\u001b[0;34m\u001b[0m\u001b[0m\n\u001b[0;32m--> 178\u001b[0;31m             new_feature_idx = self._get_best_new_feature(cloned_estimator, X,\n\u001b[0m\u001b[1;32m    179\u001b[0m                                                          y, current_mask)\n\u001b[1;32m    180\u001b[0m             \u001b[0mcurrent_mask\u001b[0m\u001b[0;34m[\u001b[0m\u001b[0mnew_feature_idx\u001b[0m\u001b[0;34m]\u001b[0m \u001b[0;34m=\u001b[0m \u001b[0;32mTrue\u001b[0m\u001b[0;34m\u001b[0m\u001b[0;34m\u001b[0m\u001b[0m\n",
      "\u001b[0;32m/opt/anaconda3/envs/SIRANO/lib/python3.8/site-packages/sklearn/feature_selection/_sequential.py\u001b[0m in \u001b[0;36m_get_best_new_feature\u001b[0;34m(self, estimator, X, y, current_mask)\u001b[0m\n\u001b[1;32m    198\u001b[0m                 \u001b[0mcandidate_mask\u001b[0m \u001b[0;34m=\u001b[0m \u001b[0;34m~\u001b[0m\u001b[0mcandidate_mask\u001b[0m\u001b[0;34m\u001b[0m\u001b[0;34m\u001b[0m\u001b[0m\n\u001b[1;32m    199\u001b[0m             \u001b[0mX_new\u001b[0m \u001b[0;34m=\u001b[0m \u001b[0mX\u001b[0m\u001b[0;34m[\u001b[0m\u001b[0;34m:\u001b[0m\u001b[0;34m,\u001b[0m \u001b[0mcandidate_mask\u001b[0m\u001b[0;34m]\u001b[0m\u001b[0;34m\u001b[0m\u001b[0;34m\u001b[0m\u001b[0m\n\u001b[0;32m--> 200\u001b[0;31m             scores[feature_idx] = cross_val_score(\n\u001b[0m\u001b[1;32m    201\u001b[0m                 \u001b[0mestimator\u001b[0m\u001b[0;34m,\u001b[0m \u001b[0mX_new\u001b[0m\u001b[0;34m,\u001b[0m \u001b[0my\u001b[0m\u001b[0;34m,\u001b[0m \u001b[0mcv\u001b[0m\u001b[0;34m=\u001b[0m\u001b[0mself\u001b[0m\u001b[0;34m.\u001b[0m\u001b[0mcv\u001b[0m\u001b[0;34m,\u001b[0m \u001b[0mscoring\u001b[0m\u001b[0;34m=\u001b[0m\u001b[0mself\u001b[0m\u001b[0;34m.\u001b[0m\u001b[0mscoring\u001b[0m\u001b[0;34m,\u001b[0m\u001b[0;34m\u001b[0m\u001b[0;34m\u001b[0m\u001b[0m\n\u001b[1;32m    202\u001b[0m                 n_jobs=self.n_jobs).mean()\n",
      "\u001b[0;32m/opt/anaconda3/envs/SIRANO/lib/python3.8/site-packages/sklearn/utils/validation.py\u001b[0m in \u001b[0;36minner_f\u001b[0;34m(*args, **kwargs)\u001b[0m\n\u001b[1;32m     61\u001b[0m             \u001b[0mextra_args\u001b[0m \u001b[0;34m=\u001b[0m \u001b[0mlen\u001b[0m\u001b[0;34m(\u001b[0m\u001b[0margs\u001b[0m\u001b[0;34m)\u001b[0m \u001b[0;34m-\u001b[0m \u001b[0mlen\u001b[0m\u001b[0;34m(\u001b[0m\u001b[0mall_args\u001b[0m\u001b[0;34m)\u001b[0m\u001b[0;34m\u001b[0m\u001b[0;34m\u001b[0m\u001b[0m\n\u001b[1;32m     62\u001b[0m             \u001b[0;32mif\u001b[0m \u001b[0mextra_args\u001b[0m \u001b[0;34m<=\u001b[0m \u001b[0;36m0\u001b[0m\u001b[0;34m:\u001b[0m\u001b[0;34m\u001b[0m\u001b[0;34m\u001b[0m\u001b[0m\n\u001b[0;32m---> 63\u001b[0;31m                 \u001b[0;32mreturn\u001b[0m \u001b[0mf\u001b[0m\u001b[0;34m(\u001b[0m\u001b[0;34m*\u001b[0m\u001b[0margs\u001b[0m\u001b[0;34m,\u001b[0m \u001b[0;34m**\u001b[0m\u001b[0mkwargs\u001b[0m\u001b[0;34m)\u001b[0m\u001b[0;34m\u001b[0m\u001b[0;34m\u001b[0m\u001b[0m\n\u001b[0m\u001b[1;32m     64\u001b[0m \u001b[0;34m\u001b[0m\u001b[0m\n\u001b[1;32m     65\u001b[0m             \u001b[0;31m# extra_args > 0\u001b[0m\u001b[0;34m\u001b[0m\u001b[0;34m\u001b[0m\u001b[0;34m\u001b[0m\u001b[0m\n",
      "\u001b[0;32m/opt/anaconda3/envs/SIRANO/lib/python3.8/site-packages/sklearn/model_selection/_validation.py\u001b[0m in \u001b[0;36mcross_val_score\u001b[0;34m(estimator, X, y, groups, scoring, cv, n_jobs, verbose, fit_params, pre_dispatch, error_score)\u001b[0m\n\u001b[1;32m    438\u001b[0m     \u001b[0mscorer\u001b[0m \u001b[0;34m=\u001b[0m \u001b[0mcheck_scoring\u001b[0m\u001b[0;34m(\u001b[0m\u001b[0mestimator\u001b[0m\u001b[0;34m,\u001b[0m \u001b[0mscoring\u001b[0m\u001b[0;34m=\u001b[0m\u001b[0mscoring\u001b[0m\u001b[0;34m)\u001b[0m\u001b[0;34m\u001b[0m\u001b[0;34m\u001b[0m\u001b[0m\n\u001b[1;32m    439\u001b[0m \u001b[0;34m\u001b[0m\u001b[0m\n\u001b[0;32m--> 440\u001b[0;31m     cv_results = cross_validate(estimator=estimator, X=X, y=y, groups=groups,\n\u001b[0m\u001b[1;32m    441\u001b[0m                                 \u001b[0mscoring\u001b[0m\u001b[0;34m=\u001b[0m\u001b[0;34m{\u001b[0m\u001b[0;34m'score'\u001b[0m\u001b[0;34m:\u001b[0m \u001b[0mscorer\u001b[0m\u001b[0;34m}\u001b[0m\u001b[0;34m,\u001b[0m \u001b[0mcv\u001b[0m\u001b[0;34m=\u001b[0m\u001b[0mcv\u001b[0m\u001b[0;34m,\u001b[0m\u001b[0;34m\u001b[0m\u001b[0;34m\u001b[0m\u001b[0m\n\u001b[1;32m    442\u001b[0m                                 \u001b[0mn_jobs\u001b[0m\u001b[0;34m=\u001b[0m\u001b[0mn_jobs\u001b[0m\u001b[0;34m,\u001b[0m \u001b[0mverbose\u001b[0m\u001b[0;34m=\u001b[0m\u001b[0mverbose\u001b[0m\u001b[0;34m,\u001b[0m\u001b[0;34m\u001b[0m\u001b[0;34m\u001b[0m\u001b[0m\n",
      "\u001b[0;32m/opt/anaconda3/envs/SIRANO/lib/python3.8/site-packages/sklearn/utils/validation.py\u001b[0m in \u001b[0;36minner_f\u001b[0;34m(*args, **kwargs)\u001b[0m\n\u001b[1;32m     61\u001b[0m             \u001b[0mextra_args\u001b[0m \u001b[0;34m=\u001b[0m \u001b[0mlen\u001b[0m\u001b[0;34m(\u001b[0m\u001b[0margs\u001b[0m\u001b[0;34m)\u001b[0m \u001b[0;34m-\u001b[0m \u001b[0mlen\u001b[0m\u001b[0;34m(\u001b[0m\u001b[0mall_args\u001b[0m\u001b[0;34m)\u001b[0m\u001b[0;34m\u001b[0m\u001b[0;34m\u001b[0m\u001b[0m\n\u001b[1;32m     62\u001b[0m             \u001b[0;32mif\u001b[0m \u001b[0mextra_args\u001b[0m \u001b[0;34m<=\u001b[0m \u001b[0;36m0\u001b[0m\u001b[0;34m:\u001b[0m\u001b[0;34m\u001b[0m\u001b[0;34m\u001b[0m\u001b[0m\n\u001b[0;32m---> 63\u001b[0;31m                 \u001b[0;32mreturn\u001b[0m \u001b[0mf\u001b[0m\u001b[0;34m(\u001b[0m\u001b[0;34m*\u001b[0m\u001b[0margs\u001b[0m\u001b[0;34m,\u001b[0m \u001b[0;34m**\u001b[0m\u001b[0mkwargs\u001b[0m\u001b[0;34m)\u001b[0m\u001b[0;34m\u001b[0m\u001b[0;34m\u001b[0m\u001b[0m\n\u001b[0m\u001b[1;32m     64\u001b[0m \u001b[0;34m\u001b[0m\u001b[0m\n\u001b[1;32m     65\u001b[0m             \u001b[0;31m# extra_args > 0\u001b[0m\u001b[0;34m\u001b[0m\u001b[0;34m\u001b[0m\u001b[0;34m\u001b[0m\u001b[0m\n",
      "\u001b[0;32m/opt/anaconda3/envs/SIRANO/lib/python3.8/site-packages/sklearn/model_selection/_validation.py\u001b[0m in \u001b[0;36mcross_validate\u001b[0;34m(estimator, X, y, groups, scoring, cv, n_jobs, verbose, fit_params, pre_dispatch, return_train_score, return_estimator, error_score)\u001b[0m\n\u001b[1;32m    244\u001b[0m     parallel = Parallel(n_jobs=n_jobs, verbose=verbose,\n\u001b[1;32m    245\u001b[0m                         pre_dispatch=pre_dispatch)\n\u001b[0;32m--> 246\u001b[0;31m     results = parallel(\n\u001b[0m\u001b[1;32m    247\u001b[0m         delayed(_fit_and_score)(\n\u001b[1;32m    248\u001b[0m             \u001b[0mclone\u001b[0m\u001b[0;34m(\u001b[0m\u001b[0mestimator\u001b[0m\u001b[0;34m)\u001b[0m\u001b[0;34m,\u001b[0m \u001b[0mX\u001b[0m\u001b[0;34m,\u001b[0m \u001b[0my\u001b[0m\u001b[0;34m,\u001b[0m \u001b[0mscorers\u001b[0m\u001b[0;34m,\u001b[0m \u001b[0mtrain\u001b[0m\u001b[0;34m,\u001b[0m \u001b[0mtest\u001b[0m\u001b[0;34m,\u001b[0m \u001b[0mverbose\u001b[0m\u001b[0;34m,\u001b[0m \u001b[0;32mNone\u001b[0m\u001b[0;34m,\u001b[0m\u001b[0;34m\u001b[0m\u001b[0;34m\u001b[0m\u001b[0m\n",
      "\u001b[0;32m/opt/anaconda3/envs/SIRANO/lib/python3.8/site-packages/joblib/parallel.py\u001b[0m in \u001b[0;36m__call__\u001b[0;34m(self, iterable)\u001b[0m\n\u001b[1;32m   1042\u001b[0m                 \u001b[0mself\u001b[0m\u001b[0;34m.\u001b[0m\u001b[0m_iterating\u001b[0m \u001b[0;34m=\u001b[0m \u001b[0mself\u001b[0m\u001b[0;34m.\u001b[0m\u001b[0m_original_iterator\u001b[0m \u001b[0;32mis\u001b[0m \u001b[0;32mnot\u001b[0m \u001b[0;32mNone\u001b[0m\u001b[0;34m\u001b[0m\u001b[0;34m\u001b[0m\u001b[0m\n\u001b[1;32m   1043\u001b[0m \u001b[0;34m\u001b[0m\u001b[0m\n\u001b[0;32m-> 1044\u001b[0;31m             \u001b[0;32mwhile\u001b[0m \u001b[0mself\u001b[0m\u001b[0;34m.\u001b[0m\u001b[0mdispatch_one_batch\u001b[0m\u001b[0;34m(\u001b[0m\u001b[0miterator\u001b[0m\u001b[0;34m)\u001b[0m\u001b[0;34m:\u001b[0m\u001b[0;34m\u001b[0m\u001b[0;34m\u001b[0m\u001b[0m\n\u001b[0m\u001b[1;32m   1045\u001b[0m                 \u001b[0;32mpass\u001b[0m\u001b[0;34m\u001b[0m\u001b[0;34m\u001b[0m\u001b[0m\n\u001b[1;32m   1046\u001b[0m \u001b[0;34m\u001b[0m\u001b[0m\n",
      "\u001b[0;32m/opt/anaconda3/envs/SIRANO/lib/python3.8/site-packages/joblib/parallel.py\u001b[0m in \u001b[0;36mdispatch_one_batch\u001b[0;34m(self, iterator)\u001b[0m\n\u001b[1;32m    857\u001b[0m                 \u001b[0;32mreturn\u001b[0m \u001b[0;32mFalse\u001b[0m\u001b[0;34m\u001b[0m\u001b[0;34m\u001b[0m\u001b[0m\n\u001b[1;32m    858\u001b[0m             \u001b[0;32melse\u001b[0m\u001b[0;34m:\u001b[0m\u001b[0;34m\u001b[0m\u001b[0;34m\u001b[0m\u001b[0m\n\u001b[0;32m--> 859\u001b[0;31m                 \u001b[0mself\u001b[0m\u001b[0;34m.\u001b[0m\u001b[0m_dispatch\u001b[0m\u001b[0;34m(\u001b[0m\u001b[0mtasks\u001b[0m\u001b[0;34m)\u001b[0m\u001b[0;34m\u001b[0m\u001b[0;34m\u001b[0m\u001b[0m\n\u001b[0m\u001b[1;32m    860\u001b[0m                 \u001b[0;32mreturn\u001b[0m \u001b[0;32mTrue\u001b[0m\u001b[0;34m\u001b[0m\u001b[0;34m\u001b[0m\u001b[0m\n\u001b[1;32m    861\u001b[0m \u001b[0;34m\u001b[0m\u001b[0m\n",
      "\u001b[0;32m/opt/anaconda3/envs/SIRANO/lib/python3.8/site-packages/joblib/parallel.py\u001b[0m in \u001b[0;36m_dispatch\u001b[0;34m(self, batch)\u001b[0m\n\u001b[1;32m    775\u001b[0m         \u001b[0;32mwith\u001b[0m \u001b[0mself\u001b[0m\u001b[0;34m.\u001b[0m\u001b[0m_lock\u001b[0m\u001b[0;34m:\u001b[0m\u001b[0;34m\u001b[0m\u001b[0;34m\u001b[0m\u001b[0m\n\u001b[1;32m    776\u001b[0m             \u001b[0mjob_idx\u001b[0m \u001b[0;34m=\u001b[0m \u001b[0mlen\u001b[0m\u001b[0;34m(\u001b[0m\u001b[0mself\u001b[0m\u001b[0;34m.\u001b[0m\u001b[0m_jobs\u001b[0m\u001b[0;34m)\u001b[0m\u001b[0;34m\u001b[0m\u001b[0;34m\u001b[0m\u001b[0m\n\u001b[0;32m--> 777\u001b[0;31m             \u001b[0mjob\u001b[0m \u001b[0;34m=\u001b[0m \u001b[0mself\u001b[0m\u001b[0;34m.\u001b[0m\u001b[0m_backend\u001b[0m\u001b[0;34m.\u001b[0m\u001b[0mapply_async\u001b[0m\u001b[0;34m(\u001b[0m\u001b[0mbatch\u001b[0m\u001b[0;34m,\u001b[0m \u001b[0mcallback\u001b[0m\u001b[0;34m=\u001b[0m\u001b[0mcb\u001b[0m\u001b[0;34m)\u001b[0m\u001b[0;34m\u001b[0m\u001b[0;34m\u001b[0m\u001b[0m\n\u001b[0m\u001b[1;32m    778\u001b[0m             \u001b[0;31m# A job can complete so quickly than its callback is\u001b[0m\u001b[0;34m\u001b[0m\u001b[0;34m\u001b[0m\u001b[0;34m\u001b[0m\u001b[0m\n\u001b[1;32m    779\u001b[0m             \u001b[0;31m# called before we get here, causing self._jobs to\u001b[0m\u001b[0;34m\u001b[0m\u001b[0;34m\u001b[0m\u001b[0;34m\u001b[0m\u001b[0m\n",
      "\u001b[0;32m/opt/anaconda3/envs/SIRANO/lib/python3.8/site-packages/joblib/_parallel_backends.py\u001b[0m in \u001b[0;36mapply_async\u001b[0;34m(self, func, callback)\u001b[0m\n\u001b[1;32m    206\u001b[0m     \u001b[0;32mdef\u001b[0m \u001b[0mapply_async\u001b[0m\u001b[0;34m(\u001b[0m\u001b[0mself\u001b[0m\u001b[0;34m,\u001b[0m \u001b[0mfunc\u001b[0m\u001b[0;34m,\u001b[0m \u001b[0mcallback\u001b[0m\u001b[0;34m=\u001b[0m\u001b[0;32mNone\u001b[0m\u001b[0;34m)\u001b[0m\u001b[0;34m:\u001b[0m\u001b[0;34m\u001b[0m\u001b[0;34m\u001b[0m\u001b[0m\n\u001b[1;32m    207\u001b[0m         \u001b[0;34m\"\"\"Schedule a func to be run\"\"\"\u001b[0m\u001b[0;34m\u001b[0m\u001b[0;34m\u001b[0m\u001b[0m\n\u001b[0;32m--> 208\u001b[0;31m         \u001b[0mresult\u001b[0m \u001b[0;34m=\u001b[0m \u001b[0mImmediateResult\u001b[0m\u001b[0;34m(\u001b[0m\u001b[0mfunc\u001b[0m\u001b[0;34m)\u001b[0m\u001b[0;34m\u001b[0m\u001b[0;34m\u001b[0m\u001b[0m\n\u001b[0m\u001b[1;32m    209\u001b[0m         \u001b[0;32mif\u001b[0m \u001b[0mcallback\u001b[0m\u001b[0;34m:\u001b[0m\u001b[0;34m\u001b[0m\u001b[0;34m\u001b[0m\u001b[0m\n\u001b[1;32m    210\u001b[0m             \u001b[0mcallback\u001b[0m\u001b[0;34m(\u001b[0m\u001b[0mresult\u001b[0m\u001b[0;34m)\u001b[0m\u001b[0;34m\u001b[0m\u001b[0;34m\u001b[0m\u001b[0m\n",
      "\u001b[0;32m/opt/anaconda3/envs/SIRANO/lib/python3.8/site-packages/joblib/_parallel_backends.py\u001b[0m in \u001b[0;36m__init__\u001b[0;34m(self, batch)\u001b[0m\n\u001b[1;32m    570\u001b[0m         \u001b[0;31m# Don't delay the application, to avoid keeping the input\u001b[0m\u001b[0;34m\u001b[0m\u001b[0;34m\u001b[0m\u001b[0;34m\u001b[0m\u001b[0m\n\u001b[1;32m    571\u001b[0m         \u001b[0;31m# arguments in memory\u001b[0m\u001b[0;34m\u001b[0m\u001b[0;34m\u001b[0m\u001b[0;34m\u001b[0m\u001b[0m\n\u001b[0;32m--> 572\u001b[0;31m         \u001b[0mself\u001b[0m\u001b[0;34m.\u001b[0m\u001b[0mresults\u001b[0m \u001b[0;34m=\u001b[0m \u001b[0mbatch\u001b[0m\u001b[0;34m(\u001b[0m\u001b[0;34m)\u001b[0m\u001b[0;34m\u001b[0m\u001b[0;34m\u001b[0m\u001b[0m\n\u001b[0m\u001b[1;32m    573\u001b[0m \u001b[0;34m\u001b[0m\u001b[0m\n\u001b[1;32m    574\u001b[0m     \u001b[0;32mdef\u001b[0m \u001b[0mget\u001b[0m\u001b[0;34m(\u001b[0m\u001b[0mself\u001b[0m\u001b[0;34m)\u001b[0m\u001b[0;34m:\u001b[0m\u001b[0;34m\u001b[0m\u001b[0;34m\u001b[0m\u001b[0m\n",
      "\u001b[0;32m/opt/anaconda3/envs/SIRANO/lib/python3.8/site-packages/joblib/parallel.py\u001b[0m in \u001b[0;36m__call__\u001b[0;34m(self)\u001b[0m\n\u001b[1;32m    260\u001b[0m         \u001b[0;31m# change the default number of processes to -1\u001b[0m\u001b[0;34m\u001b[0m\u001b[0;34m\u001b[0m\u001b[0;34m\u001b[0m\u001b[0m\n\u001b[1;32m    261\u001b[0m         \u001b[0;32mwith\u001b[0m \u001b[0mparallel_backend\u001b[0m\u001b[0;34m(\u001b[0m\u001b[0mself\u001b[0m\u001b[0;34m.\u001b[0m\u001b[0m_backend\u001b[0m\u001b[0;34m,\u001b[0m \u001b[0mn_jobs\u001b[0m\u001b[0;34m=\u001b[0m\u001b[0mself\u001b[0m\u001b[0;34m.\u001b[0m\u001b[0m_n_jobs\u001b[0m\u001b[0;34m)\u001b[0m\u001b[0;34m:\u001b[0m\u001b[0;34m\u001b[0m\u001b[0;34m\u001b[0m\u001b[0m\n\u001b[0;32m--> 262\u001b[0;31m             return [func(*args, **kwargs)\n\u001b[0m\u001b[1;32m    263\u001b[0m                     for func, args, kwargs in self.items]\n\u001b[1;32m    264\u001b[0m \u001b[0;34m\u001b[0m\u001b[0m\n",
      "\u001b[0;32m/opt/anaconda3/envs/SIRANO/lib/python3.8/site-packages/joblib/parallel.py\u001b[0m in \u001b[0;36m<listcomp>\u001b[0;34m(.0)\u001b[0m\n\u001b[1;32m    260\u001b[0m         \u001b[0;31m# change the default number of processes to -1\u001b[0m\u001b[0;34m\u001b[0m\u001b[0;34m\u001b[0m\u001b[0;34m\u001b[0m\u001b[0m\n\u001b[1;32m    261\u001b[0m         \u001b[0;32mwith\u001b[0m \u001b[0mparallel_backend\u001b[0m\u001b[0;34m(\u001b[0m\u001b[0mself\u001b[0m\u001b[0;34m.\u001b[0m\u001b[0m_backend\u001b[0m\u001b[0;34m,\u001b[0m \u001b[0mn_jobs\u001b[0m\u001b[0;34m=\u001b[0m\u001b[0mself\u001b[0m\u001b[0;34m.\u001b[0m\u001b[0m_n_jobs\u001b[0m\u001b[0;34m)\u001b[0m\u001b[0;34m:\u001b[0m\u001b[0;34m\u001b[0m\u001b[0;34m\u001b[0m\u001b[0m\n\u001b[0;32m--> 262\u001b[0;31m             return [func(*args, **kwargs)\n\u001b[0m\u001b[1;32m    263\u001b[0m                     for func, args, kwargs in self.items]\n\u001b[1;32m    264\u001b[0m \u001b[0;34m\u001b[0m\u001b[0m\n",
      "\u001b[0;32m/opt/anaconda3/envs/SIRANO/lib/python3.8/site-packages/sklearn/utils/fixes.py\u001b[0m in \u001b[0;36m__call__\u001b[0;34m(self, *args, **kwargs)\u001b[0m\n\u001b[1;32m    220\u001b[0m     \u001b[0;32mdef\u001b[0m \u001b[0m__call__\u001b[0m\u001b[0;34m(\u001b[0m\u001b[0mself\u001b[0m\u001b[0;34m,\u001b[0m \u001b[0;34m*\u001b[0m\u001b[0margs\u001b[0m\u001b[0;34m,\u001b[0m \u001b[0;34m**\u001b[0m\u001b[0mkwargs\u001b[0m\u001b[0;34m)\u001b[0m\u001b[0;34m:\u001b[0m\u001b[0;34m\u001b[0m\u001b[0;34m\u001b[0m\u001b[0m\n\u001b[1;32m    221\u001b[0m         \u001b[0;32mwith\u001b[0m \u001b[0mconfig_context\u001b[0m\u001b[0;34m(\u001b[0m\u001b[0;34m**\u001b[0m\u001b[0mself\u001b[0m\u001b[0;34m.\u001b[0m\u001b[0mconfig\u001b[0m\u001b[0;34m)\u001b[0m\u001b[0;34m:\u001b[0m\u001b[0;34m\u001b[0m\u001b[0;34m\u001b[0m\u001b[0m\n\u001b[0;32m--> 222\u001b[0;31m             \u001b[0;32mreturn\u001b[0m \u001b[0mself\u001b[0m\u001b[0;34m.\u001b[0m\u001b[0mfunction\u001b[0m\u001b[0;34m(\u001b[0m\u001b[0;34m*\u001b[0m\u001b[0margs\u001b[0m\u001b[0;34m,\u001b[0m \u001b[0;34m**\u001b[0m\u001b[0mkwargs\u001b[0m\u001b[0;34m)\u001b[0m\u001b[0;34m\u001b[0m\u001b[0;34m\u001b[0m\u001b[0m\n\u001b[0m",
      "\u001b[0;32m/opt/anaconda3/envs/SIRANO/lib/python3.8/site-packages/sklearn/model_selection/_validation.py\u001b[0m in \u001b[0;36m_fit_and_score\u001b[0;34m(estimator, X, y, scorer, train, test, verbose, parameters, fit_params, return_train_score, return_parameters, return_n_test_samples, return_times, return_estimator, split_progress, candidate_progress, error_score)\u001b[0m\n\u001b[1;32m    591\u001b[0m             \u001b[0mestimator\u001b[0m\u001b[0;34m.\u001b[0m\u001b[0mfit\u001b[0m\u001b[0;34m(\u001b[0m\u001b[0mX_train\u001b[0m\u001b[0;34m,\u001b[0m \u001b[0;34m**\u001b[0m\u001b[0mfit_params\u001b[0m\u001b[0;34m)\u001b[0m\u001b[0;34m\u001b[0m\u001b[0;34m\u001b[0m\u001b[0m\n\u001b[1;32m    592\u001b[0m         \u001b[0;32melse\u001b[0m\u001b[0;34m:\u001b[0m\u001b[0;34m\u001b[0m\u001b[0;34m\u001b[0m\u001b[0m\n\u001b[0;32m--> 593\u001b[0;31m             \u001b[0mestimator\u001b[0m\u001b[0;34m.\u001b[0m\u001b[0mfit\u001b[0m\u001b[0;34m(\u001b[0m\u001b[0mX_train\u001b[0m\u001b[0;34m,\u001b[0m \u001b[0my_train\u001b[0m\u001b[0;34m,\u001b[0m \u001b[0;34m**\u001b[0m\u001b[0mfit_params\u001b[0m\u001b[0;34m)\u001b[0m\u001b[0;34m\u001b[0m\u001b[0;34m\u001b[0m\u001b[0m\n\u001b[0m\u001b[1;32m    594\u001b[0m \u001b[0;34m\u001b[0m\u001b[0m\n\u001b[1;32m    595\u001b[0m     \u001b[0;32mexcept\u001b[0m \u001b[0mException\u001b[0m \u001b[0;32mas\u001b[0m \u001b[0me\u001b[0m\u001b[0;34m:\u001b[0m\u001b[0;34m\u001b[0m\u001b[0;34m\u001b[0m\u001b[0m\n",
      "\u001b[0;32m/opt/anaconda3/envs/SIRANO/lib/python3.8/site-packages/sklearn/ensemble/_forest.py\u001b[0m in \u001b[0;36mfit\u001b[0;34m(self, X, y, sample_weight)\u001b[0m\n\u001b[1;32m    385\u001b[0m             \u001b[0;31m# parallel_backend contexts set at a higher level,\u001b[0m\u001b[0;34m\u001b[0m\u001b[0;34m\u001b[0m\u001b[0;34m\u001b[0m\u001b[0m\n\u001b[1;32m    386\u001b[0m             \u001b[0;31m# since correctness does not rely on using threads.\u001b[0m\u001b[0;34m\u001b[0m\u001b[0;34m\u001b[0m\u001b[0;34m\u001b[0m\u001b[0m\n\u001b[0;32m--> 387\u001b[0;31m             trees = Parallel(n_jobs=self.n_jobs, verbose=self.verbose,\n\u001b[0m\u001b[1;32m    388\u001b[0m                              \u001b[0;34m**\u001b[0m\u001b[0m_joblib_parallel_args\u001b[0m\u001b[0;34m(\u001b[0m\u001b[0mprefer\u001b[0m\u001b[0;34m=\u001b[0m\u001b[0;34m'threads'\u001b[0m\u001b[0;34m)\u001b[0m\u001b[0;34m)\u001b[0m\u001b[0;34m(\u001b[0m\u001b[0;34m\u001b[0m\u001b[0;34m\u001b[0m\u001b[0m\n\u001b[1;32m    389\u001b[0m                 delayed(_parallel_build_trees)(\n",
      "\u001b[0;32m/opt/anaconda3/envs/SIRANO/lib/python3.8/site-packages/joblib/parallel.py\u001b[0m in \u001b[0;36m__call__\u001b[0;34m(self, iterable)\u001b[0m\n\u001b[1;32m   1042\u001b[0m                 \u001b[0mself\u001b[0m\u001b[0;34m.\u001b[0m\u001b[0m_iterating\u001b[0m \u001b[0;34m=\u001b[0m \u001b[0mself\u001b[0m\u001b[0;34m.\u001b[0m\u001b[0m_original_iterator\u001b[0m \u001b[0;32mis\u001b[0m \u001b[0;32mnot\u001b[0m \u001b[0;32mNone\u001b[0m\u001b[0;34m\u001b[0m\u001b[0;34m\u001b[0m\u001b[0m\n\u001b[1;32m   1043\u001b[0m \u001b[0;34m\u001b[0m\u001b[0m\n\u001b[0;32m-> 1044\u001b[0;31m             \u001b[0;32mwhile\u001b[0m \u001b[0mself\u001b[0m\u001b[0;34m.\u001b[0m\u001b[0mdispatch_one_batch\u001b[0m\u001b[0;34m(\u001b[0m\u001b[0miterator\u001b[0m\u001b[0;34m)\u001b[0m\u001b[0;34m:\u001b[0m\u001b[0;34m\u001b[0m\u001b[0;34m\u001b[0m\u001b[0m\n\u001b[0m\u001b[1;32m   1045\u001b[0m                 \u001b[0;32mpass\u001b[0m\u001b[0;34m\u001b[0m\u001b[0;34m\u001b[0m\u001b[0m\n\u001b[1;32m   1046\u001b[0m \u001b[0;34m\u001b[0m\u001b[0m\n",
      "\u001b[0;32m/opt/anaconda3/envs/SIRANO/lib/python3.8/site-packages/joblib/parallel.py\u001b[0m in \u001b[0;36mdispatch_one_batch\u001b[0;34m(self, iterator)\u001b[0m\n\u001b[1;32m    857\u001b[0m                 \u001b[0;32mreturn\u001b[0m \u001b[0;32mFalse\u001b[0m\u001b[0;34m\u001b[0m\u001b[0;34m\u001b[0m\u001b[0m\n\u001b[1;32m    858\u001b[0m             \u001b[0;32melse\u001b[0m\u001b[0;34m:\u001b[0m\u001b[0;34m\u001b[0m\u001b[0;34m\u001b[0m\u001b[0m\n\u001b[0;32m--> 859\u001b[0;31m                 \u001b[0mself\u001b[0m\u001b[0;34m.\u001b[0m\u001b[0m_dispatch\u001b[0m\u001b[0;34m(\u001b[0m\u001b[0mtasks\u001b[0m\u001b[0;34m)\u001b[0m\u001b[0;34m\u001b[0m\u001b[0;34m\u001b[0m\u001b[0m\n\u001b[0m\u001b[1;32m    860\u001b[0m                 \u001b[0;32mreturn\u001b[0m \u001b[0;32mTrue\u001b[0m\u001b[0;34m\u001b[0m\u001b[0;34m\u001b[0m\u001b[0m\n\u001b[1;32m    861\u001b[0m \u001b[0;34m\u001b[0m\u001b[0m\n",
      "\u001b[0;32m/opt/anaconda3/envs/SIRANO/lib/python3.8/site-packages/joblib/parallel.py\u001b[0m in \u001b[0;36m_dispatch\u001b[0;34m(self, batch)\u001b[0m\n\u001b[1;32m    775\u001b[0m         \u001b[0;32mwith\u001b[0m \u001b[0mself\u001b[0m\u001b[0;34m.\u001b[0m\u001b[0m_lock\u001b[0m\u001b[0;34m:\u001b[0m\u001b[0;34m\u001b[0m\u001b[0;34m\u001b[0m\u001b[0m\n\u001b[1;32m    776\u001b[0m             \u001b[0mjob_idx\u001b[0m \u001b[0;34m=\u001b[0m \u001b[0mlen\u001b[0m\u001b[0;34m(\u001b[0m\u001b[0mself\u001b[0m\u001b[0;34m.\u001b[0m\u001b[0m_jobs\u001b[0m\u001b[0;34m)\u001b[0m\u001b[0;34m\u001b[0m\u001b[0;34m\u001b[0m\u001b[0m\n\u001b[0;32m--> 777\u001b[0;31m             \u001b[0mjob\u001b[0m \u001b[0;34m=\u001b[0m \u001b[0mself\u001b[0m\u001b[0;34m.\u001b[0m\u001b[0m_backend\u001b[0m\u001b[0;34m.\u001b[0m\u001b[0mapply_async\u001b[0m\u001b[0;34m(\u001b[0m\u001b[0mbatch\u001b[0m\u001b[0;34m,\u001b[0m \u001b[0mcallback\u001b[0m\u001b[0;34m=\u001b[0m\u001b[0mcb\u001b[0m\u001b[0;34m)\u001b[0m\u001b[0;34m\u001b[0m\u001b[0;34m\u001b[0m\u001b[0m\n\u001b[0m\u001b[1;32m    778\u001b[0m             \u001b[0;31m# A job can complete so quickly than its callback is\u001b[0m\u001b[0;34m\u001b[0m\u001b[0;34m\u001b[0m\u001b[0;34m\u001b[0m\u001b[0m\n\u001b[1;32m    779\u001b[0m             \u001b[0;31m# called before we get here, causing self._jobs to\u001b[0m\u001b[0;34m\u001b[0m\u001b[0;34m\u001b[0m\u001b[0;34m\u001b[0m\u001b[0m\n",
      "\u001b[0;32m/opt/anaconda3/envs/SIRANO/lib/python3.8/site-packages/joblib/_parallel_backends.py\u001b[0m in \u001b[0;36mapply_async\u001b[0;34m(self, func, callback)\u001b[0m\n\u001b[1;32m    206\u001b[0m     \u001b[0;32mdef\u001b[0m \u001b[0mapply_async\u001b[0m\u001b[0;34m(\u001b[0m\u001b[0mself\u001b[0m\u001b[0;34m,\u001b[0m \u001b[0mfunc\u001b[0m\u001b[0;34m,\u001b[0m \u001b[0mcallback\u001b[0m\u001b[0;34m=\u001b[0m\u001b[0;32mNone\u001b[0m\u001b[0;34m)\u001b[0m\u001b[0;34m:\u001b[0m\u001b[0;34m\u001b[0m\u001b[0;34m\u001b[0m\u001b[0m\n\u001b[1;32m    207\u001b[0m         \u001b[0;34m\"\"\"Schedule a func to be run\"\"\"\u001b[0m\u001b[0;34m\u001b[0m\u001b[0;34m\u001b[0m\u001b[0m\n\u001b[0;32m--> 208\u001b[0;31m         \u001b[0mresult\u001b[0m \u001b[0;34m=\u001b[0m \u001b[0mImmediateResult\u001b[0m\u001b[0;34m(\u001b[0m\u001b[0mfunc\u001b[0m\u001b[0;34m)\u001b[0m\u001b[0;34m\u001b[0m\u001b[0;34m\u001b[0m\u001b[0m\n\u001b[0m\u001b[1;32m    209\u001b[0m         \u001b[0;32mif\u001b[0m \u001b[0mcallback\u001b[0m\u001b[0;34m:\u001b[0m\u001b[0;34m\u001b[0m\u001b[0;34m\u001b[0m\u001b[0m\n\u001b[1;32m    210\u001b[0m             \u001b[0mcallback\u001b[0m\u001b[0;34m(\u001b[0m\u001b[0mresult\u001b[0m\u001b[0;34m)\u001b[0m\u001b[0;34m\u001b[0m\u001b[0;34m\u001b[0m\u001b[0m\n",
      "\u001b[0;32m/opt/anaconda3/envs/SIRANO/lib/python3.8/site-packages/joblib/_parallel_backends.py\u001b[0m in \u001b[0;36m__init__\u001b[0;34m(self, batch)\u001b[0m\n\u001b[1;32m    570\u001b[0m         \u001b[0;31m# Don't delay the application, to avoid keeping the input\u001b[0m\u001b[0;34m\u001b[0m\u001b[0;34m\u001b[0m\u001b[0;34m\u001b[0m\u001b[0m\n\u001b[1;32m    571\u001b[0m         \u001b[0;31m# arguments in memory\u001b[0m\u001b[0;34m\u001b[0m\u001b[0;34m\u001b[0m\u001b[0;34m\u001b[0m\u001b[0m\n\u001b[0;32m--> 572\u001b[0;31m         \u001b[0mself\u001b[0m\u001b[0;34m.\u001b[0m\u001b[0mresults\u001b[0m \u001b[0;34m=\u001b[0m \u001b[0mbatch\u001b[0m\u001b[0;34m(\u001b[0m\u001b[0;34m)\u001b[0m\u001b[0;34m\u001b[0m\u001b[0;34m\u001b[0m\u001b[0m\n\u001b[0m\u001b[1;32m    573\u001b[0m \u001b[0;34m\u001b[0m\u001b[0m\n\u001b[1;32m    574\u001b[0m     \u001b[0;32mdef\u001b[0m \u001b[0mget\u001b[0m\u001b[0;34m(\u001b[0m\u001b[0mself\u001b[0m\u001b[0;34m)\u001b[0m\u001b[0;34m:\u001b[0m\u001b[0;34m\u001b[0m\u001b[0;34m\u001b[0m\u001b[0m\n",
      "\u001b[0;32m/opt/anaconda3/envs/SIRANO/lib/python3.8/site-packages/joblib/parallel.py\u001b[0m in \u001b[0;36m__call__\u001b[0;34m(self)\u001b[0m\n\u001b[1;32m    260\u001b[0m         \u001b[0;31m# change the default number of processes to -1\u001b[0m\u001b[0;34m\u001b[0m\u001b[0;34m\u001b[0m\u001b[0;34m\u001b[0m\u001b[0m\n\u001b[1;32m    261\u001b[0m         \u001b[0;32mwith\u001b[0m \u001b[0mparallel_backend\u001b[0m\u001b[0;34m(\u001b[0m\u001b[0mself\u001b[0m\u001b[0;34m.\u001b[0m\u001b[0m_backend\u001b[0m\u001b[0;34m,\u001b[0m \u001b[0mn_jobs\u001b[0m\u001b[0;34m=\u001b[0m\u001b[0mself\u001b[0m\u001b[0;34m.\u001b[0m\u001b[0m_n_jobs\u001b[0m\u001b[0;34m)\u001b[0m\u001b[0;34m:\u001b[0m\u001b[0;34m\u001b[0m\u001b[0;34m\u001b[0m\u001b[0m\n\u001b[0;32m--> 262\u001b[0;31m             return [func(*args, **kwargs)\n\u001b[0m\u001b[1;32m    263\u001b[0m                     for func, args, kwargs in self.items]\n\u001b[1;32m    264\u001b[0m \u001b[0;34m\u001b[0m\u001b[0m\n",
      "\u001b[0;32m/opt/anaconda3/envs/SIRANO/lib/python3.8/site-packages/joblib/parallel.py\u001b[0m in \u001b[0;36m<listcomp>\u001b[0;34m(.0)\u001b[0m\n\u001b[1;32m    260\u001b[0m         \u001b[0;31m# change the default number of processes to -1\u001b[0m\u001b[0;34m\u001b[0m\u001b[0;34m\u001b[0m\u001b[0;34m\u001b[0m\u001b[0m\n\u001b[1;32m    261\u001b[0m         \u001b[0;32mwith\u001b[0m \u001b[0mparallel_backend\u001b[0m\u001b[0;34m(\u001b[0m\u001b[0mself\u001b[0m\u001b[0;34m.\u001b[0m\u001b[0m_backend\u001b[0m\u001b[0;34m,\u001b[0m \u001b[0mn_jobs\u001b[0m\u001b[0;34m=\u001b[0m\u001b[0mself\u001b[0m\u001b[0;34m.\u001b[0m\u001b[0m_n_jobs\u001b[0m\u001b[0;34m)\u001b[0m\u001b[0;34m:\u001b[0m\u001b[0;34m\u001b[0m\u001b[0;34m\u001b[0m\u001b[0m\n\u001b[0;32m--> 262\u001b[0;31m             return [func(*args, **kwargs)\n\u001b[0m\u001b[1;32m    263\u001b[0m                     for func, args, kwargs in self.items]\n\u001b[1;32m    264\u001b[0m \u001b[0;34m\u001b[0m\u001b[0m\n",
      "\u001b[0;32m/opt/anaconda3/envs/SIRANO/lib/python3.8/site-packages/sklearn/utils/fixes.py\u001b[0m in \u001b[0;36m__call__\u001b[0;34m(self, *args, **kwargs)\u001b[0m\n\u001b[1;32m    220\u001b[0m     \u001b[0;32mdef\u001b[0m \u001b[0m__call__\u001b[0m\u001b[0;34m(\u001b[0m\u001b[0mself\u001b[0m\u001b[0;34m,\u001b[0m \u001b[0;34m*\u001b[0m\u001b[0margs\u001b[0m\u001b[0;34m,\u001b[0m \u001b[0;34m**\u001b[0m\u001b[0mkwargs\u001b[0m\u001b[0;34m)\u001b[0m\u001b[0;34m:\u001b[0m\u001b[0;34m\u001b[0m\u001b[0;34m\u001b[0m\u001b[0m\n\u001b[1;32m    221\u001b[0m         \u001b[0;32mwith\u001b[0m \u001b[0mconfig_context\u001b[0m\u001b[0;34m(\u001b[0m\u001b[0;34m**\u001b[0m\u001b[0mself\u001b[0m\u001b[0;34m.\u001b[0m\u001b[0mconfig\u001b[0m\u001b[0;34m)\u001b[0m\u001b[0;34m:\u001b[0m\u001b[0;34m\u001b[0m\u001b[0;34m\u001b[0m\u001b[0m\n\u001b[0;32m--> 222\u001b[0;31m             \u001b[0;32mreturn\u001b[0m \u001b[0mself\u001b[0m\u001b[0;34m.\u001b[0m\u001b[0mfunction\u001b[0m\u001b[0;34m(\u001b[0m\u001b[0;34m*\u001b[0m\u001b[0margs\u001b[0m\u001b[0;34m,\u001b[0m \u001b[0;34m**\u001b[0m\u001b[0mkwargs\u001b[0m\u001b[0;34m)\u001b[0m\u001b[0;34m\u001b[0m\u001b[0;34m\u001b[0m\u001b[0m\n\u001b[0m",
      "\u001b[0;32m/opt/anaconda3/envs/SIRANO/lib/python3.8/site-packages/sklearn/ensemble/_forest.py\u001b[0m in \u001b[0;36m_parallel_build_trees\u001b[0;34m(tree, forest, X, y, sample_weight, tree_idx, n_trees, verbose, class_weight, n_samples_bootstrap)\u001b[0m\n\u001b[1;32m    167\u001b[0m                                                         indices=indices)\n\u001b[1;32m    168\u001b[0m \u001b[0;34m\u001b[0m\u001b[0m\n\u001b[0;32m--> 169\u001b[0;31m         \u001b[0mtree\u001b[0m\u001b[0;34m.\u001b[0m\u001b[0mfit\u001b[0m\u001b[0;34m(\u001b[0m\u001b[0mX\u001b[0m\u001b[0;34m,\u001b[0m \u001b[0my\u001b[0m\u001b[0;34m,\u001b[0m \u001b[0msample_weight\u001b[0m\u001b[0;34m=\u001b[0m\u001b[0mcurr_sample_weight\u001b[0m\u001b[0;34m,\u001b[0m \u001b[0mcheck_input\u001b[0m\u001b[0;34m=\u001b[0m\u001b[0;32mFalse\u001b[0m\u001b[0;34m)\u001b[0m\u001b[0;34m\u001b[0m\u001b[0;34m\u001b[0m\u001b[0m\n\u001b[0m\u001b[1;32m    170\u001b[0m     \u001b[0;32melse\u001b[0m\u001b[0;34m:\u001b[0m\u001b[0;34m\u001b[0m\u001b[0;34m\u001b[0m\u001b[0m\n\u001b[1;32m    171\u001b[0m         \u001b[0mtree\u001b[0m\u001b[0;34m.\u001b[0m\u001b[0mfit\u001b[0m\u001b[0;34m(\u001b[0m\u001b[0mX\u001b[0m\u001b[0;34m,\u001b[0m \u001b[0my\u001b[0m\u001b[0;34m,\u001b[0m \u001b[0msample_weight\u001b[0m\u001b[0;34m=\u001b[0m\u001b[0msample_weight\u001b[0m\u001b[0;34m,\u001b[0m \u001b[0mcheck_input\u001b[0m\u001b[0;34m=\u001b[0m\u001b[0;32mFalse\u001b[0m\u001b[0;34m)\u001b[0m\u001b[0;34m\u001b[0m\u001b[0;34m\u001b[0m\u001b[0m\n",
      "\u001b[0;32m/opt/anaconda3/envs/SIRANO/lib/python3.8/site-packages/sklearn/tree/_classes.py\u001b[0m in \u001b[0;36mfit\u001b[0;34m(self, X, y, sample_weight, check_input, X_idx_sorted)\u001b[0m\n\u001b[1;32m    896\u001b[0m         \"\"\"\n\u001b[1;32m    897\u001b[0m \u001b[0;34m\u001b[0m\u001b[0m\n\u001b[0;32m--> 898\u001b[0;31m         super().fit(\n\u001b[0m\u001b[1;32m    899\u001b[0m             \u001b[0mX\u001b[0m\u001b[0;34m,\u001b[0m \u001b[0my\u001b[0m\u001b[0;34m,\u001b[0m\u001b[0;34m\u001b[0m\u001b[0;34m\u001b[0m\u001b[0m\n\u001b[1;32m    900\u001b[0m             \u001b[0msample_weight\u001b[0m\u001b[0;34m=\u001b[0m\u001b[0msample_weight\u001b[0m\u001b[0;34m,\u001b[0m\u001b[0;34m\u001b[0m\u001b[0;34m\u001b[0m\u001b[0m\n",
      "\u001b[0;32m/opt/anaconda3/envs/SIRANO/lib/python3.8/site-packages/sklearn/tree/_classes.py\u001b[0m in \u001b[0;36mfit\u001b[0;34m(self, X, y, sample_weight, check_input, X_idx_sorted)\u001b[0m\n\u001b[1;32m    387\u001b[0m                                            min_impurity_split)\n\u001b[1;32m    388\u001b[0m \u001b[0;34m\u001b[0m\u001b[0m\n\u001b[0;32m--> 389\u001b[0;31m         \u001b[0mbuilder\u001b[0m\u001b[0;34m.\u001b[0m\u001b[0mbuild\u001b[0m\u001b[0;34m(\u001b[0m\u001b[0mself\u001b[0m\u001b[0;34m.\u001b[0m\u001b[0mtree_\u001b[0m\u001b[0;34m,\u001b[0m \u001b[0mX\u001b[0m\u001b[0;34m,\u001b[0m \u001b[0my\u001b[0m\u001b[0;34m,\u001b[0m \u001b[0msample_weight\u001b[0m\u001b[0;34m)\u001b[0m\u001b[0;34m\u001b[0m\u001b[0;34m\u001b[0m\u001b[0m\n\u001b[0m\u001b[1;32m    390\u001b[0m \u001b[0;34m\u001b[0m\u001b[0m\n\u001b[1;32m    391\u001b[0m         \u001b[0;32mif\u001b[0m \u001b[0mself\u001b[0m\u001b[0;34m.\u001b[0m\u001b[0mn_outputs_\u001b[0m \u001b[0;34m==\u001b[0m \u001b[0;36m1\u001b[0m \u001b[0;32mand\u001b[0m \u001b[0mis_classifier\u001b[0m\u001b[0;34m(\u001b[0m\u001b[0mself\u001b[0m\u001b[0;34m)\u001b[0m\u001b[0;34m:\u001b[0m\u001b[0;34m\u001b[0m\u001b[0;34m\u001b[0m\u001b[0m\n",
      "\u001b[0;31mKeyboardInterrupt\u001b[0m: "
     ]
    }
   ],
   "source": [
    "#!pip install -U scikit-learn \n",
    "from sklearn.feature_selection import SequentialFeatureSelector\n",
    "from sklearn.ensemble import RandomForestClassifier\n",
    "\n",
    "clf = RandomForestClassifier()\n",
    "sfs = SequentialFeatureSelector(clf, \n",
    "    n_features_to_select=100, direction='forward', cv=5)\n",
    "                               \n",
    "sfs.fit(X_train, y_train)"
   ]
  },
  {
   "cell_type": "code",
   "execution_count": null,
   "metadata": {
    "id": "a3ei9eTumdH9"
   },
   "outputs": [],
   "source": [
    "from sklearn.preprocessing import StandardScaler\n",
    " \n",
    "scaler = StandardScaler()\n",
    "X_train = scaler.fit_transform(X_train)\n",
    "X_val = scaler.transform(X_val)"
   ]
  },
  {
   "cell_type": "code",
   "execution_count": null,
   "metadata": {
    "collapsed": true,
    "id": "uIEZHs24mdH9",
    "jupyter": {
     "outputs_hidden": true
    },
    "outputId": "8149ee47-f19a-4f75-8c4b-2959e68f9345"
   },
   "outputs": [
    {
     "name": "stdout",
     "output_type": "stream",
     "text": [
      "0 / 1 / 2 / 3 / 4 / 5 / 6 / 7 / 8 / 9 / 10 / 11 / 12 / 13 / 14 / 15 / 16 / 17 / 18 / 19 / 20 / 21 / 22 / 23 / 24 / 25 / 26 / 27 / 28 / 29 / 30 / 31 / 32 / 33 / 34 / 35 / 36 / 37 / 38 / 39 / 40 / 41 / 42 / 43 / 44 / 45 / 46 / 47 / 48 / 49 / 50 / 51 / 52 / 53 / 54 / 55 / 56 / 57 / 58 / 59 / 60 / 61 / 62 / 63 / 64 / 65 / 66 / 67 / 68 / 69 / 70 / 71 / 72 / 73 / 74 / 75 / 76 / 77 / 78 / 79 / 80 / 81 / 82 / 83 / 84 / 85 / 86 / 87 / 88 / 89 / 90 / 91 / 92 / 93 / 94 / 95 / 96 / 97 / 98 / 99 / 100 / 101 / 102 / 103 / 104 / 105 / 106 / 107 / 108 / 109 / 110 / 111 / 112 / 113 / 114 / 115 / 116 / 117 / 118 / 119 / 120 / 121 / 122 / 123 / 124 / 125 / 126 / 127 / 128 / 129 / 130 / 131 / 132 / 133 / 134 / 135 / 136 / 137 / 138 / 139 / 140 / 141 / 142 / 143 / 144 / 145 / 146 / 147 / 148 / 149 / 150 / 151 / 152 / 153 / 154 / 155 / 156 / 157 / 158 / 159 / 160 / 161 / 162 / 163 / 164 / 165 / 166 / 167 / 168 / 169 / 170 / 171 / 172 / 173 / 174 / 175 / 176 / 177 / 178 / 179 / 180 / 181 / 182 / 183 / 184 / 185 / 186 / 187 / 188 / 189 / 190 / 191 / 192 / 193 / 194 / 195 / 196 / 197 / 198 / 199 / 200 / 201 / 202 / 203 / 204 / 205 / 206 / 207 / 208 / 209 / 210 / 211 / 212 / 213 / 214 / 215 / 216 / 217 / 218 / 219 / 220 / 221 / 222 / 223 / 224 / 225 / 226 / 227 / 228 / 229 / 230 / 231 / 232 / 233 / 234 / 235 / 236 / 237 / 238 / 239 / 240 / 241 / 242 / 243 / 244 / 245 / 246 / 247 / 248 / 249 / 250 / 251 / 252 / 253 / 254 / 255 / 256 / 257 / 258 / 259 / 260 / 261 / 262 / 263 / 264 / 265 / 266 / 267 / 268 / 269 / 270 / 271 / 272 / 273 / 274 / 275 / 276 / 277 / 278 / 279 / 280 / 281 / 282 / 283 / 284 / 285 / 286 / 287 / 288 / 289 / 290 / 291 / 292 / 293 / 294 / 295 / 296 / 297 / 298 / 299 / 300 / 301 / 302 / 303 / 304 / 305 / 306 / 307 / 308 / 309 / 310 / 311 / 312 / 313 / 314 / 315 / 316 / 317 / 318 / 319 / 320 / 321 / 322 / 323 / 324 / 325 / 326 / 327 / 328 / 329 / 330 / 331 / 332 / 333 / 334 / 335 / 336 / 337 / 338 / 339 / 340 / 341 / 342 / 343 / 344 / 345 / 346 / 347 / 348 / 349 / 350 / 351 / 352 / 353 / 354 / 355 / 356 / 357 / 358 / 359 / 360 / 361 / 362 / 363 / 364 / 365 / 366 / 367 / 368 / 369 / 370 / 371 / 372 / 373 / 374 / 375 / 376 / 377 / 378 / 379 / 380 / 381 / 382 / 383 / 384 / 385 / 386 / 387 / 388 / 389 / 390 / 391 / 392 / 393 / 394 / 395 / 396 / 397 / 398 / 399 / 400 / 401 / 402 / 403 / 404 / 405 / 406 / 407 / 408 / 409 / 410 / 411 / 412 / 413 / 414 / 415 / 416 / 417 / 418 / 419 / 420 / 421 / 422 / 423 / 424 / 425 / 426 / 427 / 428 / 429 / 430 / 431 / 432 / 433 / 434 / 435 / 436 / 437 / 438 / 439 / 440 / 441 / 442 / 443 / 444 / 445 / 446 / 447 / 448 / 449 / 450 / 451 / 452 / 453 / 454 / 455 / 456 / 457 / 458 / 459 / 460 / 461 / 462 / 463 / 464 / 465 / 466 / 467 / 468 / 469 / 470 / 471 / 472 / 473 / 474 / 475 / 476 / 477 / 478 / 479 / 480 / 481 / 482 / 483 / 484 / 485 / 486 / 487 / 488 / 489 / 490 / 491 / 492 / 493 / 494 / 495 / 496 / 497 / 498 / 499 / 500 / 501 / 502 / 503 / 504 / 505 / 506 / 507 / 508 / 509 / 510 / 511 / 512 / 513 / 514 / 515 / 516 / 517 / 518 / 519 / 520 / 521 / 522 / 523 / 524 / 525 / 526 / 527 / 528 / 529 / 530 / 531 / 532 / 533 / 534 / 535 / 536 / 537 / 538 / 539 / 540 / 541 / 542 / 543 / 544 / 545 / 546 / 547 / 548 / 549 / 550 / 551 / 552 / 553 / 554 / 555 / 556 / 557 / 558 / 559 / 560 / 561 / 562 / 563 / 564 / 565 / 566 / 567 / 568 / 569 / 570 / 571 / 572 / 573 / 574 / 575 / 576 / 577 / 578 / 579 / 580 / 581 / 582 / 583 / 584 / 585 / 586 / 587 / 588 / 589 / 590 / 591 / 592 / 593 / 594 / 595 / 596 / 597 / 598 / 599 / 600 / 601 / 602 / 603 / 604 / 605 / 606 / 607 / 608 / 609 / 610 / 611 / 612 / 613 / 614 / 615 / 616 / 617 / 618 / 619 / 620 / 621 / 622 / 623 / 624 / 625 / 626 / 627 / 628 / 629 / 630 / 631 / 632 / 633 / 634 / 635 / 636 / 637 / 638 / 639 / 640 / 641 / 642 / 643 / 644 / 645 / 646 / 647 / 648 / 649 / 650 / 651 / 652 / 653 / 654 / 655 / 656 / 657 / 658 / 659 / 660 / 661 / 662 / 663 / 664 / 665 / 666 / 667 / 668 / 669 / 670 / 671 / 672 / 673 / 674 / 675 / 676 / 677 / 678 / 679 / 680 / 681 / 682 / 683 / 684 / 685 / 686 / 687 / 688 / 689 / 690 / 691 / 692 / 693 / 694 / 695 / 696 / 697 / 698 / 699 / 700 / 701 / 702 / 703 / 704 / 705 / 706 / 707 / 708 / 709 / 710 / 711 / 712 / 713 / 714 / 715 / 716 / 717 / 718 / 719 / 720 / 721 / 722 / 723 / 724 / 725 / 726 / 727 / 728 / 729 / 730 / 731 / 732 / 733 / 734 / 735 / 736 / 737 / 738 / 739 / 740 / 741 / 742 / 743 / 744 / 745 / 746 / 747 / 748 / 749 / 750 / 751 / 752 / 753 / 754 / 755 / 756 / 757 / 758 / 759 / 760 / 761 / 762 / 763 / 764 / 765 / 766 / 767 / 768 / 769 / 770 / 771 / 772 / 773 / 774 / 775 / 776 / 777 / 778 / 779 / 780 / 781 / 782 / 783 / 784 / 785 / 786 / 787 / 788 / 789 / 790 / 791 / 792 / 793 / 794 / 795 / 796 / 797 / 798 / 799 / 800 / 801 / 802 / 803 / 804 / 805 / 806 / 807 / 808 / 809 / 810 / 811 / 812 / 813 / 814 / 815 / 816 / 817 / 818 / 819 / 820 / 821 / 822 / 823 / 824 / 825 / 826 / 827 / 828 / 829 / 830 / 831 / 832 / 833 / 834 / 835 / 836 / 837 / 838 / 839 / 840 / 841 / 842 / 843 / 844 / 845 / 846 / 847 / 848 / 849 / 850 / 851 / 852 / 853 / 854 / 855 / 856 / 857 / 858 / 859 / 860 / 861 / 862 / 863 / 864 / 865 / 866 / 867 / 868 / 869 / 870 / 871 / 872 / 873 / 874 / 875 / 876 / 877 / 878 / 879 / 880 / 881 / 882 / 883 / 884 / 885 / 886 / 887 / 888 / 889 / 890 / 891 / 892 / 893 / 894 / 895 / 896 / 897 / 898 / 899 / 900 / 901 / 902 / 903 / 904 / 905 / 906 / 907 / 908 / 909 / 910 / 911 / 912 / 913 / 914 / 915 / 916 / 917 / 918 / 919 / 920 / 921 / 922 / 923 / 924 / 925 / 926 / 927 / 928 / 929 / 930 / 931 / 932 / 933 / 934 / 935 / 936 / 937 / 938 / 939 / 940 / 941 / 942 / 943 / 944 / 945 / 946 / 947 / 948 / 949 / 950 / 951 / 952 / 953 / 954 / 955 / 956 / 957 / 958 / 959 / 960 / 961 / 962 / 963 / 964 / 965 / 966 / 967 / 968 / 969 / 970 / 971 / 972 / 973 / 974 / 975 / 976 / 977 / 978 / 979 / 980 / 981 / 982 / 983 / 984 / 985 / 986 / 987 / 988 / 989 / 990 / 991 / 992 / 993 / 994 / 995 / 996 / 997 / 998 / 999 / "
     ]
    }
   ],
   "source": [
    "# MI\n",
    "\n",
    "from sklearn.feature_selection import SelectKBest, mutual_info_classif\n",
    "from sklearn.utils import resample\n",
    "\n",
    "a=[i for i in range(X_train.shape[0])]\n",
    "np.random.seed(42)\n",
    "scores_MI=pd.DataFrame([])\n",
    "\n",
    "fs = SelectKBest(mutual_info_classif)\n",
    "\n",
    "for k in range(1000):\n",
    "    select=np.random.choice(a, size=X_train.shape[0])\n",
    "    X_chosen=X_train[select,:]\n",
    "    y_chosen=np.array(y_train.iloc[select])\n",
    "    fs.fit(X_chosen, y_chosen)\n",
    "    s=pd.DataFrame(fs.scores_).T\n",
    "    scores_MI=scores_MI.append(s,ignore_index=True)\n",
    "    print(k, end=' / ')\n"
   ]
  },
  {
   "cell_type": "code",
   "execution_count": null,
   "metadata": {
    "id": "7SaHfGOOmdH-",
    "outputId": "85e44f63-e5e8-4606-abb3-53fde15b7e9d"
   },
   "outputs": [
    {
     "name": "stdout",
     "output_type": "stream",
     "text": [
      "                                      mean       std\n",
      "T2_firstorder_10Percentile        0.206942  0.044305\n",
      "T2_firstorder_90Percentile        0.216587  0.043522\n",
      "T2_firstorder_Energy              0.193893  0.042693\n",
      "T2_firstorder_Entropy             0.217088  0.043643\n",
      "T2_firstorder_InterquartileRange  0.211525  0.042555\n",
      "...                                    ...       ...\n",
      "T1C_ngtdm_Busyness                0.190211  0.042808\n",
      "T1C_ngtdm_Coarseness              0.124460  0.037034\n",
      "T1C_ngtdm_Complexity              0.223452  0.043064\n",
      "T1C_ngtdm_Contrast                0.225418  0.042859\n",
      "T1C_ngtdm_Strength                0.237643  0.043846\n",
      "\n",
      "[170 rows x 2 columns]\n"
     ]
    }
   ],
   "source": [
    "\n",
    "result_MI=scores_MI.describe().iloc[1:3,:]\n",
    "result_MI.columns=features_names\n",
    "print(result_MI.T)\n",
    "result_MI.T.to_csv('feature_select_result_MI.csv')"
   ]
  },
  {
   "cell_type": "code",
   "execution_count": null,
   "metadata": {
    "id": "vhoUIwEmmdH-",
    "outputId": "4cc08794-fd71-4779-f675-e0c415bd39c1"
   },
   "outputs": [
    {
     "name": "stderr",
     "output_type": "stream",
     "text": [
      "C:\\Users\\Bio\\Anaconda3\\lib\\site-packages\\sklearn\\model_selection\\_search.py:814: DeprecationWarning: The default of the `iid` parameter will change from True to False in version 0.22 and will be removed in 0.24. This will change numeric results when test-set sizes are unequal.\n",
      "  DeprecationWarning)\n"
     ]
    },
    {
     "name": "stdout",
     "output_type": "stream",
     "text": [
      "Pipeline(memory=None,\n",
      "         steps=[('fs',\n",
      "                 SelectKBest(k=90,\n",
      "                             score_func=<function mutual_info_classif at 0x0000015DB10EF708>)),\n",
      "                ('clf',\n",
      "                 AdaBoostClassifier(algorithm='SAMME.R',\n",
      "                                    base_estimator=DecisionTreeClassifier(class_weight=None,\n",
      "                                                                          criterion='gini',\n",
      "                                                                          max_depth=1,\n",
      "                                                                          max_features=None,\n",
      "                                                                          max_leaf_nodes=None,\n",
      "                                                                          min_impurity_decrease=0.0,\n",
      "                                                                          min_impurity_split=None,\n",
      "                                                                          min_samples_leaf=1,\n",
      "                                                                          min_samples_split=2,\n",
      "                                                                          min_weight_fraction_leaf=0.0,\n",
      "                                                                          presort=False,\n",
      "                                                                          random_state=None,\n",
      "                                                                          splitter='best'),\n",
      "                                    learning_rate=0.5, n_estimators=50,\n",
      "                                    random_state=None))],\n",
      "         verbose=False)\n"
     ]
    }
   ],
   "source": [
    "from sklearn.ensemble import AdaBoostClassifier\n",
    "from sklearn.tree import DecisionTreeClassifier\n",
    "\n",
    "pipe = Pipeline([('fs', SelectKBest(mutual_info_classif)),\n",
    "                 ('clf', AdaBoostClassifier(DecisionTreeClassifier(max_depth=1), learning_rate=0.5))])\n",
    "\n",
    "param_grid = {'fs__k': [30,50,70,90],'clf__n_estimators': [50, 100, 200]}\n",
    "\n",
    "mi_Ada = GridSearchCV(pipe, param_grid, cv=5)\n",
    "mi_Ada.fit(X_train, y_train)\n",
    "print(mi_Ada.best_estimator_)"
   ]
  },
  {
   "cell_type": "code",
   "execution_count": null,
   "metadata": {
    "id": "x8m2CdUSmdH-",
    "outputId": "4b937e15-da98-4492-8502-2de21a48d7a3"
   },
   "outputs": [
    {
     "name": "stdout",
     "output_type": "stream",
     "text": [
      "[35, 88, 67, 10, 14, 70, 11, 34, 38, 33, 37, 25, 135, 26, 63, 133, 12, 15, 141, 120, 24, 97, 27, 16, 6, 99, 129, 90, 28, 64, 36, 162, 134, 93, 83, 60, 7, 23, 104, 79, 100, 19, 169, 68, 111, 71, 105, 13, 150, 65, 58, 124, 54, 115, 140, 21, 114, 29, 102, 41, 61, 122, 145, 96, 107, 76, 49, 87, 121, 62, 75, 103, 168, 84, 5, 113, 40, 50, 101, 82, 159, 153, 167, 127, 155, 147, 143, 20, 146, 91]\n",
      "['T2_glcm_JointEntropy', 'T2_shape_Sphericity', 'T2_glrlm_RunLengthNonUniformityNormalized', 'T2_firstorder_Minimum', 'T2_firstorder_Skewness', 'T2_glrlm_ShortRunEmphasis', 'T2_firstorder_Range', 'T2_glcm_JointEnergy', 'T2_glcm_SumAverage', 'T2_glcm_JointAverage', 'T2_glcm_MaximumProbability', 'T2_glcm_DifferenceVariance', 'T1C_glszm_GrayLevelVariance', 'T2_glcm_Id', 'T2_glrlm_LongRunLowGrayLevelEmphasis', 'T1C_glszm_GrayLevelNonUniformity', 'T2_firstorder_RobustMeanAbsoluteDeviation', 'T2_firstorder_Uniformity', 'T1C_glszm_SizeZoneNonUniformity', 'T1C_glcm_Idmn', 'T2_glcm_DifferenceEntropy', 'T1C_firstorder_Kurtosis', 'T2_glcm_Idm', 'T2_firstorder_Variance', 'T2_firstorder_Maximum', 'T1C_firstorder_Mean', 'T1C_glcm_MaximumProbability', 'T2_shape_SurfaceVolumeRatio', 'T2_glcm_Idmn', 'T2_glrlm_LowGrayLevelRunEmphasis', 'T2_glcm_MCC', 'T1C_glrlm_ShortRunEmphasis', 'T1C_glszm_GrayLevelNonUniformityNormalized', 'T1C_firstorder_90Percentile', 'T2_shape_Maximum2DDiameterRow', 'T2_glrlm_HighGrayLevelRunEmphasis', 'T2_firstorder_Mean', 'T2_glcm_DifferenceAverage', 'T1C_firstorder_RobustMeanAbsoluteDeviation', 'T2_shape_Flatness', 'T1C_firstorder_MeanAbsoluteDeviation', 'T2_glcm_ClusterShade', 'T1C_ngtdm_Strength', 'T2_glrlm_RunPercentage', 'T1C_glcm_ClusterShade', 'T2_glrlm_ShortRunHighGrayLevelEmphasis', 'T1C_firstorder_RootMeanSquared', 'T2_firstorder_RootMeanSquared', 'T1C_glrlm_GrayLevelNonUniformityNormalized', 'T2_glrlm_RunEntropy', 'T2_glrlm_GrayLevelNonUniformityNormalized', 'T1C_glcm_InverseVariance', 'T2_glszm_ZoneEntropy', 'T1C_glcm_DifferenceAverage', 'T1C_glszm_LowGrayLevelZoneEmphasis', 'T2_glcm_Contrast', 'T1C_glcm_Correlation', 'T2_glcm_Idn', 'T1C_firstorder_Minimum', 'T2_glszm_GrayLevelNonUniformity', 'T2_glrlm_LongRunEmphasis', 'T1C_glcm_Imc1', 'T1C_glszm_SmallAreaLowGrayLevelEmphasis', 'T1C_firstorder_InterquartileRange', 'T1C_firstorder_Uniformity', 'T2_ngtdm_Contrast', 'T2_glszm_SizeZoneNonUniformity', 'T2_shape_MinorAxisLength', 'T1C_glcm_Idn', 'T2_glrlm_LongRunHighGrayLevelEmphasis', 'T2_ngtdm_Complexity', 'T1C_firstorder_Range', 'T1C_ngtdm_Contrast', 'T2_shape_Maximum2DDiameterSlice', 'T2_firstorder_Kurtosis', 'T1C_glcm_Contrast', 'T2_glcm_SumSquares', 'T2_glszm_SizeZoneNonUniformityNormalized', 'T1C_firstorder_Median', 'T2_shape_Maximum2DDiameterColumn', 'T1C_glrlm_RunLengthNonUniformityNormalized', 'T1C_glrlm_LongRunEmphasis', 'T1C_ngtdm_Complexity', 'T1C_glcm_JointEntropy', 'T1C_glrlm_LongRunLowGrayLevelEmphasis', 'T1C_glszm_ZonePercentage', 'T1C_glszm_SmallAreaEmphasis', 'T2_glcm_ClusterTendency', 'T1C_glszm_ZoneEntropy', 'T2_shape_VoxelVolume']\n"
     ]
    }
   ],
   "source": [
    "\n",
    "selected_features_MI=list(scores_MI.describe().loc['mean'].sort_values(ascending=[False]).head(90).index)\n",
    "print(selected_features_MI)\n",
    "selected_features_name_MI=[]\n",
    "for i in selected_features_MI:\n",
    "    selected_features_name_MI.append(features_names[i])\n",
    "print(selected_features_name_MI)"
   ]
  },
  {
   "cell_type": "code",
   "execution_count": null,
   "metadata": {
    "id": "C_FwdK1mmdH_",
    "outputId": "fb02f47d-defa-4009-87d4-337c90a1f233"
   },
   "outputs": [
    {
     "data": {
      "text/plain": [
       "0.6219512195121951"
      ]
     },
     "execution_count": 240,
     "metadata": {
      "tags": []
     },
     "output_type": "execute_result"
    }
   ],
   "source": [
    "\n",
    "y_pred=mi_Ada.predict(X_val)\n",
    "accuracy_score(y_val, y_pred)"
   ]
  },
  {
   "cell_type": "code",
   "execution_count": null,
   "metadata": {
    "id": "nQuvqub2mdH_",
    "outputId": "f808f957-39cc-4402-ec3b-7d3cff2b67fb",
    "scrolled": true
   },
   "outputs": [
    {
     "name": "stdout",
     "output_type": "stream",
     "text": [
      "0 / 1 / 2 / 3 / 4 / 5 / 6 / 7 / 8 / 9 / 10 / 11 / 12 / 13 / 14 / 15 / 16 / 17 / 18 / 19 / 20 / 21 / 22 / 23 / 24 / 25 / 26 / 27 / 28 / 29 / 30 / 31 / 32 / 33 / 34 / 35 / 36 / 37 / 38 / 39 / 40 / 41 / 42 / 43 / 44 / 45 / 46 / 47 / 48 / 49 / 50 / 51 / 52 / 53 / 54 / 55 / 56 / 57 / 58 / 59 / 60 / 61 / 62 / 63 / 64 / 65 / 66 / 67 / 68 / 69 / 70 / 71 / 72 / 73 / 74 / 75 / 76 / 77 / 78 / 79 / 80 / 81 / 82 / 83 / 84 / 85 / 86 / 87 / 88 / 89 / 90 / 91 / 92 / 93 / 94 / 95 / 96 / 97 / 98 / 99 / 100 / 101 / 102 / 103 / 104 / 105 / 106 / 107 / 108 / 109 / 110 / 111 / 112 / 113 / 114 / 115 / 116 / 117 / 118 / 119 / 120 / 121 / 122 / 123 / 124 / 125 / 126 / 127 / 128 / 129 / 130 / 131 / 132 / 133 / 134 / 135 / 136 / 137 / 138 / 139 / 140 / 141 / 142 / 143 / 144 / 145 / 146 / 147 / 148 / 149 / 150 / 151 / 152 / 153 / 154 / 155 / 156 / 157 / 158 / 159 / 160 / 161 / 162 / 163 / 164 / 165 / 166 / 167 / 168 / 169 / 170 / 171 / 172 / 173 / 174 / 175 / 176 / 177 / 178 / 179 / 180 / 181 / 182 / 183 / 184 / 185 / 186 / 187 / 188 / 189 / 190 / 191 / 192 / 193 / 194 / 195 / 196 / 197 / 198 / 199 / 200 / 201 / 202 / 203 / 204 / 205 / 206 / 207 / 208 / 209 / 210 / 211 / 212 / 213 / 214 / 215 / 216 / 217 / 218 / 219 / 220 / 221 / 222 / 223 / 224 / 225 / 226 / 227 / 228 / 229 / 230 / 231 / 232 / 233 / 234 / 235 / 236 / 237 / 238 / 239 / 240 / 241 / 242 / 243 / 244 / 245 / 246 / 247 / 248 / 249 / 250 / 251 / 252 / 253 / 254 / 255 / 256 / 257 / 258 / 259 / 260 / 261 / 262 / 263 / 264 / 265 / 266 / 267 / 268 / 269 / 270 / 271 / 272 / 273 / 274 / 275 / 276 / 277 / 278 / 279 / 280 / 281 / 282 / 283 / 284 / 285 / 286 / 287 / 288 / 289 / 290 / 291 / 292 / 293 / 294 / 295 / 296 / 297 / 298 / 299 / 300 / 301 / 302 / 303 / 304 / 305 / 306 / 307 / 308 / 309 / 310 / 311 / 312 / 313 / 314 / 315 / 316 / 317 / 318 / 319 / 320 / 321 / 322 / 323 / 324 / 325 / 326 / 327 / 328 / 329 / 330 / 331 / 332 / 333 / 334 / 335 / 336 / 337 / 338 / 339 / 340 / 341 / 342 / 343 / 344 / 345 / 346 / 347 / 348 / 349 / 350 / 351 / 352 / 353 / 354 / 355 / 356 / 357 / 358 / 359 / 360 / 361 / 362 / 363 / 364 / 365 / 366 / 367 / 368 / 369 / 370 / 371 / 372 / 373 / 374 / 375 / 376 / 377 / 378 / 379 / 380 / 381 / 382 / 383 / 384 / 385 / 386 / 387 / 388 / 389 / 390 / 391 / 392 / 393 / 394 / 395 / 396 / 397 / 398 / 399 / 400 / 401 / 402 / 403 / 404 / 405 / 406 / 407 / 408 / 409 / 410 / 411 / 412 / 413 / 414 / 415 / 416 / 417 / 418 / 419 / 420 / 421 / 422 / 423 / 424 / 425 / 426 / 427 / 428 / 429 / 430 / 431 / 432 / 433 / 434 / 435 / 436 / 437 / 438 / 439 / 440 / 441 / 442 / 443 / 444 / 445 / 446 / 447 / 448 / 449 / 450 / 451 / 452 / 453 / 454 / 455 / 456 / 457 / 458 / 459 / 460 / 461 / 462 / 463 / 464 / 465 / 466 / 467 / 468 / 469 / 470 / 471 / 472 / 473 / 474 / 475 / 476 / 477 / 478 / 479 / 480 / 481 / 482 / 483 / 484 / 485 / 486 / 487 / 488 / 489 / 490 / 491 / 492 / 493 / 494 / 495 / 496 / 497 / 498 / 499 / 500 / 501 / 502 / 503 / 504 / 505 / 506 / 507 / 508 / 509 / 510 / 511 / 512 / 513 / 514 / 515 / 516 / 517 / 518 / 519 / 520 / 521 / 522 / 523 / 524 / 525 / 526 / 527 / 528 / 529 / 530 / 531 / 532 / 533 / 534 / 535 / 536 / 537 / 538 / 539 / 540 / 541 / 542 / 543 / 544 / 545 / 546 / 547 / 548 / 549 / 550 / 551 / 552 / 553 / 554 / 555 / 556 / 557 / 558 / 559 / 560 / 561 / 562 / 563 / 564 / 565 / 566 / 567 / 568 / 569 / 570 / 571 / 572 / 573 / 574 / 575 / 576 / 577 / 578 / 579 / 580 / 581 / 582 / 583 / 584 / 585 / 586 / 587 / 588 / 589 / 590 / 591 / 592 / 593 / 594 / 595 / 596 / 597 / 598 / 599 / 600 / 601 / 602 / 603 / 604 / 605 / 606 / 607 / 608 / 609 / 610 / 611 / 612 / 613 / 614 / 615 / 616 / 617 / 618 / 619 / 620 / 621 / 622 / 623 / 624 / 625 / 626 / 627 / 628 / 629 / 630 / 631 / 632 / 633 / 634 / 635 / 636 / 637 / 638 / 639 / 640 / 641 / 642 / 643 / 644 / 645 / 646 / 647 / 648 / 649 / 650 / 651 / 652 / 653 / 654 / 655 / 656 / 657 / 658 / 659 / 660 / 661 / 662 / 663 / 664 / 665 / 666 / 667 / 668 / 669 / 670 / 671 / 672 / 673 / 674 / 675 / 676 / 677 / 678 / 679 / 680 / 681 / 682 / 683 / 684 / 685 / 686 / 687 / 688 / 689 / 690 / 691 / 692 / 693 / 694 / 695 / 696 / 697 / 698 / 699 / 700 / 701 / 702 / 703 / 704 / 705 / 706 / 707 / 708 / 709 / 710 / 711 / 712 / 713 / 714 / 715 / 716 / 717 / 718 / 719 / 720 / 721 / 722 / 723 / 724 / 725 / 726 / 727 / 728 / 729 / 730 / 731 / 732 / 733 / 734 / 735 / 736 / 737 / 738 / 739 / 740 / 741 / 742 / 743 / 744 / 745 / 746 / 747 / 748 / 749 / 750 / 751 / 752 / 753 / 754 / 755 / 756 / 757 / 758 / 759 / 760 / 761 / 762 / 763 / 764 / 765 / 766 / 767 / 768 / 769 / 770 / 771 / 772 / 773 / 774 / 775 / 776 / 777 / 778 / 779 / 780 / 781 / 782 / 783 / 784 / 785 / 786 / 787 / 788 / 789 / 790 / 791 / 792 / 793 / 794 / 795 / 796 / 797 / 798 / 799 / 800 / 801 / 802 / 803 / 804 / 805 / 806 / 807 / 808 / 809 / 810 / 811 / 812 / 813 / 814 / 815 / 816 / 817 / 818 / 819 / 820 / 821 / 822 / 823 / 824 / 825 / 826 / 827 / 828 / 829 / 830 / 831 / 832 / 833 / 834 / 835 / 836 / 837 / 838 / 839 / 840 / 841 / 842 / 843 / 844 / 845 / 846 / 847 / 848 / 849 / 850 / 851 / 852 / 853 / 854 / 855 / 856 / 857 / 858 / 859 / 860 / 861 / 862 / 863 / 864 / 865 / 866 / 867 / 868 / 869 / 870 / 871 / 872 / 873 / 874 / 875 / 876 / 877 / 878 / 879 / 880 / 881 / 882 / 883 / 884 / 885 / 886 / 887 / 888 / 889 / 890 / 891 / 892 / 893 / 894 / 895 / 896 / 897 / 898 / 899 / 900 / 901 / 902 / 903 / 904 / 905 / 906 / 907 / 908 / 909 / 910 / 911 / 912 / 913 / 914 / 915 / 916 / 917 / 918 / 919 / 920 / 921 / 922 / 923 / 924 / 925 / 926 / 927 / 928 / 929 / 930 / 931 / 932 / 933 / 934 / 935 / 936 / 937 / 938 / 939 / 940 / 941 / 942 / 943 / 944 / 945 / 946 / 947 / 948 / 949 / 950 / 951 / 952 / 953 / 954 / 955 / 956 / 957 / 958 / 959 / 960 / 961 / 962 / 963 / 964 / 965 / 966 / 967 / 968 / 969 / 970 / 971 / 972 / 973 / 974 / 975 / 976 / 977 / 978 / 979 / 980 / 981 / 982 / 983 / 984 / 985 / 986 / 987 / 988 / 989 / 990 / 991 / 992 / 993 / 994 / 995 / 996 / 997 / 998 / 999 /                                        mean       std\n",
      "T2_firstorder_10Percentile         8.534409  3.361356\n",
      "T2_firstorder_90Percentile         3.468304  2.265374\n",
      "T2_firstorder_Energy               2.585580  2.040207\n",
      "T2_firstorder_Entropy             11.002487  4.011225\n",
      "T2_firstorder_InterquartileRange   3.023714  2.360457\n",
      "...                                     ...       ...\n",
      "T1C_ngtdm_Busyness                 3.263032  2.431978\n",
      "T1C_ngtdm_Coarseness               1.063079  1.351404\n",
      "T1C_ngtdm_Complexity               1.000373  1.051431\n",
      "T1C_ngtdm_Contrast                 1.163232  1.213275\n",
      "T1C_ngtdm_Strength                 4.140695  2.355274\n",
      "\n",
      "[170 rows x 2 columns]\n"
     ]
    }
   ],
   "source": [
    "# F-score\n",
    "from sklearn.feature_selection import f_classif\n",
    "\n",
    "a=[i for i in range(X_train.shape[0])]\n",
    "np.random.seed(42)\n",
    "scores_F=pd.DataFrame([])\n",
    "\n",
    "fs= SelectKBest(f_classif)\n",
    "\n",
    "for k in range(1000):\n",
    "    select=np.random.choice(a, size=X_train.shape[0])\n",
    "    X_chosen=X_train[select,:]\n",
    "    y_chosen=np.array(y_train.iloc[select])\n",
    "    fs.fit(X_chosen, y_chosen)\n",
    "    s=pd.DataFrame(fs.scores_).T\n",
    "    scores_F=scores_F.append(s,ignore_index=True)\n",
    "    print(k, end=' / ')\n",
    "\n",
    "result_F=scores_F.describe().iloc[1:3,:]\n",
    "result_F.columns=features_names\n",
    "print(result_F.T)\n",
    "result_F.T.to_csv('feature_select_result_Fscore.csv')\n"
   ]
  },
  {
   "cell_type": "code",
   "execution_count": null,
   "metadata": {
    "id": "sw8OlZTEmdH_",
    "outputId": "f96ec6a9-d349-4ecc-9e64-5ad20148eddd"
   },
   "outputs": [
    {
     "name": "stderr",
     "output_type": "stream",
     "text": [
      "C:\\Users\\Bio\\Anaconda3\\lib\\site-packages\\sklearn\\model_selection\\_search.py:814: DeprecationWarning: The default of the `iid` parameter will change from True to False in version 0.22 and will be removed in 0.24. This will change numeric results when test-set sizes are unequal.\n",
      "  DeprecationWarning)\n"
     ]
    },
    {
     "name": "stdout",
     "output_type": "stream",
     "text": [
      "Pipeline(memory=None,\n",
      "         steps=[('fs',\n",
      "                 SelectKBest(k=70,\n",
      "                             score_func=<function f_classif at 0x0000015DB0DCA558>)),\n",
      "                ('clf',\n",
      "                 AdaBoostClassifier(algorithm='SAMME.R',\n",
      "                                    base_estimator=DecisionTreeClassifier(class_weight=None,\n",
      "                                                                          criterion='gini',\n",
      "                                                                          max_depth=1,\n",
      "                                                                          max_features=None,\n",
      "                                                                          max_leaf_nodes=None,\n",
      "                                                                          min_impurity_decrease=0.0,\n",
      "                                                                          min_impurity_split=None,\n",
      "                                                                          min_samples_leaf=1,\n",
      "                                                                          min_samples_split=2,\n",
      "                                                                          min_weight_fraction_leaf=0.0,\n",
      "                                                                          presort=False,\n",
      "                                                                          random_state=None,\n",
      "                                                                          splitter='best'),\n",
      "                                    learning_rate=0.5, n_estimators=200,\n",
      "                                    random_state=None))],\n",
      "         verbose=False)\n"
     ]
    }
   ],
   "source": [
    "from sklearn.ensemble import AdaBoostClassifier\n",
    "from sklearn.tree import DecisionTreeClassifier\n",
    "\n",
    "pipe = Pipeline([('fs', SelectKBest(f_classif)),\n",
    "                 ('clf', AdaBoostClassifier(DecisionTreeClassifier(max_depth=1), learning_rate=0.5))])\n",
    "\n",
    "param_grid = {'fs__k': [30,50,70,90],'clf__n_estimators': [50, 100, 200]}\n",
    "\n",
    "F_Ada = GridSearchCV(pipe, param_grid, cv=5)\n",
    "F_Ada.fit(X_train, y_train)\n",
    "print(F_Ada.best_estimator_)\n"
   ]
  },
  {
   "cell_type": "code",
   "execution_count": null,
   "metadata": {
    "id": "iGwB5TWQmdIA",
    "outputId": "6021dc88-cb98-461d-dbf0-2a7091a5af72"
   },
   "outputs": [
    {
     "name": "stdout",
     "output_type": "stream",
     "text": [
      "[135, 88, 29, 23, 27, 26, 133, 28, 24, 21, 75, 35, 141, 71, 17, 33, 38, 97, 60, 76, 25, 3, 39, 19, 9, 68, 67, 146, 80, 106, 40, 52, 14, 90, 20, 70, 0, 10, 89, 102, 140, 7, 50, 134, 44, 30, 51, 145, 53, 147, 142, 36, 11, 59, 13, 148, 41, 48, 96, 104, 37, 124, 79, 143, 15, 66, 169, 6, 107, 110, 95, 100, 164, 92, 131, 101, 93, 129, 58, 156, 1, 105, 83, 43, 99, 165, 64, 150, 87, 34]\n",
      "['T1C_glszm_GrayLevelVariance', 'T2_shape_Sphericity', 'T2_glcm_Idn', 'T2_glcm_DifferenceAverage', 'T2_glcm_Idm', 'T2_glcm_Id', 'T1C_glszm_GrayLevelNonUniformity', 'T2_glcm_Idmn', 'T2_glcm_DifferenceEntropy', 'T2_glcm_Contrast', 'T2_ngtdm_Complexity', 'T2_glcm_JointEntropy', 'T1C_glszm_SizeZoneNonUniformity', 'T2_glrlm_ShortRunHighGrayLevelEmphasis', 'T2_glcm_Autocorrelation', 'T2_glcm_JointAverage', 'T2_glcm_SumAverage', 'T1C_firstorder_Kurtosis', 'T2_glrlm_HighGrayLevelRunEmphasis', 'T2_ngtdm_Contrast', 'T2_glcm_DifferenceVariance', 'T2_firstorder_Entropy', 'T2_glcm_SumEntropy', 'T2_glcm_ClusterShade', 'T2_firstorder_Median', 'T2_glrlm_RunPercentage', 'T2_glrlm_RunLengthNonUniformityNormalized', 'T1C_glszm_ZoneEntropy', 'T2_shape_LeastAxisLength', 'T1C_firstorder_Skewness', 'T2_glcm_SumSquares', 'T2_glszm_SmallAreaHighGrayLevelEmphasis', 'T2_firstorder_Skewness', 'T2_shape_SurfaceVolumeRatio', 'T2_glcm_ClusterTendency', 'T2_glrlm_ShortRunEmphasis', 'T2_firstorder_10Percentile', 'T2_firstorder_Minimum', 'T2_shape_SurfaceArea', 'T1C_firstorder_Minimum', 'T1C_glszm_LowGrayLevelZoneEmphasis', 'T2_firstorder_Mean', 'T2_glszm_SizeZoneNonUniformityNormalized', 'T1C_glszm_GrayLevelNonUniformityNormalized', 'T2_glszm_HighGrayLevelZoneEmphasis', 'T2_glcm_Imc1', 'T2_glszm_SmallAreaEmphasis', 'T1C_glszm_SmallAreaLowGrayLevelEmphasis', 'T2_glszm_SmallAreaLowGrayLevelEmphasis', 'T1C_glszm_ZonePercentage', 'T1C_glszm_SizeZoneNonUniformityNormalized', 'T2_glcm_MCC', 'T2_firstorder_Range', 'T2_glrlm_GrayLevelVariance', 'T2_firstorder_RootMeanSquared', 'T1C_glszm_ZoneVariance', 'T2_glszm_GrayLevelNonUniformity', 'T2_glszm_LowGrayLevelZoneEmphasis', 'T1C_firstorder_InterquartileRange', 'T1C_firstorder_RobustMeanAbsoluteDeviation', 'T2_glcm_MaximumProbability', 'T1C_glcm_InverseVariance', 'T2_shape_Flatness', 'T1C_glszm_SmallAreaEmphasis', 'T2_firstorder_Uniformity', 'T2_glrlm_RunLengthNonUniformity', 'T1C_ngtdm_Strength', 'T2_firstorder_Maximum', 'T1C_firstorder_Uniformity', 'T1C_glcm_ClusterProminence', 'T1C_firstorder_Entropy', 'T1C_firstorder_MeanAbsoluteDeviation', 'T1C_glrlm_ShortRunLowGrayLevelEmphasis', 'T1C_firstorder_10Percentile', 'T1C_glcm_SumEntropy', 'T1C_firstorder_Median', 'T1C_firstorder_90Percentile', 'T1C_glcm_MaximumProbability', 'T2_glrlm_GrayLevelNonUniformityNormalized', 'T1C_glrlm_LowGrayLevelRunEmphasis', 'T2_firstorder_90Percentile', 'T1C_firstorder_RootMeanSquared', 'T2_shape_Maximum2DDiameterRow', 'T2_glszm_GrayLevelVariance', 'T1C_firstorder_Mean', 'T1C_ngtdm_Busyness', 'T2_glrlm_LowGrayLevelRunEmphasis', 'T1C_glrlm_GrayLevelNonUniformityNormalized', 'T2_shape_MinorAxisLength', 'T2_glcm_JointEnergy']\n"
     ]
    },
    {
     "data": {
      "text/plain": [
       "0.6158536585365854"
      ]
     },
     "execution_count": 243,
     "metadata": {
      "tags": []
     },
     "output_type": "execute_result"
    }
   ],
   "source": [
    "selected_features_F=list(scores_F.describe().loc['mean'].sort_values(ascending=[False]).head(90).index)\n",
    "print(selected_features_F)\n",
    "selected_features_name_F=[]\n",
    "for i in selected_features_F:\n",
    "    selected_features_name_F.append(features_names[i])\n",
    "print(selected_features_name_F)\n",
    "\n",
    "y_pred=F_Ada.predict(X_val)\n",
    "accuracy_score(y_val, y_pred)"
   ]
  },
  {
   "cell_type": "code",
   "execution_count": null,
   "metadata": {
    "id": "d_q0hvLImdIA",
    "outputId": "001106ce-fbeb-47f5-eee4-c466b344892b"
   },
   "outputs": [
    {
     "name": "stdout",
     "output_type": "stream",
     "text": [
      "34\n"
     ]
    }
   ],
   "source": [
    "#RFECV\n",
    "from sklearn.feature_selection import RFECV\n",
    "from sklearn.model_selection import StratifiedKFold\n",
    "\n",
    "Ada=AdaBoostClassifier(DecisionTreeClassifier(max_depth=1), learning_rate=0.5, n_estimators=200)\n",
    "rfe = RFECV(estimator=Ada, step=1, cv=5)\n",
    "\n",
    "rfe.fit(X_train, y_train)\n",
    "print(rfe.n_features_)\n",
    "\n"
   ]
  },
  {
   "cell_type": "code",
   "execution_count": null,
   "metadata": {
    "id": "ldl-UgpcmdIA",
    "outputId": "1813e830-4c11-47e1-85f2-e5c0a61b1b07"
   },
   "outputs": [
    {
     "data": {
      "text/plain": [
       "['T2_firstorder_10Percentile',\n",
       " 'T2_firstorder_Minimum',\n",
       " 'T2_firstorder_Range',\n",
       " 'T2_glcm_ClusterShade',\n",
       " 'T2_glcm_InverseVariance',\n",
       " 'T2_glcm_MCC',\n",
       " 'T2_glcm_MaximumProbability',\n",
       " 'T2_glcm_SumAverage',\n",
       " 'T2_glszm_HighGrayLevelZoneEmphasis',\n",
       " 'T2_glszm_SizeZoneNonUniformityNormalized',\n",
       " 'T2_glszm_SmallAreaHighGrayLevelEmphasis',\n",
       " 'T2_glszm_ZonePercentage',\n",
       " 'T2_glrlm_LongRunLowGrayLevelEmphasis',\n",
       " 'T2_shape_LeastAxisLength',\n",
       " 'T2_shape_Maximum2DDiameterColumn',\n",
       " 'T2_shape_Maximum2DDiameterRow',\n",
       " 'T2_shape_Sphericity',\n",
       " 'T1C_firstorder_90Percentile',\n",
       " 'T1C_firstorder_Kurtosis',\n",
       " 'T1C_firstorder_Maximum',\n",
       " 'T1C_firstorder_MeanAbsoluteDeviation',\n",
       " 'T1C_firstorder_Range',\n",
       " 'T1C_firstorder_RobustMeanAbsoluteDeviation',\n",
       " 'T1C_firstorder_RootMeanSquared',\n",
       " 'T1C_firstorder_Uniformity',\n",
       " 'T1C_firstorder_Variance',\n",
       " 'T1C_glcm_ClusterProminence',\n",
       " 'T1C_glcm_Imc1',\n",
       " 'T1C_glcm_InverseVariance',\n",
       " 'T1C_glcm_MaximumProbability',\n",
       " 'T1C_glcm_SumEntropy',\n",
       " 'T1C_glszm_GrayLevelNonUniformityNormalized',\n",
       " 'T1C_glszm_GrayLevelVariance',\n",
       " 'T1C_glszm_ZoneEntropy']"
      ]
     },
     "execution_count": 245,
     "metadata": {
      "tags": []
     },
     "output_type": "execute_result"
    }
   ],
   "source": [
    "selected_features_name_RFE=[b for a, b in zip(rfe.support_, features_names) if a]\n",
    "selected_features_name_RFE"
   ]
  },
  {
   "cell_type": "code",
   "execution_count": null,
   "metadata": {
    "id": "yCEAxq93mdIB",
    "outputId": "ae2bb2ff-6161-4bdf-ce8b-7d257344874a"
   },
   "outputs": [
    {
     "data": {
      "text/plain": [
       "0.6341463414634146"
      ]
     },
     "execution_count": 246,
     "metadata": {
      "tags": []
     },
     "output_type": "execute_result"
    }
   ],
   "source": [
    "rfe.score(X_val, y_val)"
   ]
  },
  {
   "cell_type": "code",
   "execution_count": null,
   "metadata": {
    "id": "y06HoW_imdIB",
    "outputId": "aac15fe7-1346-404e-a736-653e60bda56e",
    "scrolled": true
   },
   "outputs": [
    {
     "name": "stderr",
     "output_type": "stream",
     "text": [
      "C:\\Users\\Bio\\Anaconda3\\lib\\site-packages\\sklearn\\linear_model\\logistic.py:432: FutureWarning: Default solver will be changed to 'lbfgs' in 0.22. Specify a solver to silence this warning.\n",
      "  FutureWarning)\n",
      "C:\\Users\\Bio\\Anaconda3\\lib\\site-packages\\sklearn\\linear_model\\logistic.py:469: FutureWarning: Default multi_class will be changed to 'auto' in 0.22. Specify the multi_class option to silence this warning.\n",
      "  \"this warning.\", FutureWarning)\n"
     ]
    },
    {
     "data": {
      "text/plain": [
       "(385, 78)"
      ]
     },
     "execution_count": 247,
     "metadata": {
      "tags": []
     },
     "output_type": "execute_result"
    }
   ],
   "source": [
    "## L1-based feature selection from model\n",
    "\n",
    "from sklearn.linear_model import LogisticRegression\n",
    "from sklearn.feature_selection import SelectFromModel\n",
    "\n",
    "selector = SelectFromModel(estimator=LogisticRegression())\n",
    "selector.fit(X_train, y_train)\n",
    "X_new = selector.transform(X_train)\n",
    "\n",
    "X_new.shape"
   ]
  },
  {
   "cell_type": "code",
   "execution_count": null,
   "metadata": {
    "id": "gIMlzmX5mdIB",
    "outputId": "9a9cd688-7925-440a-a066-3c8079df6ed3"
   },
   "outputs": [
    {
     "data": {
      "text/plain": [
       "0.6646341463414634"
      ]
     },
     "execution_count": 248,
     "metadata": {
      "tags": []
     },
     "output_type": "execute_result"
    }
   ],
   "source": [
    "y_pred=selector.estimator_.predict(X_val)\n",
    "accuracy_score(y_val, y_pred)"
   ]
  },
  {
   "cell_type": "code",
   "execution_count": null,
   "metadata": {
    "id": "l2K7iYarmdIB",
    "outputId": "1b4ab8ef-391b-4c9e-93d7-d00d751ba081"
   },
   "outputs": [
    {
     "data": {
      "text/plain": [
       "['T2_firstorder_10Percentile',\n",
       " 'T2_firstorder_Energy',\n",
       " 'T2_firstorder_Median',\n",
       " 'T2_firstorder_RobustMeanAbsoluteDeviation',\n",
       " 'T2_firstorder_Variance',\n",
       " 'T2_glcm_Imc2',\n",
       " 'T2_glcm_MCC',\n",
       " 'T2_glcm_MaximumProbability',\n",
       " 'T2_glszm_GrayLevelNonUniformity',\n",
       " 'T2_glszm_GrayLevelVariance',\n",
       " 'T2_glszm_HighGrayLevelZoneEmphasis',\n",
       " 'T2_glszm_LowGrayLevelZoneEmphasis',\n",
       " 'T2_glszm_SmallAreaEmphasis',\n",
       " 'T2_glszm_SmallAreaLowGrayLevelEmphasis',\n",
       " 'T2_glszm_ZoneEntropy',\n",
       " 'T2_glszm_ZonePercentage',\n",
       " 'T2_glrlm_GrayLevelNonUniformity',\n",
       " 'T2_glrlm_GrayLevelVariance',\n",
       " 'T2_glrlm_LowGrayLevelRunEmphasis',\n",
       " 'T2_glrlm_RunEntropy',\n",
       " 'T2_glrlm_RunLengthNonUniformity',\n",
       " 'T2_glrlm_ShortRunEmphasis',\n",
       " 'T2_glrlm_ShortRunLowGrayLevelEmphasis',\n",
       " 'T2_ngtdm_Complexity',\n",
       " 'T2_ngtdm_Contrast',\n",
       " 'T2_shape_LeastAxisLength',\n",
       " 'T2_shape_Maximum2DDiameterColumn',\n",
       " 'T2_shape_Maximum2DDiameterRow',\n",
       " 'T2_shape_MeshVolume',\n",
       " 'T2_shape_MinorAxisLength',\n",
       " 'T2_shape_Sphericity',\n",
       " 'T2_shape_SurfaceVolumeRatio',\n",
       " 'T2_shape_VoxelVolume',\n",
       " 'T1C_firstorder_10Percentile',\n",
       " 'T1C_firstorder_Energy',\n",
       " 'T1C_firstorder_Entropy',\n",
       " 'T1C_firstorder_InterquartileRange',\n",
       " 'T1C_firstorder_Kurtosis',\n",
       " 'T1C_firstorder_Maximum',\n",
       " 'T1C_firstorder_Minimum',\n",
       " 'T1C_firstorder_Range',\n",
       " 'T1C_firstorder_Skewness',\n",
       " 'T1C_firstorder_Uniformity',\n",
       " 'T1C_firstorder_Variance',\n",
       " 'T1C_glcm_ClusterProminence',\n",
       " 'T1C_glcm_Contrast',\n",
       " 'T1C_glcm_DifferenceEntropy',\n",
       " 'T1C_glcm_DifferenceVariance',\n",
       " 'T1C_glcm_Idmn',\n",
       " 'T1C_glcm_Imc1',\n",
       " 'T1C_glcm_InverseVariance',\n",
       " 'T1C_glcm_JointEnergy',\n",
       " 'T1C_glcm_JointEntropy',\n",
       " 'T1C_glcm_MCC',\n",
       " 'T1C_glcm_MaximumProbability',\n",
       " 'T1C_glcm_SumEntropy',\n",
       " 'T1C_glszm_GrayLevelNonUniformity',\n",
       " 'T1C_glszm_GrayLevelNonUniformityNormalized',\n",
       " 'T1C_glszm_GrayLevelVariance',\n",
       " 'T1C_glszm_HighGrayLevelZoneEmphasis',\n",
       " 'T1C_glszm_LowGrayLevelZoneEmphasis',\n",
       " 'T1C_glszm_SmallAreaHighGrayLevelEmphasis',\n",
       " 'T1C_glszm_SmallAreaLowGrayLevelEmphasis',\n",
       " 'T1C_glszm_ZoneEntropy',\n",
       " 'T1C_glszm_ZonePercentage',\n",
       " 'T1C_glszm_ZoneVariance',\n",
       " 'T1C_glrlm_GrayLevelVariance',\n",
       " 'T1C_glrlm_HighGrayLevelRunEmphasis',\n",
       " 'T1C_glrlm_LongRunLowGrayLevelEmphasis',\n",
       " 'T1C_glrlm_LowGrayLevelRunEmphasis',\n",
       " 'T1C_glrlm_RunEntropy',\n",
       " 'T1C_glrlm_RunLengthNonUniformityNormalized',\n",
       " 'T1C_glrlm_ShortRunEmphasis',\n",
       " 'T1C_glrlm_ShortRunHighGrayLevelEmphasis',\n",
       " 'T1C_glrlm_ShortRunLowGrayLevelEmphasis',\n",
       " 'T1C_ngtdm_Busyness',\n",
       " 'T1C_ngtdm_Complexity',\n",
       " 'T1C_ngtdm_Contrast']"
      ]
     },
     "execution_count": 249,
     "metadata": {
      "tags": []
     },
     "output_type": "execute_result"
    }
   ],
   "source": [
    "selected_features_name_l1=[b for a, b in zip(selector.get_support(), features_names) if a]\n",
    "selected_features_name_l1"
   ]
  },
  {
   "cell_type": "code",
   "execution_count": null,
   "metadata": {
    "id": "VICqKo98mdIC",
    "outputId": "21ed964c-d5fa-4993-85ae-efc35e25badb"
   },
   "outputs": [
    {
     "name": "stdout",
     "output_type": "stream",
     "text": [
      "(385, 67)\n"
     ]
    }
   ],
   "source": [
    "## tree-based selection from model\n",
    "\n",
    "from sklearn.ensemble import ExtraTreesClassifier\n",
    "\n",
    "clf = ExtraTreesClassifier(n_estimators=50)\n",
    "treemodel = SelectFromModel(clf)\n",
    "treemodel.fit(X_train, y_train)\n",
    "\n",
    "X_new = treemodel.transform(X_train)\n",
    "print(X_new.shape)\n"
   ]
  },
  {
   "cell_type": "code",
   "execution_count": null,
   "metadata": {
    "id": "DQQb3dfBmdIC",
    "outputId": "d60e1378-0a9d-4ff6-974b-58b907c2d56c"
   },
   "outputs": [
    {
     "data": {
      "text/plain": [
       "['T2_firstorder_10Percentile',\n",
       " 'T2_firstorder_90Percentile',\n",
       " 'T2_firstorder_Mean',\n",
       " 'T2_firstorder_Median',\n",
       " 'T2_firstorder_Minimum',\n",
       " 'T2_firstorder_Skewness',\n",
       " 'T2_glcm_Autocorrelation',\n",
       " 'T2_glcm_ClusterShade',\n",
       " 'T2_glcm_Contrast',\n",
       " 'T2_glcm_DifferenceAverage',\n",
       " 'T2_glcm_DifferenceEntropy',\n",
       " 'T2_glcm_Id',\n",
       " 'T2_glcm_Idm',\n",
       " 'T2_glcm_Idmn',\n",
       " 'T2_glcm_Idn',\n",
       " 'T2_glcm_InverseVariance',\n",
       " 'T2_glcm_JointAverage',\n",
       " 'T2_glcm_JointEntropy',\n",
       " 'T2_glcm_MCC',\n",
       " 'T2_glcm_SumAverage',\n",
       " 'T2_glszm_GrayLevelNonUniformityNormalized',\n",
       " 'T2_glszm_GrayLevelVariance',\n",
       " 'T2_glszm_HighGrayLevelZoneEmphasis',\n",
       " 'T2_glszm_LargeAreaLowGrayLevelEmphasis',\n",
       " 'T2_glszm_LowGrayLevelZoneEmphasis',\n",
       " 'T2_glszm_SmallAreaEmphasis',\n",
       " 'T2_glszm_ZonePercentage',\n",
       " 'T2_glrlm_HighGrayLevelRunEmphasis',\n",
       " 'T2_glrlm_LowGrayLevelRunEmphasis',\n",
       " 'T2_glrlm_RunLengthNonUniformityNormalized',\n",
       " 'T2_glrlm_ShortRunHighGrayLevelEmphasis',\n",
       " 'T2_shape_LeastAxisLength',\n",
       " 'T2_shape_MajorAxisLength',\n",
       " 'T2_shape_Maximum2DDiameterRow',\n",
       " 'T2_shape_Maximum2DDiameterSlice',\n",
       " 'T2_shape_Maximum3DDiameter',\n",
       " 'T2_shape_MinorAxisLength',\n",
       " 'T2_shape_Sphericity',\n",
       " 'T2_shape_SurfaceArea',\n",
       " 'T2_shape_SurfaceVolumeRatio',\n",
       " 'T1C_firstorder_90Percentile',\n",
       " 'T1C_firstorder_Energy',\n",
       " 'T1C_firstorder_InterquartileRange',\n",
       " 'T1C_firstorder_Kurtosis',\n",
       " 'T1C_firstorder_Maximum',\n",
       " 'T1C_firstorder_Mean',\n",
       " 'T1C_firstorder_MeanAbsoluteDeviation',\n",
       " 'T1C_firstorder_Minimum',\n",
       " 'T1C_firstorder_Range',\n",
       " 'T1C_firstorder_RobustMeanAbsoluteDeviation',\n",
       " 'T1C_firstorder_Skewness',\n",
       " 'T1C_firstorder_Uniformity',\n",
       " 'T1C_firstorder_Variance',\n",
       " 'T1C_glcm_Autocorrelation',\n",
       " 'T1C_glcm_ClusterTendency',\n",
       " 'T1C_glcm_InverseVariance',\n",
       " 'T1C_glszm_GrayLevelNonUniformity',\n",
       " 'T1C_glszm_GrayLevelNonUniformityNormalized',\n",
       " 'T1C_glszm_GrayLevelVariance',\n",
       " 'T1C_glszm_LowGrayLevelZoneEmphasis',\n",
       " 'T1C_glszm_SizeZoneNonUniformity',\n",
       " 'T1C_glszm_SmallAreaLowGrayLevelEmphasis',\n",
       " 'T1C_glszm_ZoneEntropy',\n",
       " 'T1C_glszm_ZonePercentage',\n",
       " 'T1C_glrlm_GrayLevelNonUniformityNormalized',\n",
       " 'T1C_glrlm_GrayLevelVariance',\n",
       " 'T1C_ngtdm_Contrast']"
      ]
     },
     "execution_count": 251,
     "metadata": {
      "tags": []
     },
     "output_type": "execute_result"
    }
   ],
   "source": [
    "selected_features_name_tree=[b for a, b in zip(treemodel.get_support(), features_names) if a]\n",
    "selected_features_name_tree"
   ]
  },
  {
   "cell_type": "code",
   "execution_count": null,
   "metadata": {
    "id": "HlJ8RApImdIC",
    "outputId": "cee9a5c4-162e-4627-91ce-5d5f3f69974e"
   },
   "outputs": [
    {
     "data": {
      "text/plain": [
       "0.6524390243902439"
      ]
     },
     "execution_count": 252,
     "metadata": {
      "tags": []
     },
     "output_type": "execute_result"
    }
   ],
   "source": [
    "y_pred=treemodel.estimator_.predict(X_val)\n",
    "accuracy_score(y_val, y_pred)"
   ]
  },
  {
   "cell_type": "markdown",
   "metadata": {
    "id": "-qwCtpPPmdIC"
   },
   "source": [
    "# frequently selected features "
   ]
  },
  {
   "cell_type": "code",
   "execution_count": null,
   "metadata": {
    "colab": {
     "base_uri": "https://localhost:8080/",
     "height": 249
    },
    "id": "lgM-semxmdID",
    "outputId": "7a568706-726c-477a-f134-b88cbb0af357"
   },
   "outputs": [
    {
     "ename": "NameError",
     "evalue": "ignored",
     "output_type": "error",
     "traceback": [
      "\u001b[0;31m---------------------------------------------------------------------------\u001b[0m",
      "\u001b[0;31mNameError\u001b[0m                                 Traceback (most recent call last)",
      "\u001b[0;32m<ipython-input-9-798f2ce17f61>\u001b[0m in \u001b[0;36m<module>\u001b[0;34m()\u001b[0m\n\u001b[1;32m      1\u001b[0m \u001b[0mall_selected_features\u001b[0m\u001b[0;34m=\u001b[0m\u001b[0mdict\u001b[0m\u001b[0;34m(\u001b[0m\u001b[0;34m)\u001b[0m\u001b[0;34m\u001b[0m\u001b[0;34m\u001b[0m\u001b[0m\n\u001b[0;32m----> 2\u001b[0;31m \u001b[0;32mfor\u001b[0m \u001b[0mi\u001b[0m \u001b[0;32min\u001b[0m \u001b[0;34m[\u001b[0m\u001b[0mselected_features_name_MI\u001b[0m\u001b[0;34m,\u001b[0m \u001b[0mselected_features_name_F\u001b[0m\u001b[0;34m,\u001b[0m \u001b[0mselected_features_name_RFE\u001b[0m\u001b[0;34m,\u001b[0m \u001b[0mselected_features_name_l1\u001b[0m\u001b[0;34m,\u001b[0m \u001b[0mselected_features_name_tree\u001b[0m\u001b[0;34m]\u001b[0m\u001b[0;34m:\u001b[0m\u001b[0;34m\u001b[0m\u001b[0;34m\u001b[0m\u001b[0m\n\u001b[0m\u001b[1;32m      3\u001b[0m     \u001b[0;32mfor\u001b[0m \u001b[0mfeature\u001b[0m \u001b[0;32min\u001b[0m \u001b[0mi\u001b[0m\u001b[0;34m:\u001b[0m\u001b[0;34m\u001b[0m\u001b[0;34m\u001b[0m\u001b[0m\n\u001b[1;32m      4\u001b[0m         \u001b[0mall_selected_features\u001b[0m\u001b[0;34m[\u001b[0m\u001b[0mfeature\u001b[0m\u001b[0;34m]\u001b[0m \u001b[0;34m=\u001b[0m \u001b[0mall_selected_features\u001b[0m\u001b[0;34m.\u001b[0m\u001b[0mget\u001b[0m\u001b[0;34m(\u001b[0m\u001b[0mfeature\u001b[0m\u001b[0;34m,\u001b[0m\u001b[0;36m0\u001b[0m\u001b[0;34m)\u001b[0m \u001b[0;34m+\u001b[0m \u001b[0;36m1\u001b[0m\u001b[0;34m\u001b[0m\u001b[0;34m\u001b[0m\u001b[0m\n\u001b[1;32m      5\u001b[0m \u001b[0mall_selected_features\u001b[0m\u001b[0;34m\u001b[0m\u001b[0;34m\u001b[0m\u001b[0m\n",
      "\u001b[0;31mNameError\u001b[0m: name 'selected_features_name_MI' is not defined"
     ]
    }
   ],
   "source": [
    "all_selected_features=dict()\n",
    "for i in [selected_features_name_MI, selected_features_name_F, selected_features_name_RFE, selected_features_name_l1, selected_features_name_tree]:\n",
    "    for feature in i:\n",
    "        all_selected_features[feature] = all_selected_features.get(feature,0) + 1\n",
    "all_selected_features"
   ]
  },
  {
   "cell_type": "code",
   "execution_count": null,
   "metadata": {
    "id": "jwJ1idHrmdID"
   },
   "outputs": [],
   "source": [
    "frequent_features=dict((k, v) for k, v in all_selected_features.items() if v >= 4)\n",
    "frequent_features={k: v for k, v in sorted(frequent_features.items(), key=lambda item: item[1])}\n",
    "frequent_features_list=list(frequent_features.keys())\n",
    "frequent_features=pd.DataFrame.from_dict(frequent_features, orient='index')"
   ]
  },
  {
   "cell_type": "code",
   "execution_count": null,
   "metadata": {
    "colab": {
     "base_uri": "https://localhost:8080/",
     "height": 32
    },
    "id": "LR07HUWOmdIE",
    "outputId": "0b6612af-2ef2-44e1-dba3-456f7d07ff03"
   },
   "outputs": [
    {
     "data": {
      "text/html": [
       "<div>\n",
       "<style scoped>\n",
       "    .dataframe tbody tr th:only-of-type {\n",
       "        vertical-align: middle;\n",
       "    }\n",
       "\n",
       "    .dataframe tbody tr th {\n",
       "        vertical-align: top;\n",
       "    }\n",
       "\n",
       "    .dataframe thead th {\n",
       "        text-align: right;\n",
       "    }\n",
       "</style>\n",
       "<table border=\"1\" class=\"dataframe\">\n",
       "  <thead>\n",
       "    <tr style=\"text-align: right;\">\n",
       "      <th></th>\n",
       "    </tr>\n",
       "  </thead>\n",
       "  <tbody>\n",
       "  </tbody>\n",
       "</table>\n",
       "</div>"
      ],
      "text/plain": [
       "Empty DataFrame\n",
       "Columns: []\n",
       "Index: []"
      ]
     },
     "execution_count": 11,
     "metadata": {
      "tags": []
     },
     "output_type": "execute_result"
    }
   ],
   "source": [
    "frequent_features"
   ]
  },
  {
   "cell_type": "code",
   "execution_count": null,
   "metadata": {
    "id": "tIcxb_oymdIE"
   },
   "outputs": [],
   "source": [
    "frequent_features.to_csv('frequent_features.csv')"
   ]
  },
  {
   "cell_type": "markdown",
   "metadata": {
    "id": "jUhuGusQmdIE"
   },
   "source": [
    "# feature visualization"
   ]
  },
  {
   "cell_type": "code",
   "execution_count": null,
   "metadata": {
    "id": "WLzs5hTOmdIE"
   },
   "outputs": [],
   "source": [
    "alldata=pd.read_csv('alldata.csv')\n",
    "X = alldata.iloc[:, 2:]\n",
    "y = alldata['target']\n",
    "\n",
    "np.random.seed(42)\n",
    "shuffled_indices=np.random.permutation(X.shape[0])\n",
    "test_size=int(0.3*X.shape[0])\n",
    "test_indices=shuffled_indices[:test_size]\n",
    "train_indices=shuffled_indices[test_size:]\n",
    "X_train=X.iloc[train_indices]\n",
    "y_train=y.iloc[train_indices]\n",
    "X_val=X.iloc[test_indices]\n",
    "y_val=y.iloc[test_indices]\n",
    "\n",
    "frequent_features = pd.read_csv('frequent_features.csv')"
   ]
  },
  {
   "cell_type": "code",
   "execution_count": null,
   "metadata": {
    "id": "CuyLGTvJmdIE",
    "outputId": "05f196ba-674f-4967-f82e-0d5249282e40"
   },
   "outputs": [
    {
     "data": {
      "image/png": "[encoded data removed]",
      "text/plain": [
       "<Figure size 432x288 with 1 Axes>"
      ]
     },
     "metadata": {
      "needs_background": "light",
      "tags": []
     },
     "output_type": "display_data"
    }
   ],
   "source": [
    "\n",
    "alldata_GBM=X_train.loc[X_train['target']=='GBM',:].iloc[:, 0:186]\n",
    "alldata_lymphoma=X_train.loc[X_train['target']=='lymphoma',:].iloc[:, 0:186]\n",
    "alldata_meta=X_train.loc[X_train['target']=='meta',:].iloc[:, 0:186]\n",
    "\n",
    "frequent_features_list=list(frequent_features.iloc[:,0])\n",
    "\n",
    "GBM_selected_summary=alldata_GBM[frequent_features_list].describe()\n",
    "lymphoma_selected_summary=alldata_lymphoma[frequent_features_list].describe()\n",
    "meta_selected_summary=alldata_meta[frequent_features_list].describe()\n",
    "\n",
    "GBM_selected_summary.to_csv('GBM_selected_summary.csv')\n",
    "lymphoma_selected_summary.to_csv('lymphoma_selected_summary.csv')\n",
    "meta_selected_summary.to_csv('meta_selected_summary.csv')\n",
    "\n",
    "x = frequent_features_list\n",
    "G = GBM_selected_summary.loc['mean']\n",
    "L = lymphoma_selected_summary.loc['mean']\n",
    "M = meta_selected_summary.loc['mean']\n",
    "\n",
    "plt.plot(x, G, label='GBM')\n",
    "plt.plot(x, L, label='lymphoma')\n",
    "plt.plot(x, M, label='meta')\n",
    "plt.xlabel('frequently_selected_features')\n",
    "plt.ylabel('value')\n",
    "plt.legend()\n",
    "plt.xticks(rotation=90)\n",
    "plt.show()"
   ]
  }
 ],
 "metadata": {
  "colab": {
   "collapsed_sections": [
    "-qwCtpPPmdIC",
    "jUhuGusQmdIE"
   ],
   "name": "JBO-GLM-1)feature_selection.ipynb의 사본",
   "provenance": []
  },
  "kernelspec": {
   "display_name": "Python 3",
   "language": "python",
   "name": "python3"
  },
  "language_info": {
   "codemirror_mode": {
    "name": "ipython",
    "version": 3
   },
   "file_extension": ".py",
   "mimetype": "text/x-python",
   "name": "python",
   "nbconvert_exporter": "python",
   "pygments_lexer": "ipython3",
   "version": "3.8.5"
  },
  "widgets": {
   "application/vnd.jupyter.widget-state+json": {
    "3a9cba127cda48f7a9941f4bcbf7c1af": {
     "model_module": "@jupyter-widgets/base",
     "model_name": "LayoutModel",
     "state": {
      "_model_module": "@jupyter-widgets/base",
      "_model_module_version": "1.2.0",
      "_model_name": "LayoutModel",
      "_view_count": null,
      "_view_module": "@jupyter-widgets/base",
      "_view_module_version": "1.2.0",
      "_view_name": "LayoutView",
      "align_content": null,
      "align_items": null,
      "align_self": null,
      "border": null,
      "bottom": null,
      "display": null,
      "flex": null,
      "flex_flow": null,
      "grid_area": null,
      "grid_auto_columns": null,
      "grid_auto_flow": null,
      "grid_auto_rows": null,
      "grid_column": null,
      "grid_gap": null,
      "grid_row": null,
      "grid_template_areas": null,
      "grid_template_columns": null,
      "grid_template_rows": null,
      "height": null,
      "justify_content": null,
      "justify_items": null,
      "left": null,
      "margin": null,
      "max_height": null,
      "max_width": null,
      "min_height": null,
      "min_width": null,
      "object_fit": null,
      "object_position": null,
      "order": null,
      "overflow": null,
      "overflow_x": null,
      "overflow_y": null,
      "padding": null,
      "right": null,
      "top": null,
      "visibility": null,
      "width": null
     }
    },
    "48b75600377d4719a82af7344894e83a": {
     "model_module": "@jupyter-widgets/controls",
     "model_name": "FloatProgressModel",
     "state": {
      "_dom_classes": [],
      "_model_module": "@jupyter-widgets/controls",
      "_model_module_version": "1.5.0",
      "_model_name": "FloatProgressModel",
      "_view_count": null,
      "_view_module": "@jupyter-widgets/controls",
      "_view_module_version": "1.5.0",
      "_view_name": "ProgressView",
      "bar_style": "",
      "description": "",
      "description_tooltip": null,
      "layout": "IPY_MODEL_d11790b1292a40d3bde17d75deaff10c",
      "max": 113,
      "min": 0,
      "orientation": "horizontal",
      "style": "IPY_MODEL_fa9494d3dba1496287ebc0970bfa0160",
      "value": 108
     }
    },
    "52fe795316b2492682661b84db8bc9a4": {
     "model_module": "@jupyter-widgets/base",
     "model_name": "LayoutModel",
     "state": {
      "_model_module": "@jupyter-widgets/base",
      "_model_module_version": "1.2.0",
      "_model_name": "LayoutModel",
      "_view_count": null,
      "_view_module": "@jupyter-widgets/base",
      "_view_module_version": "1.2.0",
      "_view_name": "LayoutView",
      "align_content": null,
      "align_items": null,
      "align_self": null,
      "border": null,
      "bottom": null,
      "display": null,
      "flex": null,
      "flex_flow": null,
      "grid_area": null,
      "grid_auto_columns": null,
      "grid_auto_flow": null,
      "grid_auto_rows": null,
      "grid_column": null,
      "grid_gap": null,
      "grid_row": null,
      "grid_template_areas": null,
      "grid_template_columns": null,
      "grid_template_rows": null,
      "height": null,
      "justify_content": null,
      "justify_items": null,
      "left": null,
      "margin": null,
      "max_height": null,
      "max_width": null,
      "min_height": null,
      "min_width": null,
      "object_fit": null,
      "object_position": null,
      "order": null,
      "overflow": null,
      "overflow_x": null,
      "overflow_y": null,
      "padding": null,
      "right": null,
      "top": null,
      "visibility": null,
      "width": null
     }
    },
    "6c6633fd12df448baaec29ed9ff96c6a": {
     "model_module": "@jupyter-widgets/controls",
     "model_name": "HTMLModel",
     "state": {
      "_dom_classes": [],
      "_model_module": "@jupyter-widgets/controls",
      "_model_module_version": "1.5.0",
      "_model_name": "HTMLModel",
      "_view_count": null,
      "_view_module": "@jupyter-widgets/controls",
      "_view_module_version": "1.5.0",
      "_view_name": "HTMLView",
      "description": "",
      "description_tooltip": null,
      "layout": "IPY_MODEL_3a9cba127cda48f7a9941f4bcbf7c1af",
      "placeholder": "​",
      "style": "IPY_MODEL_ac76127fdc43402bbffd10864946c8ca",
      "value": " 108/113 [00:38&lt;00:07,  1.53s/it, Get scatter matrix]"
     }
    },
    "7e905c5cd59a4d11881c639bc02f3d85": {
     "model_module": "@jupyter-widgets/controls",
     "model_name": "HBoxModel",
     "state": {
      "_dom_classes": [],
      "_model_module": "@jupyter-widgets/controls",
      "_model_module_version": "1.5.0",
      "_model_name": "HBoxModel",
      "_view_count": null,
      "_view_module": "@jupyter-widgets/controls",
      "_view_module_version": "1.5.0",
      "_view_name": "HBoxView",
      "box_style": "",
      "children": [
       "IPY_MODEL_849a8df27e784470b92d9245b2a235a2",
       "IPY_MODEL_48b75600377d4719a82af7344894e83a",
       "IPY_MODEL_6c6633fd12df448baaec29ed9ff96c6a"
      ],
      "layout": "IPY_MODEL_a9ec7ea63e1641d0934955ad7ca900c1"
     }
    },
    "8478f674bd8a4cc693b54d85b587b9f0": {
     "model_module": "@jupyter-widgets/controls",
     "model_name": "DescriptionStyleModel",
     "state": {
      "_model_module": "@jupyter-widgets/controls",
      "_model_module_version": "1.5.0",
      "_model_name": "DescriptionStyleModel",
      "_view_count": null,
      "_view_module": "@jupyter-widgets/base",
      "_view_module_version": "1.2.0",
      "_view_name": "StyleView",
      "description_width": ""
     }
    },
    "849a8df27e784470b92d9245b2a235a2": {
     "model_module": "@jupyter-widgets/controls",
     "model_name": "HTMLModel",
     "state": {
      "_dom_classes": [],
      "_model_module": "@jupyter-widgets/controls",
      "_model_module_version": "1.5.0",
      "_model_name": "HTMLModel",
      "_view_count": null,
      "_view_module": "@jupyter-widgets/controls",
      "_view_module_version": "1.5.0",
      "_view_name": "HTMLView",
      "description": "",
      "description_tooltip": null,
      "layout": "IPY_MODEL_52fe795316b2492682661b84db8bc9a4",
      "placeholder": "​",
      "style": "IPY_MODEL_8478f674bd8a4cc693b54d85b587b9f0",
      "value": "Summarize dataset:  96%"
     }
    },
    "a9ec7ea63e1641d0934955ad7ca900c1": {
     "model_module": "@jupyter-widgets/base",
     "model_name": "LayoutModel",
     "state": {
      "_model_module": "@jupyter-widgets/base",
      "_model_module_version": "1.2.0",
      "_model_name": "LayoutModel",
      "_view_count": null,
      "_view_module": "@jupyter-widgets/base",
      "_view_module_version": "1.2.0",
      "_view_name": "LayoutView",
      "align_content": null,
      "align_items": null,
      "align_self": null,
      "border": null,
      "bottom": null,
      "display": null,
      "flex": null,
      "flex_flow": null,
      "grid_area": null,
      "grid_auto_columns": null,
      "grid_auto_flow": null,
      "grid_auto_rows": null,
      "grid_column": null,
      "grid_gap": null,
      "grid_row": null,
      "grid_template_areas": null,
      "grid_template_columns": null,
      "grid_template_rows": null,
      "height": null,
      "justify_content": null,
      "justify_items": null,
      "left": null,
      "margin": null,
      "max_height": null,
      "max_width": null,
      "min_height": null,
      "min_width": null,
      "object_fit": null,
      "object_position": null,
      "order": null,
      "overflow": null,
      "overflow_x": null,
      "overflow_y": null,
      "padding": null,
      "right": null,
      "top": null,
      "visibility": null,
      "width": null
     }
    },
    "ac76127fdc43402bbffd10864946c8ca": {
     "model_module": "@jupyter-widgets/controls",
     "model_name": "DescriptionStyleModel",
     "state": {
      "_model_module": "@jupyter-widgets/controls",
      "_model_module_version": "1.5.0",
      "_model_name": "DescriptionStyleModel",
      "_view_count": null,
      "_view_module": "@jupyter-widgets/base",
      "_view_module_version": "1.2.0",
      "_view_name": "StyleView",
      "description_width": ""
     }
    },
    "d11790b1292a40d3bde17d75deaff10c": {
     "model_module": "@jupyter-widgets/base",
     "model_name": "LayoutModel",
     "state": {
      "_model_module": "@jupyter-widgets/base",
      "_model_module_version": "1.2.0",
      "_model_name": "LayoutModel",
      "_view_count": null,
      "_view_module": "@jupyter-widgets/base",
      "_view_module_version": "1.2.0",
      "_view_name": "LayoutView",
      "align_content": null,
      "align_items": null,
      "align_self": null,
      "border": null,
      "bottom": null,
      "display": null,
      "flex": null,
      "flex_flow": null,
      "grid_area": null,
      "grid_auto_columns": null,
      "grid_auto_flow": null,
      "grid_auto_rows": null,
      "grid_column": null,
      "grid_gap": null,
      "grid_row": null,
      "grid_template_areas": null,
      "grid_template_columns": null,
      "grid_template_rows": null,
      "height": null,
      "justify_content": null,
      "justify_items": null,
      "left": null,
      "margin": null,
      "max_height": null,
      "max_width": null,
      "min_height": null,
      "min_width": null,
      "object_fit": null,
      "object_position": null,
      "order": null,
      "overflow": null,
      "overflow_x": null,
      "overflow_y": null,
      "padding": null,
      "right": null,
      "top": null,
      "visibility": null,
      "width": null
     }
    },
    "fa9494d3dba1496287ebc0970bfa0160": {
     "model_module": "@jupyter-widgets/controls",
     "model_name": "ProgressStyleModel",
     "state": {
      "_model_module": "@jupyter-widgets/controls",
      "_model_module_version": "1.5.0",
      "_model_name": "ProgressStyleModel",
      "_view_count": null,
      "_view_module": "@jupyter-widgets/base",
      "_view_module_version": "1.2.0",
      "_view_name": "StyleView",
      "bar_color": null,
      "description_width": ""
     }
    }
   }
  }
 },
 "nbformat": 4,
 "nbformat_minor": 4
}
